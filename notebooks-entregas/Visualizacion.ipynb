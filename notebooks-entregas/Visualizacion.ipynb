{
 "cells": [
  {
   "cell_type": "code",
   "execution_count": 2,
   "metadata": {},
   "outputs": [],
   "source": [
    "import matplotlib.pyplot as plt\n",
    "import seaborn as sns\n",
    "import pandas as pd"
   ]
  },
  {
   "cell_type": "code",
   "execution_count": 3,
   "metadata": {},
   "outputs": [
    {
     "data": {
      "text/plain": [
       "33635"
      ]
     },
     "execution_count": 3,
     "metadata": {},
     "output_type": "execute_result"
    }
   ],
   "source": [
    "from helpers import lift_dataset\n",
    "# lift_dataset devuelve un iterador\n",
    "dataset = list(lift_dataset('../dataset/2012-07-15.original-annotation.release'))\n",
    "len(dataset)"
   ]
  },
  {
   "cell_type": "code",
   "execution_count": 4,
   "metadata": {},
   "outputs": [
    {
     "data": {
      "text/html": [
       "<div>\n",
       "<style scoped>\n",
       "    .dataframe tbody tr th:only-of-type {\n",
       "        vertical-align: middle;\n",
       "    }\n",
       "\n",
       "    .dataframe tbody tr th {\n",
       "        vertical-align: top;\n",
       "    }\n",
       "\n",
       "    .dataframe thead th {\n",
       "        text-align: right;\n",
       "    }\n",
       "</style>\n",
       "<table border=\"1\" class=\"dataframe\">\n",
       "  <thead>\n",
       "    <tr style=\"text-align: right;\">\n",
       "      <th></th>\n",
       "      <th>event_1</th>\n",
       "      <th>event_2</th>\n",
       "      <th>relationship</th>\n",
       "      <th>text</th>\n",
       "      <th>source_file</th>\n",
       "    </tr>\n",
       "  </thead>\n",
       "  <tbody>\n",
       "    <tr>\n",
       "      <th>0</th>\n",
       "      <td>EVENT=\"Admission\" 1:0 1:0</td>\n",
       "      <td>TIMEX3=\"2014-03-31\" 2:0 2:0</td>\n",
       "      <td>type=\"SIMULTANEOUS\"\\n</td>\n",
       "      <td>Admission Date : 2014-03-31</td>\n",
       "      <td>193.xml.tlink</td>\n",
       "    </tr>\n",
       "    <tr>\n",
       "      <th>1</th>\n",
       "      <td>EVENT=\"Discharge\" 3:0 3:0</td>\n",
       "      <td>TIMEX3=\"2014-04-09\" 4:0 4:0</td>\n",
       "      <td>type=\"SIMULTANEOUS\"\\n</td>\n",
       "      <td>Discharge Date : 2014-04-09</td>\n",
       "      <td>193.xml.tlink</td>\n",
       "    </tr>\n",
       "    <tr>\n",
       "      <th>2</th>\n",
       "      <td>EVENT=\"admitted\" 9:4 9:4</td>\n",
       "      <td>EVENT=\"Nantucket Cottage Hospital\" 9:11 9:13</td>\n",
       "      <td>type=\"OVERLAP\"\\n</td>\n",
       "      <td>The patient has been admitted 5 x in the past ...</td>\n",
       "      <td>193.xml.tlink</td>\n",
       "    </tr>\n",
       "    <tr>\n",
       "      <th>3</th>\n",
       "      <td>TIMEX3=\"2014-04-04\" 48:1 48:1</td>\n",
       "      <td>EVENT=\"labs\" 48:3 48:3</td>\n",
       "      <td>type=\"SIMULTANEOUS\"\\n</td>\n",
       "      <td>On 2014-04-04 , labs were as follows :</td>\n",
       "      <td>193.xml.tlink</td>\n",
       "    </tr>\n",
       "    <tr>\n",
       "      <th>4</th>\n",
       "      <td>EVENT=\"WBC\" 49:0 49:0</td>\n",
       "      <td>TIMEX3=\"2014-04-04\" 48:1 48:1</td>\n",
       "      <td>type=\"SIMULTANEOUS\"\\n</td>\n",
       "      <td>On 2014-04-04 , labs were as follows : WBC of ...</td>\n",
       "      <td>193.xml.tlink</td>\n",
       "    </tr>\n",
       "    <tr>\n",
       "      <th>5</th>\n",
       "      <td>EVENT=\"hematocrit\" 49:4 49:4</td>\n",
       "      <td>TIMEX3=\"2014-04-04\" 48:1 48:1</td>\n",
       "      <td>type=\"SIMULTANEOUS\"\\n</td>\n",
       "      <td>On 2014-04-04 , labs were as follows : WBC of ...</td>\n",
       "      <td>193.xml.tlink</td>\n",
       "    </tr>\n",
       "  </tbody>\n",
       "</table>\n",
       "</div>"
      ],
      "text/plain": [
       "                         event_1  \\\n",
       "0      EVENT=\"Admission\" 1:0 1:0   \n",
       "1      EVENT=\"Discharge\" 3:0 3:0   \n",
       "2       EVENT=\"admitted\" 9:4 9:4   \n",
       "3  TIMEX3=\"2014-04-04\" 48:1 48:1   \n",
       "4          EVENT=\"WBC\" 49:0 49:0   \n",
       "5   EVENT=\"hematocrit\" 49:4 49:4   \n",
       "\n",
       "                                        event_2           relationship  \\\n",
       "0                   TIMEX3=\"2014-03-31\" 2:0 2:0  type=\"SIMULTANEOUS\"\\n   \n",
       "1                   TIMEX3=\"2014-04-09\" 4:0 4:0  type=\"SIMULTANEOUS\"\\n   \n",
       "2  EVENT=\"Nantucket Cottage Hospital\" 9:11 9:13       type=\"OVERLAP\"\\n   \n",
       "3                        EVENT=\"labs\" 48:3 48:3  type=\"SIMULTANEOUS\"\\n   \n",
       "4                 TIMEX3=\"2014-04-04\" 48:1 48:1  type=\"SIMULTANEOUS\"\\n   \n",
       "5                 TIMEX3=\"2014-04-04\" 48:1 48:1  type=\"SIMULTANEOUS\"\\n   \n",
       "\n",
       "                                                text    source_file  \n",
       "0                        Admission Date : 2014-03-31  193.xml.tlink  \n",
       "1                        Discharge Date : 2014-04-09  193.xml.tlink  \n",
       "2  The patient has been admitted 5 x in the past ...  193.xml.tlink  \n",
       "3             On 2014-04-04 , labs were as follows :  193.xml.tlink  \n",
       "4  On 2014-04-04 , labs were as follows : WBC of ...  193.xml.tlink  \n",
       "5  On 2014-04-04 , labs were as follows : WBC of ...  193.xml.tlink  "
      ]
     },
     "execution_count": 4,
     "metadata": {},
     "output_type": "execute_result"
    }
   ],
   "source": [
    "df = pd.DataFrame(dataset)\n",
    "df.columns = ['event_1', 'event_2', 'relationship', 'text', 'source_file']\n",
    "df[:6]"
   ]
  },
  {
   "cell_type": "markdown",
   "metadata": {},
   "source": [
    "## Mostramos la cantidad de muestras por cada tipo de relacion entre eventos."
   ]
  },
  {
   "cell_type": "code",
   "execution_count": 5,
   "metadata": {},
   "outputs": [
    {
     "data": {
      "image/png": "[encoded data removed]",
      "text/plain": [
       "<Figure size 576x432 with 1 Axes>"
      ]
     },
     "metadata": {
      "needs_background": "light"
     },
     "output_type": "display_data"
    }
   ],
   "source": [
    "plt.figure(figsize=(8,6))\n",
    "ax = sns.countplot(x=\"relationship\", data=df)\n",
    "ax.set_xlabel(xlabel='Relationships', fontsize=16)\n",
    "ax.set_ylabel(ylabel='Count', fontsize=16)\n",
    "plt.xticks(rotation='vertical')\n",
    "plt.show();"
   ]
  },
  {
   "cell_type": "markdown",
   "metadata": {},
   "source": [
    "En el grafico de arriba podemos ver un desbalanceo en los datos. Tambien hay un tipo de relacion sin nombre."
   ]
  },
  {
   "cell_type": "markdown",
   "metadata": {},
   "source": [
    "## Mostramos las 20 tokens mas frecuentes."
   ]
  },
  {
   "cell_type": "code",
   "execution_count": 6,
   "metadata": {},
   "outputs": [],
   "source": [
    "import spacy\n",
    "import spacy.attrs\n",
    "from collections import Counter\n",
    "spacy_nlp = spacy.load('en_core_web_sm', disable=[\"tagger\", \"parser\", \"ner\"])\n",
    "df['text_as_doc'] = df['text'].apply(lambda x: spacy_nlp(x))\n",
    "df['text_tokens'] = df['text_as_doc'].apply(lambda doc: [token.text for token in doc if token.is_punct == False])\n",
    "words = []\n",
    "for tokens in df['text_tokens']:\n",
    "  words.extend(tokens)\n",
    "word_freq = Counter(words)\n",
    "common_words = [x[0] for x in word_freq.most_common(20)]\n",
    "common_words_count = [x[1] for x in word_freq.most_common(20)]"
   ]
  },
  {
   "cell_type": "code",
   "execution_count": 7,
   "metadata": {},
   "outputs": [
    {
     "data": {
      "image/png": "[encoded data removed]",
      "text/plain": [
       "<Figure size 432x288 with 1 Axes>"
      ]
     },
     "metadata": {
      "needs_background": "light"
     },
     "output_type": "display_data"
    }
   ],
   "source": [
    "ax = sns.barplot(x=common_words, y=common_words_count)\n",
    "ax.set_xlabel(xlabel='Tokens', fontsize=16)\n",
    "ax.set_ylabel(ylabel='Count', fontsize=16)\n",
    "plt.xticks(rotation='vertical')\n",
    "plt.show();"
   ]
  },
  {
   "cell_type": "markdown",
   "metadata": {},
   "source": [
    "En el grafico de arriba podemos ver que como es esperado las \"stop words\" son las mas frecuentes."
   ]
  },
  {
   "cell_type": "markdown",
   "metadata": {},
   "source": [
    "## Metricas sobre la cantidad de tokens de cada ejemplo"
   ]
  },
  {
   "cell_type": "code",
   "execution_count": 8,
   "metadata": {},
   "outputs": [
    {
     "data": {
      "text/plain": [
       "count    33635.000000\n",
       "mean        22.887885\n",
       "std         11.972122\n",
       "min          1.000000\n",
       "25%         14.000000\n",
       "50%         21.000000\n",
       "75%         29.000000\n",
       "max        123.000000\n",
       "Name: text_tokens_len, dtype: float64"
      ]
     },
     "execution_count": 8,
     "metadata": {},
     "output_type": "execute_result"
    }
   ],
   "source": [
    "df['text_tokens_len'] = df['text_tokens'].apply(lambda x: len(x))\n",
    "df['text_tokens_len'].describe()"
   ]
  },
  {
   "cell_type": "markdown",
   "metadata": {},
   "source": [
    "Estas metricas las podremos usar para luego saber que ventana utilizar en embeddings po ejemplo."
   ]
  },
  {
   "cell_type": "markdown",
   "metadata": {},
   "source": [
    "## t-SNE"
   ]
  },
  {
   "cell_type": "code",
   "execution_count": 9,
   "metadata": {},
   "outputs": [
    {
     "data": {
      "text/html": [
       "        <script type=\"text/javascript\">\n",
       "        window.PlotlyConfig = {MathJaxConfig: 'local'};\n",
       "        if (window.MathJax) {MathJax.Hub.Config({SVG: {font: \"STIX-Web\"}});}\n",
       "        if (typeof require !== 'undefined') {\n",
       "        require.undef(\"plotly\");\n",
       "        requirejs.config({\n",
       "            paths: {\n",
       "                'plotly': ['https://cdn.plot.ly/plotly-latest.min']\n",
       "            }\n",
       "        });\n",
       "        require(['plotly'], function(Plotly) {\n",
       "            window._Plotly = Plotly;\n",
       "        });\n",
       "        }\n",
       "        </script>\n",
       "        "
      ]
     },
     "metadata": {},
     "output_type": "display_data"
    }
   ],
   "source": [
    "import numpy as np\n",
    "from sklearn.manifold import TSNE\n",
    "import plotly\n",
    "import pickle\n",
    "from gensim.models.keyedvectors import KeyedVectors\n",
    "plotly.offline.init_notebook_mode(connected=True)\n",
    "\n",
    "# load embeddings\n",
    "embeddings = KeyedVectors.load_word2vec_format('../dataset/PubMed-shuffle-win-2.bin', binary=True)"
   ]
  },
  {
   "cell_type": "code",
   "execution_count": 96,
   "metadata": {},
   "outputs": [],
   "source": [
    "def get_coordinates(model, sentences, perplexities):\n",
    "    s_arr = np.empty((0,200), dtype='f')\n",
    "    for s in sentences:\n",
    "        w_arr = np.empty((0,200), dtype='f')\n",
    "        for w in s:\n",
    "            try:\n",
    "                wrd_vector = model[w]\n",
    "            except:\n",
    "                wrd_vector = np.random.normal(size=(200,)) \n",
    "#                 wrd_vector = np.zeros(200)\n",
    "            w_arr = np.append(w_arr, np.array([wrd_vector]), axis=0)\n",
    "        s_mean = np.mean(w_arr, axis=0)\n",
    "        s_arr = np.append(s_arr, [s_mean], axis=0)\n",
    "        \n",
    "    coords = {}\n",
    "    for perplexity in perplexities:\n",
    "        tsne = TSNE(n_components=3, random_state=0, early_exaggeration=1, perplexity=perplexity)\n",
    "        np.set_printoptions(suppress=True)\n",
    "        Y = tsne.fit_transform(s_arr)\n",
    "        x_coords = Y[:, 0]\n",
    "        y_coords = Y[:, 1]\n",
    "        z_coords = Y[:, 2]\n",
    "        coords[perplexity] = x_coords, y_coords, z_coords\n",
    "        \n",
    "    return coords"
   ]
  },
  {
   "cell_type": "code",
   "execution_count": 50,
   "metadata": {},
   "outputs": [],
   "source": [
    "text_1 = df.iloc[df.groupby(['relationship']).groups['type=\"BEFORE\"\\n']]['text'].tolist()\n",
    "text_2 = df.iloc[df.groupby(['relationship']).groups['type=\"OVERLAP\"\\n']]['text'].tolist()"
   ]
  },
  {
   "cell_type": "code",
   "execution_count": 51,
   "metadata": {},
   "outputs": [],
   "source": [
    "import spacy\n",
    "def tokenize_sentences(sentences):\n",
    "    spacy_nlp = spacy.load('en_core_web_sm', disable=[\"tagger\", \"parser\", \"ner\"])\n",
    "    sentences_tokens = []\n",
    "    for x in sentences:\n",
    "        tokens = []\n",
    "        doc = spacy_nlp(x)\n",
    "        for token in doc:\n",
    "            tokens.append(token.text)\n",
    "        sentences_tokens.append(tokens)\n",
    "    return sentences_tokens\n",
    "\n",
    "text_1_as_tokens = tokenize_sentences(text_1)\n",
    "text_2_as_tokens = tokenize_sentences(text_2)"
   ]
  },
  {
   "cell_type": "code",
   "execution_count": 52,
   "metadata": {},
   "outputs": [
    {
     "name": "stdout",
     "output_type": "stream",
     "text": [
      "13467\n",
      "7061\n"
     ]
    }
   ],
   "source": [
    "print(len(text_1_as_tokens))\n",
    "print(len(text_2_as_tokens))"
   ]
  },
  {
   "cell_type": "code",
   "execution_count": 113,
   "metadata": {},
   "outputs": [],
   "source": [
    "# acotamos para tener una primera impresion.\n",
    "import random\n",
    "random.seed(47)\n",
    "text_1_as_tokens_samples = random.choices(text_1_as_tokens, k=100)\n",
    "text_2_as_tokens_samples = random.choices(text_2_as_tokens, k=100)"
   ]
  },
  {
   "cell_type": "code",
   "execution_count": 114,
   "metadata": {},
   "outputs": [
    {
     "name": "stdout",
     "output_type": "stream",
     "text": [
      "100\n",
      "100\n"
     ]
    }
   ],
   "source": [
    "print(len(text_1_as_tokens_samples))\n",
    "print(len(text_2_as_tokens_samples))"
   ]
  },
  {
   "cell_type": "code",
   "execution_count": 120,
   "metadata": {},
   "outputs": [],
   "source": [
    "coords = get_coordinates(embeddings, text_1_as_tokens_samples + text_2_as_tokens_samples, perplexities=[10, 30, 40])\n",
    "medl = len(text_1_as_tokens_samples)"
   ]
  },
  {
   "cell_type": "code",
   "execution_count": 121,
   "metadata": {},
   "outputs": [
    {
     "data": {
      "application/vnd.plotly.v1+json": {
       "config": {
        "linkText": "Export to plot.ly",
        "plotlyServerURL": "https://plot.ly",
        "showLink": false
       },
       "data": [
        {
         "marker": {
          "color": "rgb(12, 12, 12)",
          "line": {
           "color": "rgba(217, 217, 217, 0.14)",
           "width": 1
          },
          "opacity": 0.9,
          "size": 12,
          "symbol": "circle"
         },
         "mode": "markers+text",
         "name": "BEFORE",
         "type": "scatter3d",
         "x": [
          -15.226428031921387,
          -12.41021728515625,
          -26.706073760986328,
          -32.385555267333984,
          -9.731168746948242,
          14.105224609375,
          -42.83428955078125,
          -32.19990539550781,
          56.28159713745117,
          6.631756782531738,
          1.1347424983978271,
          -16.54936981201172,
          -25.715402603149414,
          -27.952348709106445,
          2.1380670070648193,
          -3.3343727588653564,
          -0.4692362844944,
          -29.34261131286621,
          -27.64590835571289,
          -5.261342525482178,
          -64.63541412353516,
          -48.99298095703125,
          11.597067832946777,
          20.037012100219727,
          0.27795979380607605,
          9.025117874145508,
          -49.4980583190918,
          21.082300186157227,
          6.040276527404785,
          27.204256057739258,
          -53.574798583984375,
          10.631782531738281,
          -10.45031452178955,
          14.630615234375,
          -17.060091018676758,
          -42.73014831542969,
          73.6176528930664,
          -48.85576248168945,
          -40.966617584228516,
          -14.491225242614746,
          -55.503379821777344,
          -38.18680191040039,
          -2.9583499431610107,
          24.281620025634766,
          -36.032718658447266,
          36.94184494018555,
          16.870807647705078,
          18.102739334106445,
          33.84178161621094,
          15.312819480895996,
          -35.35362243652344,
          -51.16840744018555,
          -36.088653564453125,
          1.2534278631210327,
          -5.5863542556762695,
          49.845420837402344,
          22.44664764404297,
          -9.69870376586914,
          -0.8719727396965027,
          -60.999855041503906,
          -21.082801818847656,
          -7.502285957336426,
          -7.325842380523682,
          -12.93254566192627,
          3.3697702884674072,
          12.27148151397705,
          46.066349029541016,
          -24.492504119873047,
          -25.924264907836914,
          11.860758781433105,
          14.336862564086914,
          42.50046920776367,
          34.31557083129883,
          -49.585792541503906,
          -8.52482795715332,
          -64.38882446289062,
          24.10006332397461,
          20.12214469909668,
          -30.618858337402344,
          -46.59225845336914,
          32.103633880615234,
          -23.494384765625,
          33.45335388183594,
          -27.96849250793457,
          22.837038040161133,
          67.30816650390625,
          -9.182578086853027,
          -39.90956115722656,
          -27.541208267211914,
          20.34280014038086,
          -0.6453209519386292,
          18.08293914794922,
          31.16875457763672,
          32.100975036621094,
          29.34724235534668,
          -10.584468841552734,
          23.559741973876953,
          -29.16429901123047,
          5.982915878295898,
          1.3144307136535645
         ],
         "y": [
          30.00223159790039,
          -6.48392391204834,
          -65.31212615966797,
          -16.669784545898438,
          10.340438842773438,
          70.88136291503906,
          -22.832897186279297,
          -16.037334442138672,
          22.946352005004883,
          4.051482200622559,
          -10.267186164855957,
          -52.818397521972656,
          25.616573333740234,
          0.03713158518075943,
          6.90603494644165,
          70.66741180419922,
          -20.51198387145996,
          41.9912223815918,
          -37.627479553222656,
          49.694847106933594,
          -41.665061950683594,
          15.993901252746582,
          -4.094692707061768,
          31.841100692749023,
          -8.41409969329834,
          -14.110392570495605,
          -0.28912365436553955,
          16.41205406188965,
          -11.107118606567383,
          -5.101317882537842,
          -0.7925533056259155,
          34.8621940612793,
          35.84620666503906,
          -12.91557788848877,
          -32.4241828918457,
          -42.03049850463867,
          -6.126096248626709,
          -36.74012756347656,
          -11.179388999938965,
          -38.83300018310547,
          -63.661888122558594,
          -8.919392585754395,
          40.82810974121094,
          -21.051084518432617,
          7.559857368469238,
          52.77600860595703,
          63.1917724609375,
          16.25575065612793,
          -12.050768852233887,
          -40.9444580078125,
          12.694804191589355,
          -54.961021423339844,
          -28.863901138305664,
          -70.2635726928711,
          81.41582489013672,
          -47.958946228027344,
          7.9378767013549805,
          -51.77616882324219,
          -43.120811462402344,
          8.207780838012695,
          -42.9345817565918,
          36.230709075927734,
          -26.188352584838867,
          -23.917905807495117,
          34.66050338745117,
          70.17790222167969,
          48.03759002685547,
          49.08527374267578,
          -77.001220703125,
          -15.525110244750977,
          -37.052494049072266,
          46.85500717163086,
          -38.505374908447266,
          -11.449860572814941,
          1.8987475633621216,
          -11.867395401000977,
          -17.85053825378418,
          69.87779998779297,
          -5.188270092010498,
          -31.40870475769043,
          33.07372283935547,
          -3.794860363006592,
          26.038015365600586,
          -23.16558837890625,
          82.36363983154297,
          26.50428009033203,
          18.127107620239258,
          -64.86459350585938,
          26.972917556762695,
          -13.065765380859375,
          -28.581722259521484,
          -10.496356010437012,
          -45.9238166809082,
          2.1584830284118652,
          -27.28154945373535,
          -66.99620056152344,
          70.37863159179688,
          27.865625381469727,
          46.869266510009766,
          -24.563079833984375
         ],
         "z": [
          76.88963317871094,
          -43.51430130004883,
          4.086364269256592,
          -6.480906963348389,
          -96.12150573730469,
          -34.34072494506836,
          -68.48011016845703,
          59.217899322509766,
          -15.261428833007812,
          -4.202642440795898,
          -70.05406951904297,
          6.655869007110596,
          -26.423067092895508,
          -75.87712860107422,
          -35.044647216796875,
          46.38905334472656,
          0.29172518849372864,
          -24.977174758911133,
          -67.06838989257812,
          55.73332977294922,
          -3.5194709300994873,
          -31.238937377929688,
          -41.12649917602539,
          31.803163528442383,
          8.384166717529297,
          60.49420928955078,
          -62.05353927612305,
          52.845458984375,
          -28.28007698059082,
          6.610067367553711,
          -39.78972625732422,
          -54.56612014770508,
          23.88470458984375,
          76.73175811767578,
          11.889226913452148,
          -55.935543060302734,
          11.331904411315918,
          -1.756709337234497,
          -26.52627944946289,
          -46.52555847167969,
          -31.795127868652344,
          -42.65751647949219,
          71.92208862304688,
          -30.39299964904785,
          7.450376987457275,
          16.730470657348633,
          61.31271743774414,
          62.809818267822266,
          -28.007587432861328,
          12.495564460754395,
          -22.011028289794922,
          -26.38556671142578,
          -56.36638641357422,
          -41.8902702331543,
          23.0578670501709,
          0.7326055765151978,
          -42.88111877441406,
          -34.65852355957031,
          -6.425320148468018,
          -4.540225982666016,
          -29.91061782836914,
          -32.42818069458008,
          -57.69775390625,
          49.788902282714844,
          46.245079040527344,
          38.8624153137207,
          -40.43941879272461,
          67.23687744140625,
          11.112205505371094,
          -76.33199310302734,
          -48.91044235229492,
          -50.3152961730957,
          71.30764770507812,
          11.442586898803711,
          -24.236713409423828,
          -26.111637115478516,
          -81.96944427490234,
          17.070545196533203,
          27.43315315246582,
          -34.629119873046875,
          39.62698745727539,
          -33.12828063964844,
          57.89814758300781,
          -24.57520866394043,
          40.045677185058594,
          42.15464782714844,
          67.8258056640625,
          3.475759983062744,
          -41.03520965576172,
          -50.271759033203125,
          -26.359272003173828,
          -17.70157241821289,
          -53.850982666015625,
          62.56271743774414,
          64.16158294677734,
          -37.88880920410156,
          -30.152359008789062,
          -57.15934753417969,
          -60.29970932006836,
          -47.30235290527344
         ]
        },
        {
         "marker": {
          "color": "rgb(180, 180, 180)",
          "line": {
           "color": "rgba(217, 217, 217, 0.14)",
           "width": 1
          },
          "opacity": 0.9,
          "size": 12,
          "symbol": "circle"
         },
         "mode": "markers+text",
         "name": "OVERLAP",
         "type": "scatter3d",
         "x": [
          -1.5465222597122192,
          -2.1123523712158203,
          22.224210739135742,
          -34.89037322998047,
          -25.048561096191406,
          -18.672094345092773,
          -39.901695251464844,
          6.741706371307373,
          53.604190826416016,
          53.65902328491211,
          0.6503946781158447,
          -14.3079195022583,
          16.92783546447754,
          10.261298179626465,
          -3.950051784515381,
          -31.108030319213867,
          34.32929992675781,
          -0.900034487247467,
          7.417089939117432,
          32.568729400634766,
          -16.243793487548828,
          4.475167274475098,
          -26.683719635009766,
          -45.14834213256836,
          -15.885183334350586,
          9.69882869720459,
          -16.214279174804688,
          16.9023494720459,
          -87.93096160888672,
          -36.016231536865234,
          -12.226927757263184,
          -41.06733322143555,
          41.714969635009766,
          17.33090591430664,
          -16.122652053833008,
          50.2384033203125,
          70.74906921386719,
          -21.50979232788086,
          3.6790771484375,
          -28.029850006103516,
          -6.193557262420654,
          62.424198150634766,
          8.346687316894531,
          -13.4979829788208,
          7.497137546539307,
          -12.65956974029541,
          -3.956218957901001,
          19.673622131347656,
          -16.000408172607422,
          -27.441802978515625,
          12.141292572021484,
          14.51528263092041,
          -3.6687839031219482,
          -22.594913482666016,
          -15.229264259338379,
          59.99123764038086,
          -57.35799789428711,
          21.195262908935547,
          1.2305392026901245,
          -14.213273048400879,
          26.07233428955078,
          58.72106170654297,
          -9.25716495513916,
          -6.71897029876709,
          -8.581121444702148,
          -85.58914184570312,
          14.027151107788086,
          16.035079956054688,
          -30.193410873413086,
          -36.92269515991211,
          25.6456241607666,
          -49.322410583496094,
          47.543235778808594,
          44.551116943359375,
          -57.78335952758789,
          -6.781344890594482,
          -76.00406646728516,
          4.194402694702148,
          -35.38258743286133,
          -9.94510269165039,
          22.877769470214844,
          45.871665954589844,
          61.35422134399414,
          56.906494140625,
          45.447608947753906,
          21.43134117126465,
          -34.52450180053711,
          31.93699836730957,
          50.414981842041016,
          -42.58552551269531,
          38.63888168334961,
          -61.38077163696289,
          15.798188209533691,
          45.71761703491211,
          12.492777824401855,
          42.862022399902344,
          -15.919500350952148,
          70.17530059814453,
          3.99794864654541,
          -21.447561264038086
         ],
         "y": [
          -49.7440071105957,
          10.589512825012207,
          -75.66050720214844,
          5.309485912322998,
          24.9301815032959,
          33.934268951416016,
          -27.86253547668457,
          1.418437123298645,
          -33.00914001464844,
          10.729357719421387,
          -54.96132278442383,
          -8.057551383972168,
          12.962421417236328,
          47.8442497253418,
          -11.325777053833008,
          11.792553901672363,
          -12.668401718139648,
          66.45287322998047,
          8.976226806640625,
          3.108978033065796,
          2.819946050643921,
          0.6500142216682434,
          -35.53497314453125,
          25.2153263092041,
          -22.07118034362793,
          55.40187454223633,
          61.43423843383789,
          20.247516632080078,
          -11.31930923461914,
          43.2454948425293,
          -3.414849281311035,
          26.871299743652344,
          4.500921249389648,
          6.405252456665039,
          30.280532836914062,
          11.284538269042969,
          -26.793161392211914,
          -19.208189010620117,
          -32.64374923706055,
          41.68016052246094,
          71.02952575683594,
          -27.830087661743164,
          -28.901214599609375,
          20.86361312866211,
          -0.30117207765579224,
          -58.94330978393555,
          15.55074405670166,
          14.577184677124023,
          42.18986892700195,
          23.082027435302734,
          54.042686462402344,
          51.65104675292969,
          -50.96774673461914,
          60.08382034301758,
          24.086339950561523,
          2.438612937927246,
          -21.504074096679688,
          -22.73801040649414,
          22.452096939086914,
          7.041755676269531,
          58.376991271972656,
          27.8203125,
          -15.677013397216797,
          -14.699996948242188,
          56.24069595336914,
          -3.5373997688293457,
          -2.381605386734009,
          34.87773132324219,
          59.90232467651367,
          5.083249092102051,
          -47.50437545776367,
          -33.19643783569336,
          -11.854670524597168,
          14.580188751220703,
          -18.79313850402832,
          -14.802969932556152,
          -4.788822174072266,
          25.95704460144043,
          -67.7868423461914,
          -15.915606498718262,
          -39.11833190917969,
          -46.201229095458984,
          -15.717955589294434,
          3.165390729904175,
          -17.670740127563477,
          -12.990275382995605,
          -7.908134937286377,
          56.77808380126953,
          -23.805923461914062,
          -19.495468139648438,
          41.25251388549805,
          -29.0903263092041,
          -17.58534812927246,
          -24.568077087402344,
          33.84854507446289,
          -3.1075022220611572,
          -82.5927734375,
          -13.538369178771973,
          48.59312057495117,
          -5.117756366729736
         ],
         "z": [
          -72.57756805419922,
          -61.79787063598633,
          -8.336813926696777,
          -47.84988784790039,
          28.689773559570312,
          47.031211853027344,
          25.616374969482422,
          60.43133544921875,
          -28.686063766479492,
          -22.161273956298828,
          -28.624324798583984,
          35.344215393066406,
          -14.175599098205566,
          21.480722427368164,
          68.7498550415039,
          50.94363021850586,
          55.503883361816406,
          19.52609634399414,
          19.620468139648438,
          -19.39436912536621,
          48.356651306152344,
          34.88574981689453,
          -14.756097793579102,
          -64.72969818115234,
          -38.112125396728516,
          33.845115661621094,
          10.917049407958984,
          10.365447044372559,
          -0.914665937423706,
          59.080814361572266,
          4.015005588531494,
          -12.522907257080078,
          32.01604080200195,
          -65.09412384033203,
          -21.058359146118164,
          -36.65810012817383,
          21.586740493774414,
          38.71528625488281,
          34.405921936035156,
          -61.34111785888672,
          -2.2389278411865234,
          38.63385009765625,
          62.688377380371094,
          -65.02445220947266,
          -57.07368850708008,
          41.904685974121094,
          11.76677131652832,
          26.930278778076172,
          -13.994659423828125,
          43.845890045166016,
          0.6073824763298035,
          48.33333969116211,
          43.916568756103516,
          36.742733001708984,
          -7.481990814208984,
          -18.384990692138672,
          -50.72655487060547,
          -7.830099582672119,
          27.880050659179688,
          28.245634078979492,
          27.20047378540039,
          28.758726119995117,
          -14.948198318481445,
          24.483076095581055,
          35.338653564453125,
          -7.415699481964111,
          11.704822540283203,
          -21.98293113708496,
          11.479522705078125,
          61.882164001464844,
          -19.160236358642578,
          12.606468200683594,
          66.12007141113281,
          20.809097290039062,
          -0.06824097782373428,
          -28.91203498840332,
          -16.453603744506836,
          -18.239280700683594,
          -33.3814697265625,
          -77.69239044189453,
          42.57786178588867,
          10.493431091308594,
          42.80854034423828,
          32.14336395263672,
          43.901493072509766,
          44.07636260986328,
          8.301915168762207,
          42.97148895263672,
          2.7043206691741943,
          -46.239501953125,
          9.966507911682129,
          19.381826400756836,
          18.497756958007812,
          11.932214736938477,
          72.59259033203125,
          23.483530044555664,
          2.958296298980713,
          18.274715423583984,
          41.24617004394531,
          -57.74501037597656
         ]
        }
       ],
       "layout": {
        "template": {
         "data": {
          "bar": [
           {
            "error_x": {
             "color": "#2a3f5f"
            },
            "error_y": {
             "color": "#2a3f5f"
            },
            "marker": {
             "line": {
              "color": "#E5ECF6",
              "width": 0.5
             }
            },
            "type": "bar"
           }
          ],
          "barpolar": [
           {
            "marker": {
             "line": {
              "color": "#E5ECF6",
              "width": 0.5
             }
            },
            "type": "barpolar"
           }
          ],
          "carpet": [
           {
            "aaxis": {
             "endlinecolor": "#2a3f5f",
             "gridcolor": "white",
             "linecolor": "white",
             "minorgridcolor": "white",
             "startlinecolor": "#2a3f5f"
            },
            "baxis": {
             "endlinecolor": "#2a3f5f",
             "gridcolor": "white",
             "linecolor": "white",
             "minorgridcolor": "white",
             "startlinecolor": "#2a3f5f"
            },
            "type": "carpet"
           }
          ],
          "choropleth": [
           {
            "colorbar": {
             "outlinewidth": 0,
             "ticks": ""
            },
            "type": "choropleth"
           }
          ],
          "contour": [
           {
            "colorbar": {
             "outlinewidth": 0,
             "ticks": ""
            },
            "colorscale": [
             [
              0,
              "#0d0887"
             ],
             [
              0.1111111111111111,
              "#46039f"
             ],
             [
              0.2222222222222222,
              "#7201a8"
             ],
             [
              0.3333333333333333,
              "#9c179e"
             ],
             [
              0.4444444444444444,
              "#bd3786"
             ],
             [
              0.5555555555555556,
              "#d8576b"
             ],
             [
              0.6666666666666666,
              "#ed7953"
             ],
             [
              0.7777777777777778,
              "#fb9f3a"
             ],
             [
              0.8888888888888888,
              "#fdca26"
             ],
             [
              1,
              "#f0f921"
             ]
            ],
            "type": "contour"
           }
          ],
          "contourcarpet": [
           {
            "colorbar": {
             "outlinewidth": 0,
             "ticks": ""
            },
            "type": "contourcarpet"
           }
          ],
          "heatmap": [
           {
            "colorbar": {
             "outlinewidth": 0,
             "ticks": ""
            },
            "colorscale": [
             [
              0,
              "#0d0887"
             ],
             [
              0.1111111111111111,
              "#46039f"
             ],
             [
              0.2222222222222222,
              "#7201a8"
             ],
             [
              0.3333333333333333,
              "#9c179e"
             ],
             [
              0.4444444444444444,
              "#bd3786"
             ],
             [
              0.5555555555555556,
              "#d8576b"
             ],
             [
              0.6666666666666666,
              "#ed7953"
             ],
             [
              0.7777777777777778,
              "#fb9f3a"
             ],
             [
              0.8888888888888888,
              "#fdca26"
             ],
             [
              1,
              "#f0f921"
             ]
            ],
            "type": "heatmap"
           }
          ],
          "heatmapgl": [
           {
            "colorbar": {
             "outlinewidth": 0,
             "ticks": ""
            },
            "colorscale": [
             [
              0,
              "#0d0887"
             ],
             [
              0.1111111111111111,
              "#46039f"
             ],
             [
              0.2222222222222222,
              "#7201a8"
             ],
             [
              0.3333333333333333,
              "#9c179e"
             ],
             [
              0.4444444444444444,
              "#bd3786"
             ],
             [
              0.5555555555555556,
              "#d8576b"
             ],
             [
              0.6666666666666666,
              "#ed7953"
             ],
             [
              0.7777777777777778,
              "#fb9f3a"
             ],
             [
              0.8888888888888888,
              "#fdca26"
             ],
             [
              1,
              "#f0f921"
             ]
            ],
            "type": "heatmapgl"
           }
          ],
          "histogram": [
           {
            "marker": {
             "colorbar": {
              "outlinewidth": 0,
              "ticks": ""
             }
            },
            "type": "histogram"
           }
          ],
          "histogram2d": [
           {
            "colorbar": {
             "outlinewidth": 0,
             "ticks": ""
            },
            "colorscale": [
             [
              0,
              "#0d0887"
             ],
             [
              0.1111111111111111,
              "#46039f"
             ],
             [
              0.2222222222222222,
              "#7201a8"
             ],
             [
              0.3333333333333333,
              "#9c179e"
             ],
             [
              0.4444444444444444,
              "#bd3786"
             ],
             [
              0.5555555555555556,
              "#d8576b"
             ],
             [
              0.6666666666666666,
              "#ed7953"
             ],
             [
              0.7777777777777778,
              "#fb9f3a"
             ],
             [
              0.8888888888888888,
              "#fdca26"
             ],
             [
              1,
              "#f0f921"
             ]
            ],
            "type": "histogram2d"
           }
          ],
          "histogram2dcontour": [
           {
            "colorbar": {
             "outlinewidth": 0,
             "ticks": ""
            },
            "colorscale": [
             [
              0,
              "#0d0887"
             ],
             [
              0.1111111111111111,
              "#46039f"
             ],
             [
              0.2222222222222222,
              "#7201a8"
             ],
             [
              0.3333333333333333,
              "#9c179e"
             ],
             [
              0.4444444444444444,
              "#bd3786"
             ],
             [
              0.5555555555555556,
              "#d8576b"
             ],
             [
              0.6666666666666666,
              "#ed7953"
             ],
             [
              0.7777777777777778,
              "#fb9f3a"
             ],
             [
              0.8888888888888888,
              "#fdca26"
             ],
             [
              1,
              "#f0f921"
             ]
            ],
            "type": "histogram2dcontour"
           }
          ],
          "mesh3d": [
           {
            "colorbar": {
             "outlinewidth": 0,
             "ticks": ""
            },
            "type": "mesh3d"
           }
          ],
          "parcoords": [
           {
            "line": {
             "colorbar": {
              "outlinewidth": 0,
              "ticks": ""
             }
            },
            "type": "parcoords"
           }
          ],
          "scatter": [
           {
            "marker": {
             "colorbar": {
              "outlinewidth": 0,
              "ticks": ""
             }
            },
            "type": "scatter"
           }
          ],
          "scatter3d": [
           {
            "line": {
             "colorbar": {
              "outlinewidth": 0,
              "ticks": ""
             }
            },
            "marker": {
             "colorbar": {
              "outlinewidth": 0,
              "ticks": ""
             }
            },
            "type": "scatter3d"
           }
          ],
          "scattercarpet": [
           {
            "marker": {
             "colorbar": {
              "outlinewidth": 0,
              "ticks": ""
             }
            },
            "type": "scattercarpet"
           }
          ],
          "scattergeo": [
           {
            "marker": {
             "colorbar": {
              "outlinewidth": 0,
              "ticks": ""
             }
            },
            "type": "scattergeo"
           }
          ],
          "scattergl": [
           {
            "marker": {
             "colorbar": {
              "outlinewidth": 0,
              "ticks": ""
             }
            },
            "type": "scattergl"
           }
          ],
          "scattermapbox": [
           {
            "marker": {
             "colorbar": {
              "outlinewidth": 0,
              "ticks": ""
             }
            },
            "type": "scattermapbox"
           }
          ],
          "scatterpolar": [
           {
            "marker": {
             "colorbar": {
              "outlinewidth": 0,
              "ticks": ""
             }
            },
            "type": "scatterpolar"
           }
          ],
          "scatterpolargl": [
           {
            "marker": {
             "colorbar": {
              "outlinewidth": 0,
              "ticks": ""
             }
            },
            "type": "scatterpolargl"
           }
          ],
          "scatterternary": [
           {
            "marker": {
             "colorbar": {
              "outlinewidth": 0,
              "ticks": ""
             }
            },
            "type": "scatterternary"
           }
          ],
          "surface": [
           {
            "colorbar": {
             "outlinewidth": 0,
             "ticks": ""
            },
            "colorscale": [
             [
              0,
              "#0d0887"
             ],
             [
              0.1111111111111111,
              "#46039f"
             ],
             [
              0.2222222222222222,
              "#7201a8"
             ],
             [
              0.3333333333333333,
              "#9c179e"
             ],
             [
              0.4444444444444444,
              "#bd3786"
             ],
             [
              0.5555555555555556,
              "#d8576b"
             ],
             [
              0.6666666666666666,
              "#ed7953"
             ],
             [
              0.7777777777777778,
              "#fb9f3a"
             ],
             [
              0.8888888888888888,
              "#fdca26"
             ],
             [
              1,
              "#f0f921"
             ]
            ],
            "type": "surface"
           }
          ],
          "table": [
           {
            "cells": {
             "fill": {
              "color": "#EBF0F8"
             },
             "line": {
              "color": "white"
             }
            },
            "header": {
             "fill": {
              "color": "#C8D4E3"
             },
             "line": {
              "color": "white"
             }
            },
            "type": "table"
           }
          ]
         },
         "layout": {
          "annotationdefaults": {
           "arrowcolor": "#2a3f5f",
           "arrowhead": 0,
           "arrowwidth": 1
          },
          "colorscale": {
           "diverging": [
            [
             0,
             "#8e0152"
            ],
            [
             0.1,
             "#c51b7d"
            ],
            [
             0.2,
             "#de77ae"
            ],
            [
             0.3,
             "#f1b6da"
            ],
            [
             0.4,
             "#fde0ef"
            ],
            [
             0.5,
             "#f7f7f7"
            ],
            [
             0.6,
             "#e6f5d0"
            ],
            [
             0.7,
             "#b8e186"
            ],
            [
             0.8,
             "#7fbc41"
            ],
            [
             0.9,
             "#4d9221"
            ],
            [
             1,
             "#276419"
            ]
           ],
           "sequential": [
            [
             0,
             "#0d0887"
            ],
            [
             0.1111111111111111,
             "#46039f"
            ],
            [
             0.2222222222222222,
             "#7201a8"
            ],
            [
             0.3333333333333333,
             "#9c179e"
            ],
            [
             0.4444444444444444,
             "#bd3786"
            ],
            [
             0.5555555555555556,
             "#d8576b"
            ],
            [
             0.6666666666666666,
             "#ed7953"
            ],
            [
             0.7777777777777778,
             "#fb9f3a"
            ],
            [
             0.8888888888888888,
             "#fdca26"
            ],
            [
             1,
             "#f0f921"
            ]
           ],
           "sequentialminus": [
            [
             0,
             "#0d0887"
            ],
            [
             0.1111111111111111,
             "#46039f"
            ],
            [
             0.2222222222222222,
             "#7201a8"
            ],
            [
             0.3333333333333333,
             "#9c179e"
            ],
            [
             0.4444444444444444,
             "#bd3786"
            ],
            [
             0.5555555555555556,
             "#d8576b"
            ],
            [
             0.6666666666666666,
             "#ed7953"
            ],
            [
             0.7777777777777778,
             "#fb9f3a"
            ],
            [
             0.8888888888888888,
             "#fdca26"
            ],
            [
             1,
             "#f0f921"
            ]
           ]
          },
          "colorway": [
           "#636efa",
           "#EF553B",
           "#00cc96",
           "#ab63fa",
           "#FFA15A",
           "#19d3f3",
           "#FF6692",
           "#B6E880",
           "#FF97FF",
           "#FECB52"
          ],
          "font": {
           "color": "#2a3f5f"
          },
          "geo": {
           "bgcolor": "white",
           "lakecolor": "white",
           "landcolor": "#E5ECF6",
           "showlakes": true,
           "showland": true,
           "subunitcolor": "white"
          },
          "hoverlabel": {
           "align": "left"
          },
          "hovermode": "closest",
          "mapbox": {
           "style": "light"
          },
          "paper_bgcolor": "white",
          "plot_bgcolor": "#E5ECF6",
          "polar": {
           "angularaxis": {
            "gridcolor": "white",
            "linecolor": "white",
            "ticks": ""
           },
           "bgcolor": "#E5ECF6",
           "radialaxis": {
            "gridcolor": "white",
            "linecolor": "white",
            "ticks": ""
           }
          },
          "scene": {
           "xaxis": {
            "backgroundcolor": "#E5ECF6",
            "gridcolor": "white",
            "gridwidth": 2,
            "linecolor": "white",
            "showbackground": true,
            "ticks": "",
            "zerolinecolor": "white"
           },
           "yaxis": {
            "backgroundcolor": "#E5ECF6",
            "gridcolor": "white",
            "gridwidth": 2,
            "linecolor": "white",
            "showbackground": true,
            "ticks": "",
            "zerolinecolor": "white"
           },
           "zaxis": {
            "backgroundcolor": "#E5ECF6",
            "gridcolor": "white",
            "gridwidth": 2,
            "linecolor": "white",
            "showbackground": true,
            "ticks": "",
            "zerolinecolor": "white"
           }
          },
          "shapedefaults": {
           "line": {
            "color": "#2a3f5f"
           }
          },
          "ternary": {
           "aaxis": {
            "gridcolor": "white",
            "linecolor": "white",
            "ticks": ""
           },
           "baxis": {
            "gridcolor": "white",
            "linecolor": "white",
            "ticks": ""
           },
           "bgcolor": "#E5ECF6",
           "caxis": {
            "gridcolor": "white",
            "linecolor": "white",
            "ticks": ""
           }
          },
          "title": {
           "x": 0.05
          },
          "xaxis": {
           "automargin": true,
           "gridcolor": "white",
           "linecolor": "white",
           "ticks": "",
           "zerolinecolor": "white",
           "zerolinewidth": 2
          },
          "yaxis": {
           "automargin": true,
           "gridcolor": "white",
           "linecolor": "white",
           "ticks": "",
           "zerolinecolor": "white",
           "zerolinewidth": 2
          }
         }
        },
        "title": {
         "text": "Perplexity 10"
        }
       }
      },
      "text/html": [
       "<div>\n",
       "        \n",
       "        \n",
       "            <div id=\"b0261ce9-d9fc-44f1-b2bd-68a40fb5352a\" class=\"plotly-graph-div\" style=\"height:525px; width:100%;\"></div>\n",
       "            <script type=\"text/javascript\">\n",
       "                require([\"plotly\"], function(Plotly) {\n",
       "                    window.PLOTLYENV=window.PLOTLYENV || {};\n",
       "                    \n",
       "                if (document.getElementById(\"b0261ce9-d9fc-44f1-b2bd-68a40fb5352a\")) {\n",
       "                    Plotly.newPlot(\n",
       "                        'b0261ce9-d9fc-44f1-b2bd-68a40fb5352a',\n",
       "                        [{\"marker\": {\"color\": \"rgb(12, 12, 12)\", \"line\": {\"color\": \"rgba(217, 217, 217, 0.14)\", \"width\": 1}, \"opacity\": 0.9, \"size\": 12, \"symbol\": \"circle\"}, \"mode\": \"markers+text\", \"name\": \"BEFORE\", \"type\": \"scatter3d\", \"x\": [-15.226428031921387, -12.41021728515625, -26.706073760986328, -32.385555267333984, -9.731168746948242, 14.105224609375, -42.83428955078125, -32.19990539550781, 56.28159713745117, 6.631756782531738, 1.1347424983978271, -16.54936981201172, -25.715402603149414, -27.952348709106445, 2.1380670070648193, -3.3343727588653564, -0.4692362844944, -29.34261131286621, -27.64590835571289, -5.261342525482178, -64.63541412353516, -48.99298095703125, 11.597067832946777, 20.037012100219727, 0.27795979380607605, 9.025117874145508, -49.4980583190918, 21.082300186157227, 6.040276527404785, 27.204256057739258, -53.574798583984375, 10.631782531738281, -10.45031452178955, 14.630615234375, -17.060091018676758, -42.73014831542969, 73.6176528930664, -48.85576248168945, -40.966617584228516, -14.491225242614746, -55.503379821777344, -38.18680191040039, -2.9583499431610107, 24.281620025634766, -36.032718658447266, 36.94184494018555, 16.870807647705078, 18.102739334106445, 33.84178161621094, 15.312819480895996, -35.35362243652344, -51.16840744018555, -36.088653564453125, 1.2534278631210327, -5.5863542556762695, 49.845420837402344, 22.44664764404297, -9.69870376586914, -0.8719727396965027, -60.999855041503906, -21.082801818847656, -7.502285957336426, -7.325842380523682, -12.93254566192627, 3.3697702884674072, 12.27148151397705, 46.066349029541016, -24.492504119873047, -25.924264907836914, 11.860758781433105, 14.336862564086914, 42.50046920776367, 34.31557083129883, -49.585792541503906, -8.52482795715332, -64.38882446289062, 24.10006332397461, 20.12214469909668, -30.618858337402344, -46.59225845336914, 32.103633880615234, -23.494384765625, 33.45335388183594, -27.96849250793457, 22.837038040161133, 67.30816650390625, -9.182578086853027, -39.90956115722656, -27.541208267211914, 20.34280014038086, -0.6453209519386292, 18.08293914794922, 31.16875457763672, 32.100975036621094, 29.34724235534668, -10.584468841552734, 23.559741973876953, -29.16429901123047, 5.982915878295898, 1.3144307136535645], \"y\": [30.00223159790039, -6.48392391204834, -65.31212615966797, -16.669784545898438, 10.340438842773438, 70.88136291503906, -22.832897186279297, -16.037334442138672, 22.946352005004883, 4.051482200622559, -10.267186164855957, -52.818397521972656, 25.616573333740234, 0.03713158518075943, 6.90603494644165, 70.66741180419922, -20.51198387145996, 41.9912223815918, -37.627479553222656, 49.694847106933594, -41.665061950683594, 15.993901252746582, -4.094692707061768, 31.841100692749023, -8.41409969329834, -14.110392570495605, -0.28912365436553955, 16.41205406188965, -11.107118606567383, -5.101317882537842, -0.7925533056259155, 34.8621940612793, 35.84620666503906, -12.91557788848877, -32.4241828918457, -42.03049850463867, -6.126096248626709, -36.74012756347656, -11.179388999938965, -38.83300018310547, -63.661888122558594, -8.919392585754395, 40.82810974121094, -21.051084518432617, 7.559857368469238, 52.77600860595703, 63.1917724609375, 16.25575065612793, -12.050768852233887, -40.9444580078125, 12.694804191589355, -54.961021423339844, -28.863901138305664, -70.2635726928711, 81.41582489013672, -47.958946228027344, 7.9378767013549805, -51.77616882324219, -43.120811462402344, 8.207780838012695, -42.9345817565918, 36.230709075927734, -26.188352584838867, -23.917905807495117, 34.66050338745117, 70.17790222167969, 48.03759002685547, 49.08527374267578, -77.001220703125, -15.525110244750977, -37.052494049072266, 46.85500717163086, -38.505374908447266, -11.449860572814941, 1.8987475633621216, -11.867395401000977, -17.85053825378418, 69.87779998779297, -5.188270092010498, -31.40870475769043, 33.07372283935547, -3.794860363006592, 26.038015365600586, -23.16558837890625, 82.36363983154297, 26.50428009033203, 18.127107620239258, -64.86459350585938, 26.972917556762695, -13.065765380859375, -28.581722259521484, -10.496356010437012, -45.9238166809082, 2.1584830284118652, -27.28154945373535, -66.99620056152344, 70.37863159179688, 27.865625381469727, 46.869266510009766, -24.563079833984375], \"z\": [76.88963317871094, -43.51430130004883, 4.086364269256592, -6.480906963348389, -96.12150573730469, -34.34072494506836, -68.48011016845703, 59.217899322509766, -15.261428833007812, -4.202642440795898, -70.05406951904297, 6.655869007110596, -26.423067092895508, -75.87712860107422, -35.044647216796875, 46.38905334472656, 0.29172518849372864, -24.977174758911133, -67.06838989257812, 55.73332977294922, -3.5194709300994873, -31.238937377929688, -41.12649917602539, 31.803163528442383, 8.384166717529297, 60.49420928955078, -62.05353927612305, 52.845458984375, -28.28007698059082, 6.610067367553711, -39.78972625732422, -54.56612014770508, 23.88470458984375, 76.73175811767578, 11.889226913452148, -55.935543060302734, 11.331904411315918, -1.756709337234497, -26.52627944946289, -46.52555847167969, -31.795127868652344, -42.65751647949219, 71.92208862304688, -30.39299964904785, 7.450376987457275, 16.730470657348633, 61.31271743774414, 62.809818267822266, -28.007587432861328, 12.495564460754395, -22.011028289794922, -26.38556671142578, -56.36638641357422, -41.8902702331543, 23.0578670501709, 0.7326055765151978, -42.88111877441406, -34.65852355957031, -6.425320148468018, -4.540225982666016, -29.91061782836914, -32.42818069458008, -57.69775390625, 49.788902282714844, 46.245079040527344, 38.8624153137207, -40.43941879272461, 67.23687744140625, 11.112205505371094, -76.33199310302734, -48.91044235229492, -50.3152961730957, 71.30764770507812, 11.442586898803711, -24.236713409423828, -26.111637115478516, -81.96944427490234, 17.070545196533203, 27.43315315246582, -34.629119873046875, 39.62698745727539, -33.12828063964844, 57.89814758300781, -24.57520866394043, 40.045677185058594, 42.15464782714844, 67.8258056640625, 3.475759983062744, -41.03520965576172, -50.271759033203125, -26.359272003173828, -17.70157241821289, -53.850982666015625, 62.56271743774414, 64.16158294677734, -37.88880920410156, -30.152359008789062, -57.15934753417969, -60.29970932006836, -47.30235290527344]}, {\"marker\": {\"color\": \"rgb(180, 180, 180)\", \"line\": {\"color\": \"rgba(217, 217, 217, 0.14)\", \"width\": 1}, \"opacity\": 0.9, \"size\": 12, \"symbol\": \"circle\"}, \"mode\": \"markers+text\", \"name\": \"OVERLAP\", \"type\": \"scatter3d\", \"x\": [-1.5465222597122192, -2.1123523712158203, 22.224210739135742, -34.89037322998047, -25.048561096191406, -18.672094345092773, -39.901695251464844, 6.741706371307373, 53.604190826416016, 53.65902328491211, 0.6503946781158447, -14.3079195022583, 16.92783546447754, 10.261298179626465, -3.950051784515381, -31.108030319213867, 34.32929992675781, -0.900034487247467, 7.417089939117432, 32.568729400634766, -16.243793487548828, 4.475167274475098, -26.683719635009766, -45.14834213256836, -15.885183334350586, 9.69882869720459, -16.214279174804688, 16.9023494720459, -87.93096160888672, -36.016231536865234, -12.226927757263184, -41.06733322143555, 41.714969635009766, 17.33090591430664, -16.122652053833008, 50.2384033203125, 70.74906921386719, -21.50979232788086, 3.6790771484375, -28.029850006103516, -6.193557262420654, 62.424198150634766, 8.346687316894531, -13.4979829788208, 7.497137546539307, -12.65956974029541, -3.956218957901001, 19.673622131347656, -16.000408172607422, -27.441802978515625, 12.141292572021484, 14.51528263092041, -3.6687839031219482, -22.594913482666016, -15.229264259338379, 59.99123764038086, -57.35799789428711, 21.195262908935547, 1.2305392026901245, -14.213273048400879, 26.07233428955078, 58.72106170654297, -9.25716495513916, -6.71897029876709, -8.581121444702148, -85.58914184570312, 14.027151107788086, 16.035079956054688, -30.193410873413086, -36.92269515991211, 25.6456241607666, -49.322410583496094, 47.543235778808594, 44.551116943359375, -57.78335952758789, -6.781344890594482, -76.00406646728516, 4.194402694702148, -35.38258743286133, -9.94510269165039, 22.877769470214844, 45.871665954589844, 61.35422134399414, 56.906494140625, 45.447608947753906, 21.43134117126465, -34.52450180053711, 31.93699836730957, 50.414981842041016, -42.58552551269531, 38.63888168334961, -61.38077163696289, 15.798188209533691, 45.71761703491211, 12.492777824401855, 42.862022399902344, -15.919500350952148, 70.17530059814453, 3.99794864654541, -21.447561264038086], \"y\": [-49.7440071105957, 10.589512825012207, -75.66050720214844, 5.309485912322998, 24.9301815032959, 33.934268951416016, -27.86253547668457, 1.418437123298645, -33.00914001464844, 10.729357719421387, -54.96132278442383, -8.057551383972168, 12.962421417236328, 47.8442497253418, -11.325777053833008, 11.792553901672363, -12.668401718139648, 66.45287322998047, 8.976226806640625, 3.108978033065796, 2.819946050643921, 0.6500142216682434, -35.53497314453125, 25.2153263092041, -22.07118034362793, 55.40187454223633, 61.43423843383789, 20.247516632080078, -11.31930923461914, 43.2454948425293, -3.414849281311035, 26.871299743652344, 4.500921249389648, 6.405252456665039, 30.280532836914062, 11.284538269042969, -26.793161392211914, -19.208189010620117, -32.64374923706055, 41.68016052246094, 71.02952575683594, -27.830087661743164, -28.901214599609375, 20.86361312866211, -0.30117207765579224, -58.94330978393555, 15.55074405670166, 14.577184677124023, 42.18986892700195, 23.082027435302734, 54.042686462402344, 51.65104675292969, -50.96774673461914, 60.08382034301758, 24.086339950561523, 2.438612937927246, -21.504074096679688, -22.73801040649414, 22.452096939086914, 7.041755676269531, 58.376991271972656, 27.8203125, -15.677013397216797, -14.699996948242188, 56.24069595336914, -3.5373997688293457, -2.381605386734009, 34.87773132324219, 59.90232467651367, 5.083249092102051, -47.50437545776367, -33.19643783569336, -11.854670524597168, 14.580188751220703, -18.79313850402832, -14.802969932556152, -4.788822174072266, 25.95704460144043, -67.7868423461914, -15.915606498718262, -39.11833190917969, -46.201229095458984, -15.717955589294434, 3.165390729904175, -17.670740127563477, -12.990275382995605, -7.908134937286377, 56.77808380126953, -23.805923461914062, -19.495468139648438, 41.25251388549805, -29.0903263092041, -17.58534812927246, -24.568077087402344, 33.84854507446289, -3.1075022220611572, -82.5927734375, -13.538369178771973, 48.59312057495117, -5.117756366729736], \"z\": [-72.57756805419922, -61.79787063598633, -8.336813926696777, -47.84988784790039, 28.689773559570312, 47.031211853027344, 25.616374969482422, 60.43133544921875, -28.686063766479492, -22.161273956298828, -28.624324798583984, 35.344215393066406, -14.175599098205566, 21.480722427368164, 68.7498550415039, 50.94363021850586, 55.503883361816406, 19.52609634399414, 19.620468139648438, -19.39436912536621, 48.356651306152344, 34.88574981689453, -14.756097793579102, -64.72969818115234, -38.112125396728516, 33.845115661621094, 10.917049407958984, 10.365447044372559, -0.914665937423706, 59.080814361572266, 4.015005588531494, -12.522907257080078, 32.01604080200195, -65.09412384033203, -21.058359146118164, -36.65810012817383, 21.586740493774414, 38.71528625488281, 34.405921936035156, -61.34111785888672, -2.2389278411865234, 38.63385009765625, 62.688377380371094, -65.02445220947266, -57.07368850708008, 41.904685974121094, 11.76677131652832, 26.930278778076172, -13.994659423828125, 43.845890045166016, 0.6073824763298035, 48.33333969116211, 43.916568756103516, 36.742733001708984, -7.481990814208984, -18.384990692138672, -50.72655487060547, -7.830099582672119, 27.880050659179688, 28.245634078979492, 27.20047378540039, 28.758726119995117, -14.948198318481445, 24.483076095581055, 35.338653564453125, -7.415699481964111, 11.704822540283203, -21.98293113708496, 11.479522705078125, 61.882164001464844, -19.160236358642578, 12.606468200683594, 66.12007141113281, 20.809097290039062, -0.06824097782373428, -28.91203498840332, -16.453603744506836, -18.239280700683594, -33.3814697265625, -77.69239044189453, 42.57786178588867, 10.493431091308594, 42.80854034423828, 32.14336395263672, 43.901493072509766, 44.07636260986328, 8.301915168762207, 42.97148895263672, 2.7043206691741943, -46.239501953125, 9.966507911682129, 19.381826400756836, 18.497756958007812, 11.932214736938477, 72.59259033203125, 23.483530044555664, 2.958296298980713, 18.274715423583984, 41.24617004394531, -57.74501037597656]}],\n",
       "                        {\"template\": {\"data\": {\"bar\": [{\"error_x\": {\"color\": \"#2a3f5f\"}, \"error_y\": {\"color\": \"#2a3f5f\"}, \"marker\": {\"line\": {\"color\": \"#E5ECF6\", \"width\": 0.5}}, \"type\": \"bar\"}], \"barpolar\": [{\"marker\": {\"line\": {\"color\": \"#E5ECF6\", \"width\": 0.5}}, \"type\": \"barpolar\"}], \"carpet\": [{\"aaxis\": {\"endlinecolor\": \"#2a3f5f\", \"gridcolor\": \"white\", \"linecolor\": \"white\", \"minorgridcolor\": \"white\", \"startlinecolor\": \"#2a3f5f\"}, \"baxis\": {\"endlinecolor\": \"#2a3f5f\", \"gridcolor\": \"white\", \"linecolor\": \"white\", \"minorgridcolor\": \"white\", \"startlinecolor\": \"#2a3f5f\"}, \"type\": \"carpet\"}], \"choropleth\": [{\"colorbar\": {\"outlinewidth\": 0, \"ticks\": \"\"}, \"type\": \"choropleth\"}], \"contour\": [{\"colorbar\": {\"outlinewidth\": 0, \"ticks\": \"\"}, \"colorscale\": [[0.0, \"#0d0887\"], [0.1111111111111111, \"#46039f\"], [0.2222222222222222, \"#7201a8\"], [0.3333333333333333, \"#9c179e\"], [0.4444444444444444, \"#bd3786\"], [0.5555555555555556, \"#d8576b\"], [0.6666666666666666, \"#ed7953\"], [0.7777777777777778, \"#fb9f3a\"], [0.8888888888888888, \"#fdca26\"], [1.0, \"#f0f921\"]], \"type\": \"contour\"}], \"contourcarpet\": [{\"colorbar\": {\"outlinewidth\": 0, \"ticks\": \"\"}, \"type\": \"contourcarpet\"}], \"heatmap\": [{\"colorbar\": {\"outlinewidth\": 0, \"ticks\": \"\"}, \"colorscale\": [[0.0, \"#0d0887\"], [0.1111111111111111, \"#46039f\"], [0.2222222222222222, \"#7201a8\"], [0.3333333333333333, \"#9c179e\"], [0.4444444444444444, \"#bd3786\"], [0.5555555555555556, \"#d8576b\"], [0.6666666666666666, \"#ed7953\"], [0.7777777777777778, \"#fb9f3a\"], [0.8888888888888888, \"#fdca26\"], [1.0, \"#f0f921\"]], \"type\": \"heatmap\"}], \"heatmapgl\": [{\"colorbar\": {\"outlinewidth\": 0, \"ticks\": \"\"}, \"colorscale\": [[0.0, \"#0d0887\"], [0.1111111111111111, \"#46039f\"], [0.2222222222222222, \"#7201a8\"], [0.3333333333333333, \"#9c179e\"], [0.4444444444444444, \"#bd3786\"], [0.5555555555555556, \"#d8576b\"], [0.6666666666666666, \"#ed7953\"], [0.7777777777777778, \"#fb9f3a\"], [0.8888888888888888, \"#fdca26\"], [1.0, \"#f0f921\"]], \"type\": \"heatmapgl\"}], \"histogram\": [{\"marker\": {\"colorbar\": {\"outlinewidth\": 0, \"ticks\": \"\"}}, \"type\": \"histogram\"}], \"histogram2d\": [{\"colorbar\": {\"outlinewidth\": 0, \"ticks\": \"\"}, \"colorscale\": [[0.0, \"#0d0887\"], [0.1111111111111111, \"#46039f\"], [0.2222222222222222, \"#7201a8\"], [0.3333333333333333, \"#9c179e\"], [0.4444444444444444, \"#bd3786\"], [0.5555555555555556, \"#d8576b\"], [0.6666666666666666, \"#ed7953\"], [0.7777777777777778, \"#fb9f3a\"], [0.8888888888888888, \"#fdca26\"], [1.0, \"#f0f921\"]], \"type\": \"histogram2d\"}], \"histogram2dcontour\": [{\"colorbar\": {\"outlinewidth\": 0, \"ticks\": \"\"}, \"colorscale\": [[0.0, \"#0d0887\"], [0.1111111111111111, \"#46039f\"], [0.2222222222222222, \"#7201a8\"], [0.3333333333333333, \"#9c179e\"], [0.4444444444444444, \"#bd3786\"], [0.5555555555555556, \"#d8576b\"], [0.6666666666666666, \"#ed7953\"], [0.7777777777777778, \"#fb9f3a\"], [0.8888888888888888, \"#fdca26\"], [1.0, \"#f0f921\"]], \"type\": \"histogram2dcontour\"}], \"mesh3d\": [{\"colorbar\": {\"outlinewidth\": 0, \"ticks\": \"\"}, \"type\": \"mesh3d\"}], \"parcoords\": [{\"line\": {\"colorbar\": {\"outlinewidth\": 0, \"ticks\": \"\"}}, \"type\": \"parcoords\"}], \"scatter\": [{\"marker\": {\"colorbar\": {\"outlinewidth\": 0, \"ticks\": \"\"}}, \"type\": \"scatter\"}], \"scatter3d\": [{\"line\": {\"colorbar\": {\"outlinewidth\": 0, \"ticks\": \"\"}}, \"marker\": {\"colorbar\": {\"outlinewidth\": 0, \"ticks\": \"\"}}, \"type\": \"scatter3d\"}], \"scattercarpet\": [{\"marker\": {\"colorbar\": {\"outlinewidth\": 0, \"ticks\": \"\"}}, \"type\": \"scattercarpet\"}], \"scattergeo\": [{\"marker\": {\"colorbar\": {\"outlinewidth\": 0, \"ticks\": \"\"}}, \"type\": \"scattergeo\"}], \"scattergl\": [{\"marker\": {\"colorbar\": {\"outlinewidth\": 0, \"ticks\": \"\"}}, \"type\": \"scattergl\"}], \"scattermapbox\": [{\"marker\": {\"colorbar\": {\"outlinewidth\": 0, \"ticks\": \"\"}}, \"type\": \"scattermapbox\"}], \"scatterpolar\": [{\"marker\": {\"colorbar\": {\"outlinewidth\": 0, \"ticks\": \"\"}}, \"type\": \"scatterpolar\"}], \"scatterpolargl\": [{\"marker\": {\"colorbar\": {\"outlinewidth\": 0, \"ticks\": \"\"}}, \"type\": \"scatterpolargl\"}], \"scatterternary\": [{\"marker\": {\"colorbar\": {\"outlinewidth\": 0, \"ticks\": \"\"}}, \"type\": \"scatterternary\"}], \"surface\": [{\"colorbar\": {\"outlinewidth\": 0, \"ticks\": \"\"}, \"colorscale\": [[0.0, \"#0d0887\"], [0.1111111111111111, \"#46039f\"], [0.2222222222222222, \"#7201a8\"], [0.3333333333333333, \"#9c179e\"], [0.4444444444444444, \"#bd3786\"], [0.5555555555555556, \"#d8576b\"], [0.6666666666666666, \"#ed7953\"], [0.7777777777777778, \"#fb9f3a\"], [0.8888888888888888, \"#fdca26\"], [1.0, \"#f0f921\"]], \"type\": \"surface\"}], \"table\": [{\"cells\": {\"fill\": {\"color\": \"#EBF0F8\"}, \"line\": {\"color\": \"white\"}}, \"header\": {\"fill\": {\"color\": \"#C8D4E3\"}, \"line\": {\"color\": \"white\"}}, \"type\": \"table\"}]}, \"layout\": {\"annotationdefaults\": {\"arrowcolor\": \"#2a3f5f\", \"arrowhead\": 0, \"arrowwidth\": 1}, \"colorscale\": {\"diverging\": [[0, \"#8e0152\"], [0.1, \"#c51b7d\"], [0.2, \"#de77ae\"], [0.3, \"#f1b6da\"], [0.4, \"#fde0ef\"], [0.5, \"#f7f7f7\"], [0.6, \"#e6f5d0\"], [0.7, \"#b8e186\"], [0.8, \"#7fbc41\"], [0.9, \"#4d9221\"], [1, \"#276419\"]], \"sequential\": [[0.0, \"#0d0887\"], [0.1111111111111111, \"#46039f\"], [0.2222222222222222, \"#7201a8\"], [0.3333333333333333, \"#9c179e\"], [0.4444444444444444, \"#bd3786\"], [0.5555555555555556, \"#d8576b\"], [0.6666666666666666, \"#ed7953\"], [0.7777777777777778, \"#fb9f3a\"], [0.8888888888888888, \"#fdca26\"], [1.0, \"#f0f921\"]], \"sequentialminus\": [[0.0, \"#0d0887\"], [0.1111111111111111, \"#46039f\"], [0.2222222222222222, \"#7201a8\"], [0.3333333333333333, \"#9c179e\"], [0.4444444444444444, \"#bd3786\"], [0.5555555555555556, \"#d8576b\"], [0.6666666666666666, \"#ed7953\"], [0.7777777777777778, \"#fb9f3a\"], [0.8888888888888888, \"#fdca26\"], [1.0, \"#f0f921\"]]}, \"colorway\": [\"#636efa\", \"#EF553B\", \"#00cc96\", \"#ab63fa\", \"#FFA15A\", \"#19d3f3\", \"#FF6692\", \"#B6E880\", \"#FF97FF\", \"#FECB52\"], \"font\": {\"color\": \"#2a3f5f\"}, \"geo\": {\"bgcolor\": \"white\", \"lakecolor\": \"white\", \"landcolor\": \"#E5ECF6\", \"showlakes\": true, \"showland\": true, \"subunitcolor\": \"white\"}, \"hoverlabel\": {\"align\": \"left\"}, \"hovermode\": \"closest\", \"mapbox\": {\"style\": \"light\"}, \"paper_bgcolor\": \"white\", \"plot_bgcolor\": \"#E5ECF6\", \"polar\": {\"angularaxis\": {\"gridcolor\": \"white\", \"linecolor\": \"white\", \"ticks\": \"\"}, \"bgcolor\": \"#E5ECF6\", \"radialaxis\": {\"gridcolor\": \"white\", \"linecolor\": \"white\", \"ticks\": \"\"}}, \"scene\": {\"xaxis\": {\"backgroundcolor\": \"#E5ECF6\", \"gridcolor\": \"white\", \"gridwidth\": 2, \"linecolor\": \"white\", \"showbackground\": true, \"ticks\": \"\", \"zerolinecolor\": \"white\"}, \"yaxis\": {\"backgroundcolor\": \"#E5ECF6\", \"gridcolor\": \"white\", \"gridwidth\": 2, \"linecolor\": \"white\", \"showbackground\": true, \"ticks\": \"\", \"zerolinecolor\": \"white\"}, \"zaxis\": {\"backgroundcolor\": \"#E5ECF6\", \"gridcolor\": \"white\", \"gridwidth\": 2, \"linecolor\": \"white\", \"showbackground\": true, \"ticks\": \"\", \"zerolinecolor\": \"white\"}}, \"shapedefaults\": {\"line\": {\"color\": \"#2a3f5f\"}}, \"ternary\": {\"aaxis\": {\"gridcolor\": \"white\", \"linecolor\": \"white\", \"ticks\": \"\"}, \"baxis\": {\"gridcolor\": \"white\", \"linecolor\": \"white\", \"ticks\": \"\"}, \"bgcolor\": \"#E5ECF6\", \"caxis\": {\"gridcolor\": \"white\", \"linecolor\": \"white\", \"ticks\": \"\"}}, \"title\": {\"x\": 0.05}, \"xaxis\": {\"automargin\": true, \"gridcolor\": \"white\", \"linecolor\": \"white\", \"ticks\": \"\", \"zerolinecolor\": \"white\", \"zerolinewidth\": 2}, \"yaxis\": {\"automargin\": true, \"gridcolor\": \"white\", \"linecolor\": \"white\", \"ticks\": \"\", \"zerolinecolor\": \"white\", \"zerolinewidth\": 2}}}, \"title\": {\"text\": \"Perplexity 10\"}},\n",
       "                        {\"responsive\": true}\n",
       "                    ).then(function(){\n",
       "                            \n",
       "var gd = document.getElementById('b0261ce9-d9fc-44f1-b2bd-68a40fb5352a');\n",
       "var x = new MutationObserver(function (mutations, observer) {{\n",
       "        var display = window.getComputedStyle(gd).display;\n",
       "        if (!display || display === 'none') {{\n",
       "            console.log([gd, 'removed!']);\n",
       "            Plotly.purge(gd);\n",
       "            observer.disconnect();\n",
       "        }}\n",
       "}});\n",
       "\n",
       "// Listen for the removal of the full notebook cells\n",
       "var notebookContainer = gd.closest('#notebook-container');\n",
       "if (notebookContainer) {{\n",
       "    x.observe(notebookContainer, {childList: true});\n",
       "}}\n",
       "\n",
       "// Listen for the clearing of the current output cell\n",
       "var outputEl = gd.closest('.output');\n",
       "if (outputEl) {{\n",
       "    x.observe(outputEl, {childList: true});\n",
       "}}\n",
       "\n",
       "                        })\n",
       "                };\n",
       "                });\n",
       "            </script>\n",
       "        </div>"
      ]
     },
     "metadata": {},
     "output_type": "display_data"
    },
    {
     "data": {
      "application/vnd.plotly.v1+json": {
       "config": {
        "linkText": "Export to plot.ly",
        "plotlyServerURL": "https://plot.ly",
        "showLink": false
       },
       "data": [
        {
         "marker": {
          "color": "rgb(12, 12, 12)",
          "line": {
           "color": "rgba(217, 217, 217, 0.14)",
           "width": 1
          },
          "opacity": 0.9,
          "size": 12,
          "symbol": "circle"
         },
         "mode": "markers+text",
         "name": "BEFORE",
         "type": "scatter3d",
         "x": [
          38.008628845214844,
          -64.64282989501953,
          -29.920040130615234,
          -65.91389465332031,
          -60.8869514465332,
          29.89203453063965,
          -51.487220764160156,
          39.60302734375,
          9.614513397216797,
          -3.795502185821533,
          -46.33832931518555,
          -27.990947723388672,
          -14.55988883972168,
          -36.61495590209961,
          -42.169315338134766,
          86.6738510131836,
          -3.68904709815979,
          -11.969770431518555,
          -73.45941925048828,
          66.5287857055664,
          -76.12034606933594,
          -86.08244323730469,
          -20.715112686157227,
          35.85499954223633,
          2.352396249771118,
          33.36592102050781,
          -41.997413635253906,
          57.18224334716797,
          -25.016908645629883,
          2.5262582302093506,
          -78.87971496582031,
          -62.08433532714844,
          54.48605728149414,
          40.57861328125,
          -27.700790405273438,
          -57.243980407714844,
          54.61896514892578,
          -37.226749420166016,
          -16.636289596557617,
          -66.76885223388672,
          10.395021438598633,
          -35.472503662109375,
          55.80315017700195,
          -45.94144821166992,
          -7.676684379577637,
          68.5681381225586,
          90.65360260009766,
          57.94999313354492,
          -41.643714904785156,
          -20.558940887451172,
          -38.58535385131836,
          3.149012327194214,
          -50.30006790161133,
          -37.599609375,
          41.6252555847168,
          4.796310901641846,
          -6.048279762268066,
          -37.85942840576172,
          -15.845338821411133,
          -84.53787994384766,
          -57.48281478881836,
          16.547836303710938,
          -56.81817626953125,
          16.887359619140625,
          66.19524383544922,
          72.20550537109375,
          -33.01744842529297,
          45.56970977783203,
          -16.899646759033203,
          -48.66167449951172,
          15.52439022064209,
          -18.321542739868164,
          30.165081024169922,
          -35.645145416259766,
          -60.49687194824219,
          -79.29588317871094,
          -34.23661804199219,
          61.46681594848633,
          -18.484159469604492,
          -35.18378829956055,
          36.02505874633789,
          -61.97188186645508,
          66.70767974853516,
          -22.835344314575195,
          85.76554107666016,
          57.955482482910156,
          21.66915512084961,
          -42.4739875793457,
          -10.731547355651855,
          1.5573642253875732,
          -38.90620422363281,
          -15.596318244934082,
          28.14963150024414,
          82.65702056884766,
          33.08763885498047,
          -48.35546112060547,
          17.823505401611328,
          -21.914989471435547,
          -81.53374481201172,
          -39.23569107055664
         ],
         "y": [
          16.883249282836914,
          16.232084274291992,
          -21.02788543701172,
          -36.824771881103516,
          -12.94193172454834,
          20.03732681274414,
          15.542986869812012,
          -14.555512428283691,
          26.836233139038086,
          12.679483413696289,
          57.12827682495117,
          -44.96342849731445,
          -3.247800588607788,
          82.49786376953125,
          26.79861831665039,
          30.4002685546875,
          17.423532485961914,
          -24.690160751342773,
          2.917651653289795,
          33.68830490112305,
          -42.236019134521484,
          38.87144470214844,
          25.274829864501953,
          13.325660705566406,
          6.736376762390137,
          -30.219392776489258,
          40.79338836669922,
          -23.009321212768555,
          5.385828495025635,
          -31.523967742919922,
          34.09465408325195,
          -8.814126014709473,
          46.03958511352539,
          72.96011352539062,
          -44.74073791503906,
          -11.244590759277344,
          -76.44441986083984,
          -19.86879539489746,
          27.056520462036133,
          40.946258544921875,
          -2.0795440673828125,
          18.063051223754883,
          16.337614059448242,
          38.24668884277344,
          -44.982173919677734,
          25.0731201171875,
          -1.093285322189331,
          -23.058490753173828,
          53.73557662963867,
          -73.56107330322266,
          -8.969942092895508,
          9.783098220825195,
          1.9470148086547852,
          2.3610949516296387,
          -0.3019469380378723,
          -36.33684158325195,
          43.05637741088867,
          10.533218383789062,
          -9.21483039855957,
          9.168166160583496,
          8.70859432220459,
          -12.070243835449219,
          37.15816879272461,
          -24.186439514160156,
          3.324155807495117,
          39.73387145996094,
          8.642793655395508,
          42.16292953491211,
          -23.892780303955078,
          65.87992095947266,
          46.75627899169922,
          11.24874210357666,
          -45.18778610229492,
          -41.8093147277832,
          16.818349838256836,
          4.625677585601807,
          80.42731475830078,
          51.783103942871094,
          -34.46828842163086,
          -18.82887077331543,
          33.230552673339844,
          29.047229766845703,
          -43.76140213012695,
          14.010634422302246,
          51.75448226928711,
          -58.06376647949219,
          3.842514753341675,
          -26.570995330810547,
          -11.568921089172363,
          70.58319854736328,
          -6.284943103790283,
          -12.60466480255127,
          28.303634643554688,
          -22.24465560913086,
          -47.86847686767578,
          10.662762641906738,
          25.395641326904297,
          55.24496078491211,
          -8.845504760742188,
          31.484115600585938
         ],
         "z": [
          67.18854522705078,
          -10.862997055053711,
          -65.07057189941406,
          38.1194953918457,
          -18.71645736694336,
          -73.70182800292969,
          -54.410545349121094,
          78.61408233642578,
          83.41808319091797,
          29.825885772705078,
          0.03806500509381294,
          -55.017112731933594,
          -29.70454216003418,
          -15.020689964294434,
          22.135848999023438,
          18.580902099609375,
          -5.535574436187744,
          -28.103899002075195,
          -36.996116638183594,
          42.976966857910156,
          6.734650611877441,
          -18.58121681213379,
          16.700708389282227,
          -5.80712890625,
          9.169694900512695,
          41.66434860229492,
          -42.96449279785156,
          14.96042537689209,
          19.970897674560547,
          13.769795417785645,
          -48.8648681640625,
          7.703031539916992,
          23.189592361450195,
          45.32179260253906,
          -29.48808479309082,
          -52.07091522216797,
          4.4711222648620605,
          -15.718056678771973,
          -38.37112045288086,
          16.342031478881836,
          -62.12858963012695,
          -35.21852493286133,
          53.65462112426758,
          47.51443862915039,
          -7.202247142791748,
          -47.588314056396484,
          5.402210712432861,
          29.300552368164062,
          36.09910202026367,
          47.45159912109375,
          26.00912857055664,
          -53.200496673583984,
          -36.861759185791016,
          73.32564544677734,
          -29.82376480102539,
          -51.558597564697266,
          21.59316062927246,
          43.05986404418945,
          -3.802788257598877,
          -7.650301933288574,
          36.912471771240234,
          -39.00806427001953,
          -5.270298004150391,
          58.687904357910156,
          24.252126693725586,
          2.312713146209717,
          -87.12986755371094,
          59.66804885864258,
          -78.87621307373047,
          17.31475257873535,
          -10.12114429473877,
          -88.42139434814453,
          80.31947326660156,
          3.009098768234253,
          13.335247039794922,
          -64.56182861328125,
          20.801523208618164,
          -34.94818878173828,
          31.92731285095215,
          -44.121910095214844,
          6.9368510246276855,
          -30.38791275024414,
          16.315746307373047,
          -20.558698654174805,
          -10.769120216369629,
          -32.87850570678711,
          63.17898178100586,
          -77.3033447265625,
          -47.58507537841797,
          4.960028648376465,
          2.932069778442383,
          20.4232177734375,
          -17.937625885009766,
          31.42640495300293,
          59.638031005859375,
          61.8328857421875,
          -78.46321868896484,
          -43.9670524597168,
          17.57546615600586,
          -15.823554992675781
         ]
        },
        {
         "marker": {
          "color": "rgb(180, 180, 180)",
          "line": {
           "color": "rgba(217, 217, 217, 0.14)",
           "width": 1
          },
          "opacity": 0.9,
          "size": 12,
          "symbol": "circle"
         },
         "mode": "markers+text",
         "name": "OVERLAP",
         "type": "scatter3d",
         "x": [
          -90.01932525634766,
          -12.117874145507812,
          -31.404727935791016,
          -33.80613708496094,
          32.344215393066406,
          17.22536277770996,
          -35.25685119628906,
          56.97575759887695,
          9.827447891235352,
          -5.595056056976318,
          -24.801563262939453,
          15.594918251037598,
          -15.497452735900879,
          50.73234558105469,
          65.82061004638672,
          38.571834564208984,
          24.10321617126465,
          60.00562286376953,
          14.835179328918457,
          -20.934249877929688,
          35.69900894165039,
          87.97946166992188,
          -60.25620651245117,
          -5.177607536315918,
          -43.765567779541016,
          57.89256286621094,
          69.38652038574219,
          -7.353879451751709,
          -64.00595092773438,
          22.434343338012695,
          34.797603607177734,
          -88.73832702636719,
          36.83290100097656,
          -21.665332794189453,
          1.539214015007019,
          -4.153840065002441,
          28.83145523071289,
          2.951478958129883,
          -1.8128496408462524,
          -18.315412521362305,
          57.63823699951172,
          12.828182220458984,
          42.03424072265625,
          -13.21780014038086,
          -24.301841735839844,
          -6.306272029876709,
          9.159871101379395,
          18.905630111694336,
          4.3146772384643555,
          30.149110794067383,
          41.4501953125,
          73.37328338623047,
          -5.11637020111084,
          41.11441421508789,
          18.688888549804688,
          -13.247089385986328,
          -25.38498306274414,
          -41.28581237792969,
          48.07378005981445,
          31.028705596923828,
          69.2319564819336,
          61.834716796875,
          -40.42976760864258,
          1.6433745622634888,
          51.541934967041016,
          -73.73629760742188,
          4.639692306518555,
          8.286975860595703,
          86.31737518310547,
          43.608585357666016,
          8.988417625427246,
          -50.37596130371094,
          32.22770309448242,
          40.50143814086914,
          -51.94110870361328,
          -25.33017921447754,
          -82.0703125,
          6.080365180969238,
          -32.663326263427734,
          -64.80428314208984,
          15.156301498413086,
          17.118408203125,
          21.363357543945312,
          37.92734146118164,
          14.8287353515625,
          9.626394271850586,
          -18.192527770996094,
          85.32395935058594,
          14.566076278686523,
          -30.86131477355957,
          61.85384750366211,
          -57.27850341796875,
          -16.184988021850586,
          24.870532989501953,
          73.99922180175781,
          21.683866500854492,
          0.8333507180213928,
          41.75897216796875,
          56.26634216308594,
          -41.544097900390625
         ],
         "y": [
          22.7569522857666,
          44.26545715332031,
          37.262298583984375,
          38.58282470703125,
          40.27118682861328,
          23.77998924255371,
          -65.51907348632812,
          -30.95712661743164,
          28.443462371826172,
          31.883729934692383,
          0.5128834843635559,
          -15.372879028320312,
          26.475732803344727,
          44.1505126953125,
          -52.87914276123047,
          -5.767027854919434,
          -33.9037971496582,
          6.240377426147461,
          -1.0037211179733276,
          46.84008026123047,
          -12.565936088562012,
          -33.868804931640625,
          -13.003321647644043,
          50.214229583740234,
          7.206988334655762,
          24.69530487060547,
          -13.15426254272461,
          -76.36917877197266,
          -48.86526107788086,
          38.233421325683594,
          70.89044952392578,
          -22.081867218017578,
          -33.568603515625,
          56.40769577026367,
          -7.255344867706299,
          53.32075881958008,
          -76.06565856933594,
          -25.740188598632812,
          -47.81681442260742,
          75.41761779785156,
          -22.68105697631836,
          -80.89923858642578,
          -48.841705322265625,
          62.94895935058594,
          38.62687301635742,
          -11.204110145568848,
          74.86990356445312,
          -77.0866928100586,
          -23.414182662963867,
          11.285523414611816,
          25.539342880249023,
          14.874300956726074,
          -29.137165069580078,
          -16.632646560668945,
          -4.594529151916504,
          17.986820220947266,
          9.980478286743164,
          -52.84953308105469,
          21.355867385864258,
          10.01396369934082,
          30.80890655517578,
          -44.05418014526367,
          20.308273315429688,
          -1.4706974029541016,
          -0.4413923919200897,
          -40.57167434692383,
          -12.899860382080078,
          35.064453125,
          -15.084522247314453,
          -10.1958589553833,
          65.42787170410156,
          -37.170475006103516,
          52.861106872558594,
          -25.876375198364258,
          -29.61277961730957,
          10.043411254882812,
          -25.857685089111328,
          12.523818016052246,
          -24.266315460205078,
          63.562721252441406,
          -69.51638793945312,
          -44.69733428955078,
          -72.41468048095703,
          -49.936683654785156,
          -55.44367980957031,
          -49.744300842285156,
          -29.44828224182129,
          17.335777282714844,
          -46.544921875,
          2.237187623977661,
          6.399695873260498,
          -54.11422348022461,
          -65.81501007080078,
          -37.81853103637695,
          2.4026405811309814,
          -29.770614624023438,
          -25.413005828857422,
          -70.26799011230469,
          16.594707489013672,
          58.57273483276367
         ],
         "z": [
          28.13351058959961,
          -13.854437828063965,
          82.05621337890625,
          -66.91154479980469,
          28.866008758544922,
          33.77206039428711,
          -11.283171653747559,
          51.47671127319336,
          8.18127727508545,
          70.6817855834961,
          49.46162414550781,
          35.82312774658203,
          42.7000732421875,
          -13.129151344299316,
          46.87223434448242,
          35.34095764160156,
          23.38123893737793,
          -21.881206512451172,
          22.885698318481445,
          49.413997650146484,
          14.43669319152832,
          -4.707364082336426,
          46.77185821533203,
          -59.485687255859375,
          -14.929852485656738,
          -6.470102787017822,
          -17.78647232055664,
          -34.61954116821289,
          -46.78863525390625,
          55.37009048461914,
          6.505364418029785,
          -16.15989875793457,
          4.625653266906738,
          6.51412296295166,
          -24.117778778076172,
          69.4279556274414,
          23.343212127685547,
          43.43221664428711,
          60.42827606201172,
          -48.376495361328125,
          -39.203704833984375,
          5.97972297668457,
          36.51056671142578,
          -23.26778221130371,
          1.6255853176116943,
          83.58546447753906,
          -30.948482513427734,
          -42.50462341308594,
          -15.319433212280273,
          40.94749450683594,
          -38.67729187011719,
          3.353769302368164,
          78.26482391357422,
          -66.28121185302734,
          -13.430986404418945,
          70.13429260253906,
          -60.052127838134766,
          32.65574264526367,
          27.1716365814209,
          14.87026309967041,
          -26.456565856933594,
          -14.14225959777832,
          1.9027049541473389,
          48.210426330566406,
          -2.437293291091919,
          -40.590885162353516,
          9.693672180175781,
          -36.20646667480469,
          -29.82560920715332,
          53.516666412353516,
          36.86487579345703,
          -17.800678253173828,
          -52.34580612182617,
          -14.560251235961914,
          4.218104839324951,
          0.46359822154045105,
          -56.43272399902344,
          -27.432903289794922,
          55.932682037353516,
          -10.33276081085205,
          51.66960525512695,
          -55.327247619628906,
          -7.760930061340332,
          -8.050871849060059,
          3.8110485076904297,
          31.040367126464844,
          6.464015007019043,
          -18.61203956604004,
          -27.265344619750977,
          -41.86107635498047,
          -49.974403381347656,
          -7.158698558807373,
          15.57190990447998,
          -31.9686222076416,
          51.28974914550781,
          -3.44500994682312,
          -86.20217895507812,
          9.747037887573242,
          7.801651954650879,
          -23.589599609375
         ]
        }
       ],
       "layout": {
        "template": {
         "data": {
          "bar": [
           {
            "error_x": {
             "color": "#2a3f5f"
            },
            "error_y": {
             "color": "#2a3f5f"
            },
            "marker": {
             "line": {
              "color": "#E5ECF6",
              "width": 0.5
             }
            },
            "type": "bar"
           }
          ],
          "barpolar": [
           {
            "marker": {
             "line": {
              "color": "#E5ECF6",
              "width": 0.5
             }
            },
            "type": "barpolar"
           }
          ],
          "carpet": [
           {
            "aaxis": {
             "endlinecolor": "#2a3f5f",
             "gridcolor": "white",
             "linecolor": "white",
             "minorgridcolor": "white",
             "startlinecolor": "#2a3f5f"
            },
            "baxis": {
             "endlinecolor": "#2a3f5f",
             "gridcolor": "white",
             "linecolor": "white",
             "minorgridcolor": "white",
             "startlinecolor": "#2a3f5f"
            },
            "type": "carpet"
           }
          ],
          "choropleth": [
           {
            "colorbar": {
             "outlinewidth": 0,
             "ticks": ""
            },
            "type": "choropleth"
           }
          ],
          "contour": [
           {
            "colorbar": {
             "outlinewidth": 0,
             "ticks": ""
            },
            "colorscale": [
             [
              0,
              "#0d0887"
             ],
             [
              0.1111111111111111,
              "#46039f"
             ],
             [
              0.2222222222222222,
              "#7201a8"
             ],
             [
              0.3333333333333333,
              "#9c179e"
             ],
             [
              0.4444444444444444,
              "#bd3786"
             ],
             [
              0.5555555555555556,
              "#d8576b"
             ],
             [
              0.6666666666666666,
              "#ed7953"
             ],
             [
              0.7777777777777778,
              "#fb9f3a"
             ],
             [
              0.8888888888888888,
              "#fdca26"
             ],
             [
              1,
              "#f0f921"
             ]
            ],
            "type": "contour"
           }
          ],
          "contourcarpet": [
           {
            "colorbar": {
             "outlinewidth": 0,
             "ticks": ""
            },
            "type": "contourcarpet"
           }
          ],
          "heatmap": [
           {
            "colorbar": {
             "outlinewidth": 0,
             "ticks": ""
            },
            "colorscale": [
             [
              0,
              "#0d0887"
             ],
             [
              0.1111111111111111,
              "#46039f"
             ],
             [
              0.2222222222222222,
              "#7201a8"
             ],
             [
              0.3333333333333333,
              "#9c179e"
             ],
             [
              0.4444444444444444,
              "#bd3786"
             ],
             [
              0.5555555555555556,
              "#d8576b"
             ],
             [
              0.6666666666666666,
              "#ed7953"
             ],
             [
              0.7777777777777778,
              "#fb9f3a"
             ],
             [
              0.8888888888888888,
              "#fdca26"
             ],
             [
              1,
              "#f0f921"
             ]
            ],
            "type": "heatmap"
           }
          ],
          "heatmapgl": [
           {
            "colorbar": {
             "outlinewidth": 0,
             "ticks": ""
            },
            "colorscale": [
             [
              0,
              "#0d0887"
             ],
             [
              0.1111111111111111,
              "#46039f"
             ],
             [
              0.2222222222222222,
              "#7201a8"
             ],
             [
              0.3333333333333333,
              "#9c179e"
             ],
             [
              0.4444444444444444,
              "#bd3786"
             ],
             [
              0.5555555555555556,
              "#d8576b"
             ],
             [
              0.6666666666666666,
              "#ed7953"
             ],
             [
              0.7777777777777778,
              "#fb9f3a"
             ],
             [
              0.8888888888888888,
              "#fdca26"
             ],
             [
              1,
              "#f0f921"
             ]
            ],
            "type": "heatmapgl"
           }
          ],
          "histogram": [
           {
            "marker": {
             "colorbar": {
              "outlinewidth": 0,
              "ticks": ""
             }
            },
            "type": "histogram"
           }
          ],
          "histogram2d": [
           {
            "colorbar": {
             "outlinewidth": 0,
             "ticks": ""
            },
            "colorscale": [
             [
              0,
              "#0d0887"
             ],
             [
              0.1111111111111111,
              "#46039f"
             ],
             [
              0.2222222222222222,
              "#7201a8"
             ],
             [
              0.3333333333333333,
              "#9c179e"
             ],
             [
              0.4444444444444444,
              "#bd3786"
             ],
             [
              0.5555555555555556,
              "#d8576b"
             ],
             [
              0.6666666666666666,
              "#ed7953"
             ],
             [
              0.7777777777777778,
              "#fb9f3a"
             ],
             [
              0.8888888888888888,
              "#fdca26"
             ],
             [
              1,
              "#f0f921"
             ]
            ],
            "type": "histogram2d"
           }
          ],
          "histogram2dcontour": [
           {
            "colorbar": {
             "outlinewidth": 0,
             "ticks": ""
            },
            "colorscale": [
             [
              0,
              "#0d0887"
             ],
             [
              0.1111111111111111,
              "#46039f"
             ],
             [
              0.2222222222222222,
              "#7201a8"
             ],
             [
              0.3333333333333333,
              "#9c179e"
             ],
             [
              0.4444444444444444,
              "#bd3786"
             ],
             [
              0.5555555555555556,
              "#d8576b"
             ],
             [
              0.6666666666666666,
              "#ed7953"
             ],
             [
              0.7777777777777778,
              "#fb9f3a"
             ],
             [
              0.8888888888888888,
              "#fdca26"
             ],
             [
              1,
              "#f0f921"
             ]
            ],
            "type": "histogram2dcontour"
           }
          ],
          "mesh3d": [
           {
            "colorbar": {
             "outlinewidth": 0,
             "ticks": ""
            },
            "type": "mesh3d"
           }
          ],
          "parcoords": [
           {
            "line": {
             "colorbar": {
              "outlinewidth": 0,
              "ticks": ""
             }
            },
            "type": "parcoords"
           }
          ],
          "scatter": [
           {
            "marker": {
             "colorbar": {
              "outlinewidth": 0,
              "ticks": ""
             }
            },
            "type": "scatter"
           }
          ],
          "scatter3d": [
           {
            "line": {
             "colorbar": {
              "outlinewidth": 0,
              "ticks": ""
             }
            },
            "marker": {
             "colorbar": {
              "outlinewidth": 0,
              "ticks": ""
             }
            },
            "type": "scatter3d"
           }
          ],
          "scattercarpet": [
           {
            "marker": {
             "colorbar": {
              "outlinewidth": 0,
              "ticks": ""
             }
            },
            "type": "scattercarpet"
           }
          ],
          "scattergeo": [
           {
            "marker": {
             "colorbar": {
              "outlinewidth": 0,
              "ticks": ""
             }
            },
            "type": "scattergeo"
           }
          ],
          "scattergl": [
           {
            "marker": {
             "colorbar": {
              "outlinewidth": 0,
              "ticks": ""
             }
            },
            "type": "scattergl"
           }
          ],
          "scattermapbox": [
           {
            "marker": {
             "colorbar": {
              "outlinewidth": 0,
              "ticks": ""
             }
            },
            "type": "scattermapbox"
           }
          ],
          "scatterpolar": [
           {
            "marker": {
             "colorbar": {
              "outlinewidth": 0,
              "ticks": ""
             }
            },
            "type": "scatterpolar"
           }
          ],
          "scatterpolargl": [
           {
            "marker": {
             "colorbar": {
              "outlinewidth": 0,
              "ticks": ""
             }
            },
            "type": "scatterpolargl"
           }
          ],
          "scatterternary": [
           {
            "marker": {
             "colorbar": {
              "outlinewidth": 0,
              "ticks": ""
             }
            },
            "type": "scatterternary"
           }
          ],
          "surface": [
           {
            "colorbar": {
             "outlinewidth": 0,
             "ticks": ""
            },
            "colorscale": [
             [
              0,
              "#0d0887"
             ],
             [
              0.1111111111111111,
              "#46039f"
             ],
             [
              0.2222222222222222,
              "#7201a8"
             ],
             [
              0.3333333333333333,
              "#9c179e"
             ],
             [
              0.4444444444444444,
              "#bd3786"
             ],
             [
              0.5555555555555556,
              "#d8576b"
             ],
             [
              0.6666666666666666,
              "#ed7953"
             ],
             [
              0.7777777777777778,
              "#fb9f3a"
             ],
             [
              0.8888888888888888,
              "#fdca26"
             ],
             [
              1,
              "#f0f921"
             ]
            ],
            "type": "surface"
           }
          ],
          "table": [
           {
            "cells": {
             "fill": {
              "color": "#EBF0F8"
             },
             "line": {
              "color": "white"
             }
            },
            "header": {
             "fill": {
              "color": "#C8D4E3"
             },
             "line": {
              "color": "white"
             }
            },
            "type": "table"
           }
          ]
         },
         "layout": {
          "annotationdefaults": {
           "arrowcolor": "#2a3f5f",
           "arrowhead": 0,
           "arrowwidth": 1
          },
          "colorscale": {
           "diverging": [
            [
             0,
             "#8e0152"
            ],
            [
             0.1,
             "#c51b7d"
            ],
            [
             0.2,
             "#de77ae"
            ],
            [
             0.3,
             "#f1b6da"
            ],
            [
             0.4,
             "#fde0ef"
            ],
            [
             0.5,
             "#f7f7f7"
            ],
            [
             0.6,
             "#e6f5d0"
            ],
            [
             0.7,
             "#b8e186"
            ],
            [
             0.8,
             "#7fbc41"
            ],
            [
             0.9,
             "#4d9221"
            ],
            [
             1,
             "#276419"
            ]
           ],
           "sequential": [
            [
             0,
             "#0d0887"
            ],
            [
             0.1111111111111111,
             "#46039f"
            ],
            [
             0.2222222222222222,
             "#7201a8"
            ],
            [
             0.3333333333333333,
             "#9c179e"
            ],
            [
             0.4444444444444444,
             "#bd3786"
            ],
            [
             0.5555555555555556,
             "#d8576b"
            ],
            [
             0.6666666666666666,
             "#ed7953"
            ],
            [
             0.7777777777777778,
             "#fb9f3a"
            ],
            [
             0.8888888888888888,
             "#fdca26"
            ],
            [
             1,
             "#f0f921"
            ]
           ],
           "sequentialminus": [
            [
             0,
             "#0d0887"
            ],
            [
             0.1111111111111111,
             "#46039f"
            ],
            [
             0.2222222222222222,
             "#7201a8"
            ],
            [
             0.3333333333333333,
             "#9c179e"
            ],
            [
             0.4444444444444444,
             "#bd3786"
            ],
            [
             0.5555555555555556,
             "#d8576b"
            ],
            [
             0.6666666666666666,
             "#ed7953"
            ],
            [
             0.7777777777777778,
             "#fb9f3a"
            ],
            [
             0.8888888888888888,
             "#fdca26"
            ],
            [
             1,
             "#f0f921"
            ]
           ]
          },
          "colorway": [
           "#636efa",
           "#EF553B",
           "#00cc96",
           "#ab63fa",
           "#FFA15A",
           "#19d3f3",
           "#FF6692",
           "#B6E880",
           "#FF97FF",
           "#FECB52"
          ],
          "font": {
           "color": "#2a3f5f"
          },
          "geo": {
           "bgcolor": "white",
           "lakecolor": "white",
           "landcolor": "#E5ECF6",
           "showlakes": true,
           "showland": true,
           "subunitcolor": "white"
          },
          "hoverlabel": {
           "align": "left"
          },
          "hovermode": "closest",
          "mapbox": {
           "style": "light"
          },
          "paper_bgcolor": "white",
          "plot_bgcolor": "#E5ECF6",
          "polar": {
           "angularaxis": {
            "gridcolor": "white",
            "linecolor": "white",
            "ticks": ""
           },
           "bgcolor": "#E5ECF6",
           "radialaxis": {
            "gridcolor": "white",
            "linecolor": "white",
            "ticks": ""
           }
          },
          "scene": {
           "xaxis": {
            "backgroundcolor": "#E5ECF6",
            "gridcolor": "white",
            "gridwidth": 2,
            "linecolor": "white",
            "showbackground": true,
            "ticks": "",
            "zerolinecolor": "white"
           },
           "yaxis": {
            "backgroundcolor": "#E5ECF6",
            "gridcolor": "white",
            "gridwidth": 2,
            "linecolor": "white",
            "showbackground": true,
            "ticks": "",
            "zerolinecolor": "white"
           },
           "zaxis": {
            "backgroundcolor": "#E5ECF6",
            "gridcolor": "white",
            "gridwidth": 2,
            "linecolor": "white",
            "showbackground": true,
            "ticks": "",
            "zerolinecolor": "white"
           }
          },
          "shapedefaults": {
           "line": {
            "color": "#2a3f5f"
           }
          },
          "ternary": {
           "aaxis": {
            "gridcolor": "white",
            "linecolor": "white",
            "ticks": ""
           },
           "baxis": {
            "gridcolor": "white",
            "linecolor": "white",
            "ticks": ""
           },
           "bgcolor": "#E5ECF6",
           "caxis": {
            "gridcolor": "white",
            "linecolor": "white",
            "ticks": ""
           }
          },
          "title": {
           "x": 0.05
          },
          "xaxis": {
           "automargin": true,
           "gridcolor": "white",
           "linecolor": "white",
           "ticks": "",
           "zerolinecolor": "white",
           "zerolinewidth": 2
          },
          "yaxis": {
           "automargin": true,
           "gridcolor": "white",
           "linecolor": "white",
           "ticks": "",
           "zerolinecolor": "white",
           "zerolinewidth": 2
          }
         }
        },
        "title": {
         "text": "Perplexity 30"
        }
       }
      },
      "text/html": [
       "<div>\n",
       "        \n",
       "        \n",
       "            <div id=\"a8b3cb41-899b-4a7a-84ed-e86818169306\" class=\"plotly-graph-div\" style=\"height:525px; width:100%;\"></div>\n",
       "            <script type=\"text/javascript\">\n",
       "                require([\"plotly\"], function(Plotly) {\n",
       "                    window.PLOTLYENV=window.PLOTLYENV || {};\n",
       "                    \n",
       "                if (document.getElementById(\"a8b3cb41-899b-4a7a-84ed-e86818169306\")) {\n",
       "                    Plotly.newPlot(\n",
       "                        'a8b3cb41-899b-4a7a-84ed-e86818169306',\n",
       "                        [{\"marker\": {\"color\": \"rgb(12, 12, 12)\", \"line\": {\"color\": \"rgba(217, 217, 217, 0.14)\", \"width\": 1}, \"opacity\": 0.9, \"size\": 12, \"symbol\": \"circle\"}, \"mode\": \"markers+text\", \"name\": \"BEFORE\", \"type\": \"scatter3d\", \"x\": [38.008628845214844, -64.64282989501953, -29.920040130615234, -65.91389465332031, -60.8869514465332, 29.89203453063965, -51.487220764160156, 39.60302734375, 9.614513397216797, -3.795502185821533, -46.33832931518555, -27.990947723388672, -14.55988883972168, -36.61495590209961, -42.169315338134766, 86.6738510131836, -3.68904709815979, -11.969770431518555, -73.45941925048828, 66.5287857055664, -76.12034606933594, -86.08244323730469, -20.715112686157227, 35.85499954223633, 2.352396249771118, 33.36592102050781, -41.997413635253906, 57.18224334716797, -25.016908645629883, 2.5262582302093506, -78.87971496582031, -62.08433532714844, 54.48605728149414, 40.57861328125, -27.700790405273438, -57.243980407714844, 54.61896514892578, -37.226749420166016, -16.636289596557617, -66.76885223388672, 10.395021438598633, -35.472503662109375, 55.80315017700195, -45.94144821166992, -7.676684379577637, 68.5681381225586, 90.65360260009766, 57.94999313354492, -41.643714904785156, -20.558940887451172, -38.58535385131836, 3.149012327194214, -50.30006790161133, -37.599609375, 41.6252555847168, 4.796310901641846, -6.048279762268066, -37.85942840576172, -15.845338821411133, -84.53787994384766, -57.48281478881836, 16.547836303710938, -56.81817626953125, 16.887359619140625, 66.19524383544922, 72.20550537109375, -33.01744842529297, 45.56970977783203, -16.899646759033203, -48.66167449951172, 15.52439022064209, -18.321542739868164, 30.165081024169922, -35.645145416259766, -60.49687194824219, -79.29588317871094, -34.23661804199219, 61.46681594848633, -18.484159469604492, -35.18378829956055, 36.02505874633789, -61.97188186645508, 66.70767974853516, -22.835344314575195, 85.76554107666016, 57.955482482910156, 21.66915512084961, -42.4739875793457, -10.731547355651855, 1.5573642253875732, -38.90620422363281, -15.596318244934082, 28.14963150024414, 82.65702056884766, 33.08763885498047, -48.35546112060547, 17.823505401611328, -21.914989471435547, -81.53374481201172, -39.23569107055664], \"y\": [16.883249282836914, 16.232084274291992, -21.02788543701172, -36.824771881103516, -12.94193172454834, 20.03732681274414, 15.542986869812012, -14.555512428283691, 26.836233139038086, 12.679483413696289, 57.12827682495117, -44.96342849731445, -3.247800588607788, 82.49786376953125, 26.79861831665039, 30.4002685546875, 17.423532485961914, -24.690160751342773, 2.917651653289795, 33.68830490112305, -42.236019134521484, 38.87144470214844, 25.274829864501953, 13.325660705566406, 6.736376762390137, -30.219392776489258, 40.79338836669922, -23.009321212768555, 5.385828495025635, -31.523967742919922, 34.09465408325195, -8.814126014709473, 46.03958511352539, 72.96011352539062, -44.74073791503906, -11.244590759277344, -76.44441986083984, -19.86879539489746, 27.056520462036133, 40.946258544921875, -2.0795440673828125, 18.063051223754883, 16.337614059448242, 38.24668884277344, -44.982173919677734, 25.0731201171875, -1.093285322189331, -23.058490753173828, 53.73557662963867, -73.56107330322266, -8.969942092895508, 9.783098220825195, 1.9470148086547852, 2.3610949516296387, -0.3019469380378723, -36.33684158325195, 43.05637741088867, 10.533218383789062, -9.21483039855957, 9.168166160583496, 8.70859432220459, -12.070243835449219, 37.15816879272461, -24.186439514160156, 3.324155807495117, 39.73387145996094, 8.642793655395508, 42.16292953491211, -23.892780303955078, 65.87992095947266, 46.75627899169922, 11.24874210357666, -45.18778610229492, -41.8093147277832, 16.818349838256836, 4.625677585601807, 80.42731475830078, 51.783103942871094, -34.46828842163086, -18.82887077331543, 33.230552673339844, 29.047229766845703, -43.76140213012695, 14.010634422302246, 51.75448226928711, -58.06376647949219, 3.842514753341675, -26.570995330810547, -11.568921089172363, 70.58319854736328, -6.284943103790283, -12.60466480255127, 28.303634643554688, -22.24465560913086, -47.86847686767578, 10.662762641906738, 25.395641326904297, 55.24496078491211, -8.845504760742188, 31.484115600585938], \"z\": [67.18854522705078, -10.862997055053711, -65.07057189941406, 38.1194953918457, -18.71645736694336, -73.70182800292969, -54.410545349121094, 78.61408233642578, 83.41808319091797, 29.825885772705078, 0.03806500509381294, -55.017112731933594, -29.70454216003418, -15.020689964294434, 22.135848999023438, 18.580902099609375, -5.535574436187744, -28.103899002075195, -36.996116638183594, 42.976966857910156, 6.734650611877441, -18.58121681213379, 16.700708389282227, -5.80712890625, 9.169694900512695, 41.66434860229492, -42.96449279785156, 14.96042537689209, 19.970897674560547, 13.769795417785645, -48.8648681640625, 7.703031539916992, 23.189592361450195, 45.32179260253906, -29.48808479309082, -52.07091522216797, 4.4711222648620605, -15.718056678771973, -38.37112045288086, 16.342031478881836, -62.12858963012695, -35.21852493286133, 53.65462112426758, 47.51443862915039, -7.202247142791748, -47.588314056396484, 5.402210712432861, 29.300552368164062, 36.09910202026367, 47.45159912109375, 26.00912857055664, -53.200496673583984, -36.861759185791016, 73.32564544677734, -29.82376480102539, -51.558597564697266, 21.59316062927246, 43.05986404418945, -3.802788257598877, -7.650301933288574, 36.912471771240234, -39.00806427001953, -5.270298004150391, 58.687904357910156, 24.252126693725586, 2.312713146209717, -87.12986755371094, 59.66804885864258, -78.87621307373047, 17.31475257873535, -10.12114429473877, -88.42139434814453, 80.31947326660156, 3.009098768234253, 13.335247039794922, -64.56182861328125, 20.801523208618164, -34.94818878173828, 31.92731285095215, -44.121910095214844, 6.9368510246276855, -30.38791275024414, 16.315746307373047, -20.558698654174805, -10.769120216369629, -32.87850570678711, 63.17898178100586, -77.3033447265625, -47.58507537841797, 4.960028648376465, 2.932069778442383, 20.4232177734375, -17.937625885009766, 31.42640495300293, 59.638031005859375, 61.8328857421875, -78.46321868896484, -43.9670524597168, 17.57546615600586, -15.823554992675781]}, {\"marker\": {\"color\": \"rgb(180, 180, 180)\", \"line\": {\"color\": \"rgba(217, 217, 217, 0.14)\", \"width\": 1}, \"opacity\": 0.9, \"size\": 12, \"symbol\": \"circle\"}, \"mode\": \"markers+text\", \"name\": \"OVERLAP\", \"type\": \"scatter3d\", \"x\": [-90.01932525634766, -12.117874145507812, -31.404727935791016, -33.80613708496094, 32.344215393066406, 17.22536277770996, -35.25685119628906, 56.97575759887695, 9.827447891235352, -5.595056056976318, -24.801563262939453, 15.594918251037598, -15.497452735900879, 50.73234558105469, 65.82061004638672, 38.571834564208984, 24.10321617126465, 60.00562286376953, 14.835179328918457, -20.934249877929688, 35.69900894165039, 87.97946166992188, -60.25620651245117, -5.177607536315918, -43.765567779541016, 57.89256286621094, 69.38652038574219, -7.353879451751709, -64.00595092773438, 22.434343338012695, 34.797603607177734, -88.73832702636719, 36.83290100097656, -21.665332794189453, 1.539214015007019, -4.153840065002441, 28.83145523071289, 2.951478958129883, -1.8128496408462524, -18.315412521362305, 57.63823699951172, 12.828182220458984, 42.03424072265625, -13.21780014038086, -24.301841735839844, -6.306272029876709, 9.159871101379395, 18.905630111694336, 4.3146772384643555, 30.149110794067383, 41.4501953125, 73.37328338623047, -5.11637020111084, 41.11441421508789, 18.688888549804688, -13.247089385986328, -25.38498306274414, -41.28581237792969, 48.07378005981445, 31.028705596923828, 69.2319564819336, 61.834716796875, -40.42976760864258, 1.6433745622634888, 51.541934967041016, -73.73629760742188, 4.639692306518555, 8.286975860595703, 86.31737518310547, 43.608585357666016, 8.988417625427246, -50.37596130371094, 32.22770309448242, 40.50143814086914, -51.94110870361328, -25.33017921447754, -82.0703125, 6.080365180969238, -32.663326263427734, -64.80428314208984, 15.156301498413086, 17.118408203125, 21.363357543945312, 37.92734146118164, 14.8287353515625, 9.626394271850586, -18.192527770996094, 85.32395935058594, 14.566076278686523, -30.86131477355957, 61.85384750366211, -57.27850341796875, -16.184988021850586, 24.870532989501953, 73.99922180175781, 21.683866500854492, 0.8333507180213928, 41.75897216796875, 56.26634216308594, -41.544097900390625], \"y\": [22.7569522857666, 44.26545715332031, 37.262298583984375, 38.58282470703125, 40.27118682861328, 23.77998924255371, -65.51907348632812, -30.95712661743164, 28.443462371826172, 31.883729934692383, 0.5128834843635559, -15.372879028320312, 26.475732803344727, 44.1505126953125, -52.87914276123047, -5.767027854919434, -33.9037971496582, 6.240377426147461, -1.0037211179733276, 46.84008026123047, -12.565936088562012, -33.868804931640625, -13.003321647644043, 50.214229583740234, 7.206988334655762, 24.69530487060547, -13.15426254272461, -76.36917877197266, -48.86526107788086, 38.233421325683594, 70.89044952392578, -22.081867218017578, -33.568603515625, 56.40769577026367, -7.255344867706299, 53.32075881958008, -76.06565856933594, -25.740188598632812, -47.81681442260742, 75.41761779785156, -22.68105697631836, -80.89923858642578, -48.841705322265625, 62.94895935058594, 38.62687301635742, -11.204110145568848, 74.86990356445312, -77.0866928100586, -23.414182662963867, 11.285523414611816, 25.539342880249023, 14.874300956726074, -29.137165069580078, -16.632646560668945, -4.594529151916504, 17.986820220947266, 9.980478286743164, -52.84953308105469, 21.355867385864258, 10.01396369934082, 30.80890655517578, -44.05418014526367, 20.308273315429688, -1.4706974029541016, -0.4413923919200897, -40.57167434692383, -12.899860382080078, 35.064453125, -15.084522247314453, -10.1958589553833, 65.42787170410156, -37.170475006103516, 52.861106872558594, -25.876375198364258, -29.61277961730957, 10.043411254882812, -25.857685089111328, 12.523818016052246, -24.266315460205078, 63.562721252441406, -69.51638793945312, -44.69733428955078, -72.41468048095703, -49.936683654785156, -55.44367980957031, -49.744300842285156, -29.44828224182129, 17.335777282714844, -46.544921875, 2.237187623977661, 6.399695873260498, -54.11422348022461, -65.81501007080078, -37.81853103637695, 2.4026405811309814, -29.770614624023438, -25.413005828857422, -70.26799011230469, 16.594707489013672, 58.57273483276367], \"z\": [28.13351058959961, -13.854437828063965, 82.05621337890625, -66.91154479980469, 28.866008758544922, 33.77206039428711, -11.283171653747559, 51.47671127319336, 8.18127727508545, 70.6817855834961, 49.46162414550781, 35.82312774658203, 42.7000732421875, -13.129151344299316, 46.87223434448242, 35.34095764160156, 23.38123893737793, -21.881206512451172, 22.885698318481445, 49.413997650146484, 14.43669319152832, -4.707364082336426, 46.77185821533203, -59.485687255859375, -14.929852485656738, -6.470102787017822, -17.78647232055664, -34.61954116821289, -46.78863525390625, 55.37009048461914, 6.505364418029785, -16.15989875793457, 4.625653266906738, 6.51412296295166, -24.117778778076172, 69.4279556274414, 23.343212127685547, 43.43221664428711, 60.42827606201172, -48.376495361328125, -39.203704833984375, 5.97972297668457, 36.51056671142578, -23.26778221130371, 1.6255853176116943, 83.58546447753906, -30.948482513427734, -42.50462341308594, -15.319433212280273, 40.94749450683594, -38.67729187011719, 3.353769302368164, 78.26482391357422, -66.28121185302734, -13.430986404418945, 70.13429260253906, -60.052127838134766, 32.65574264526367, 27.1716365814209, 14.87026309967041, -26.456565856933594, -14.14225959777832, 1.9027049541473389, 48.210426330566406, -2.437293291091919, -40.590885162353516, 9.693672180175781, -36.20646667480469, -29.82560920715332, 53.516666412353516, 36.86487579345703, -17.800678253173828, -52.34580612182617, -14.560251235961914, 4.218104839324951, 0.46359822154045105, -56.43272399902344, -27.432903289794922, 55.932682037353516, -10.33276081085205, 51.66960525512695, -55.327247619628906, -7.760930061340332, -8.050871849060059, 3.8110485076904297, 31.040367126464844, 6.464015007019043, -18.61203956604004, -27.265344619750977, -41.86107635498047, -49.974403381347656, -7.158698558807373, 15.57190990447998, -31.9686222076416, 51.28974914550781, -3.44500994682312, -86.20217895507812, 9.747037887573242, 7.801651954650879, -23.589599609375]}],\n",
       "                        {\"template\": {\"data\": {\"bar\": [{\"error_x\": {\"color\": \"#2a3f5f\"}, \"error_y\": {\"color\": \"#2a3f5f\"}, \"marker\": {\"line\": {\"color\": \"#E5ECF6\", \"width\": 0.5}}, \"type\": \"bar\"}], \"barpolar\": [{\"marker\": {\"line\": {\"color\": \"#E5ECF6\", \"width\": 0.5}}, \"type\": \"barpolar\"}], \"carpet\": [{\"aaxis\": {\"endlinecolor\": \"#2a3f5f\", \"gridcolor\": \"white\", \"linecolor\": \"white\", \"minorgridcolor\": \"white\", \"startlinecolor\": \"#2a3f5f\"}, \"baxis\": {\"endlinecolor\": \"#2a3f5f\", \"gridcolor\": \"white\", \"linecolor\": \"white\", \"minorgridcolor\": \"white\", \"startlinecolor\": \"#2a3f5f\"}, \"type\": \"carpet\"}], \"choropleth\": [{\"colorbar\": {\"outlinewidth\": 0, \"ticks\": \"\"}, \"type\": \"choropleth\"}], \"contour\": [{\"colorbar\": {\"outlinewidth\": 0, \"ticks\": \"\"}, \"colorscale\": [[0.0, \"#0d0887\"], [0.1111111111111111, \"#46039f\"], [0.2222222222222222, \"#7201a8\"], [0.3333333333333333, \"#9c179e\"], [0.4444444444444444, \"#bd3786\"], [0.5555555555555556, \"#d8576b\"], [0.6666666666666666, \"#ed7953\"], [0.7777777777777778, \"#fb9f3a\"], [0.8888888888888888, \"#fdca26\"], [1.0, \"#f0f921\"]], \"type\": \"contour\"}], \"contourcarpet\": [{\"colorbar\": {\"outlinewidth\": 0, \"ticks\": \"\"}, \"type\": \"contourcarpet\"}], \"heatmap\": [{\"colorbar\": {\"outlinewidth\": 0, \"ticks\": \"\"}, \"colorscale\": [[0.0, \"#0d0887\"], [0.1111111111111111, \"#46039f\"], [0.2222222222222222, \"#7201a8\"], [0.3333333333333333, \"#9c179e\"], [0.4444444444444444, \"#bd3786\"], [0.5555555555555556, \"#d8576b\"], [0.6666666666666666, \"#ed7953\"], [0.7777777777777778, \"#fb9f3a\"], [0.8888888888888888, \"#fdca26\"], [1.0, \"#f0f921\"]], \"type\": \"heatmap\"}], \"heatmapgl\": [{\"colorbar\": {\"outlinewidth\": 0, \"ticks\": \"\"}, \"colorscale\": [[0.0, \"#0d0887\"], [0.1111111111111111, \"#46039f\"], [0.2222222222222222, \"#7201a8\"], [0.3333333333333333, \"#9c179e\"], [0.4444444444444444, \"#bd3786\"], [0.5555555555555556, \"#d8576b\"], [0.6666666666666666, \"#ed7953\"], [0.7777777777777778, \"#fb9f3a\"], [0.8888888888888888, \"#fdca26\"], [1.0, \"#f0f921\"]], \"type\": \"heatmapgl\"}], \"histogram\": [{\"marker\": {\"colorbar\": {\"outlinewidth\": 0, \"ticks\": \"\"}}, \"type\": \"histogram\"}], \"histogram2d\": [{\"colorbar\": {\"outlinewidth\": 0, \"ticks\": \"\"}, \"colorscale\": [[0.0, \"#0d0887\"], [0.1111111111111111, \"#46039f\"], [0.2222222222222222, \"#7201a8\"], [0.3333333333333333, \"#9c179e\"], [0.4444444444444444, \"#bd3786\"], [0.5555555555555556, \"#d8576b\"], [0.6666666666666666, \"#ed7953\"], [0.7777777777777778, \"#fb9f3a\"], [0.8888888888888888, \"#fdca26\"], [1.0, \"#f0f921\"]], \"type\": \"histogram2d\"}], \"histogram2dcontour\": [{\"colorbar\": {\"outlinewidth\": 0, \"ticks\": \"\"}, \"colorscale\": [[0.0, \"#0d0887\"], [0.1111111111111111, \"#46039f\"], [0.2222222222222222, \"#7201a8\"], [0.3333333333333333, \"#9c179e\"], [0.4444444444444444, \"#bd3786\"], [0.5555555555555556, \"#d8576b\"], [0.6666666666666666, \"#ed7953\"], [0.7777777777777778, \"#fb9f3a\"], [0.8888888888888888, \"#fdca26\"], [1.0, \"#f0f921\"]], \"type\": \"histogram2dcontour\"}], \"mesh3d\": [{\"colorbar\": {\"outlinewidth\": 0, \"ticks\": \"\"}, \"type\": \"mesh3d\"}], \"parcoords\": [{\"line\": {\"colorbar\": {\"outlinewidth\": 0, \"ticks\": \"\"}}, \"type\": \"parcoords\"}], \"scatter\": [{\"marker\": {\"colorbar\": {\"outlinewidth\": 0, \"ticks\": \"\"}}, \"type\": \"scatter\"}], \"scatter3d\": [{\"line\": {\"colorbar\": {\"outlinewidth\": 0, \"ticks\": \"\"}}, \"marker\": {\"colorbar\": {\"outlinewidth\": 0, \"ticks\": \"\"}}, \"type\": \"scatter3d\"}], \"scattercarpet\": [{\"marker\": {\"colorbar\": {\"outlinewidth\": 0, \"ticks\": \"\"}}, \"type\": \"scattercarpet\"}], \"scattergeo\": [{\"marker\": {\"colorbar\": {\"outlinewidth\": 0, \"ticks\": \"\"}}, \"type\": \"scattergeo\"}], \"scattergl\": [{\"marker\": {\"colorbar\": {\"outlinewidth\": 0, \"ticks\": \"\"}}, \"type\": \"scattergl\"}], \"scattermapbox\": [{\"marker\": {\"colorbar\": {\"outlinewidth\": 0, \"ticks\": \"\"}}, \"type\": \"scattermapbox\"}], \"scatterpolar\": [{\"marker\": {\"colorbar\": {\"outlinewidth\": 0, \"ticks\": \"\"}}, \"type\": \"scatterpolar\"}], \"scatterpolargl\": [{\"marker\": {\"colorbar\": {\"outlinewidth\": 0, \"ticks\": \"\"}}, \"type\": \"scatterpolargl\"}], \"scatterternary\": [{\"marker\": {\"colorbar\": {\"outlinewidth\": 0, \"ticks\": \"\"}}, \"type\": \"scatterternary\"}], \"surface\": [{\"colorbar\": {\"outlinewidth\": 0, \"ticks\": \"\"}, \"colorscale\": [[0.0, \"#0d0887\"], [0.1111111111111111, \"#46039f\"], [0.2222222222222222, \"#7201a8\"], [0.3333333333333333, \"#9c179e\"], [0.4444444444444444, \"#bd3786\"], [0.5555555555555556, \"#d8576b\"], [0.6666666666666666, \"#ed7953\"], [0.7777777777777778, \"#fb9f3a\"], [0.8888888888888888, \"#fdca26\"], [1.0, \"#f0f921\"]], \"type\": \"surface\"}], \"table\": [{\"cells\": {\"fill\": {\"color\": \"#EBF0F8\"}, \"line\": {\"color\": \"white\"}}, \"header\": {\"fill\": {\"color\": \"#C8D4E3\"}, \"line\": {\"color\": \"white\"}}, \"type\": \"table\"}]}, \"layout\": {\"annotationdefaults\": {\"arrowcolor\": \"#2a3f5f\", \"arrowhead\": 0, \"arrowwidth\": 1}, \"colorscale\": {\"diverging\": [[0, \"#8e0152\"], [0.1, \"#c51b7d\"], [0.2, \"#de77ae\"], [0.3, \"#f1b6da\"], [0.4, \"#fde0ef\"], [0.5, \"#f7f7f7\"], [0.6, \"#e6f5d0\"], [0.7, \"#b8e186\"], [0.8, \"#7fbc41\"], [0.9, \"#4d9221\"], [1, \"#276419\"]], \"sequential\": [[0.0, \"#0d0887\"], [0.1111111111111111, \"#46039f\"], [0.2222222222222222, \"#7201a8\"], [0.3333333333333333, \"#9c179e\"], [0.4444444444444444, \"#bd3786\"], [0.5555555555555556, \"#d8576b\"], [0.6666666666666666, \"#ed7953\"], [0.7777777777777778, \"#fb9f3a\"], [0.8888888888888888, \"#fdca26\"], [1.0, \"#f0f921\"]], \"sequentialminus\": [[0.0, \"#0d0887\"], [0.1111111111111111, \"#46039f\"], [0.2222222222222222, \"#7201a8\"], [0.3333333333333333, \"#9c179e\"], [0.4444444444444444, \"#bd3786\"], [0.5555555555555556, \"#d8576b\"], [0.6666666666666666, \"#ed7953\"], [0.7777777777777778, \"#fb9f3a\"], [0.8888888888888888, \"#fdca26\"], [1.0, \"#f0f921\"]]}, \"colorway\": [\"#636efa\", \"#EF553B\", \"#00cc96\", \"#ab63fa\", \"#FFA15A\", \"#19d3f3\", \"#FF6692\", \"#B6E880\", \"#FF97FF\", \"#FECB52\"], \"font\": {\"color\": \"#2a3f5f\"}, \"geo\": {\"bgcolor\": \"white\", \"lakecolor\": \"white\", \"landcolor\": \"#E5ECF6\", \"showlakes\": true, \"showland\": true, \"subunitcolor\": \"white\"}, \"hoverlabel\": {\"align\": \"left\"}, \"hovermode\": \"closest\", \"mapbox\": {\"style\": \"light\"}, \"paper_bgcolor\": \"white\", \"plot_bgcolor\": \"#E5ECF6\", \"polar\": {\"angularaxis\": {\"gridcolor\": \"white\", \"linecolor\": \"white\", \"ticks\": \"\"}, \"bgcolor\": \"#E5ECF6\", \"radialaxis\": {\"gridcolor\": \"white\", \"linecolor\": \"white\", \"ticks\": \"\"}}, \"scene\": {\"xaxis\": {\"backgroundcolor\": \"#E5ECF6\", \"gridcolor\": \"white\", \"gridwidth\": 2, \"linecolor\": \"white\", \"showbackground\": true, \"ticks\": \"\", \"zerolinecolor\": \"white\"}, \"yaxis\": {\"backgroundcolor\": \"#E5ECF6\", \"gridcolor\": \"white\", \"gridwidth\": 2, \"linecolor\": \"white\", \"showbackground\": true, \"ticks\": \"\", \"zerolinecolor\": \"white\"}, \"zaxis\": {\"backgroundcolor\": \"#E5ECF6\", \"gridcolor\": \"white\", \"gridwidth\": 2, \"linecolor\": \"white\", \"showbackground\": true, \"ticks\": \"\", \"zerolinecolor\": \"white\"}}, \"shapedefaults\": {\"line\": {\"color\": \"#2a3f5f\"}}, \"ternary\": {\"aaxis\": {\"gridcolor\": \"white\", \"linecolor\": \"white\", \"ticks\": \"\"}, \"baxis\": {\"gridcolor\": \"white\", \"linecolor\": \"white\", \"ticks\": \"\"}, \"bgcolor\": \"#E5ECF6\", \"caxis\": {\"gridcolor\": \"white\", \"linecolor\": \"white\", \"ticks\": \"\"}}, \"title\": {\"x\": 0.05}, \"xaxis\": {\"automargin\": true, \"gridcolor\": \"white\", \"linecolor\": \"white\", \"ticks\": \"\", \"zerolinecolor\": \"white\", \"zerolinewidth\": 2}, \"yaxis\": {\"automargin\": true, \"gridcolor\": \"white\", \"linecolor\": \"white\", \"ticks\": \"\", \"zerolinecolor\": \"white\", \"zerolinewidth\": 2}}}, \"title\": {\"text\": \"Perplexity 30\"}},\n",
       "                        {\"responsive\": true}\n",
       "                    ).then(function(){\n",
       "                            \n",
       "var gd = document.getElementById('a8b3cb41-899b-4a7a-84ed-e86818169306');\n",
       "var x = new MutationObserver(function (mutations, observer) {{\n",
       "        var display = window.getComputedStyle(gd).display;\n",
       "        if (!display || display === 'none') {{\n",
       "            console.log([gd, 'removed!']);\n",
       "            Plotly.purge(gd);\n",
       "            observer.disconnect();\n",
       "        }}\n",
       "}});\n",
       "\n",
       "// Listen for the removal of the full notebook cells\n",
       "var notebookContainer = gd.closest('#notebook-container');\n",
       "if (notebookContainer) {{\n",
       "    x.observe(notebookContainer, {childList: true});\n",
       "}}\n",
       "\n",
       "// Listen for the clearing of the current output cell\n",
       "var outputEl = gd.closest('.output');\n",
       "if (outputEl) {{\n",
       "    x.observe(outputEl, {childList: true});\n",
       "}}\n",
       "\n",
       "                        })\n",
       "                };\n",
       "                });\n",
       "            </script>\n",
       "        </div>"
      ]
     },
     "metadata": {},
     "output_type": "display_data"
    },
    {
     "data": {
      "application/vnd.plotly.v1+json": {
       "config": {
        "linkText": "Export to plot.ly",
        "plotlyServerURL": "https://plot.ly",
        "showLink": false
       },
       "data": [
        {
         "marker": {
          "color": "rgb(12, 12, 12)",
          "line": {
           "color": "rgba(217, 217, 217, 0.14)",
           "width": 1
          },
          "opacity": 0.9,
          "size": 12,
          "symbol": "circle"
         },
         "mode": "markers+text",
         "name": "BEFORE",
         "type": "scatter3d",
         "x": [
          39.534095764160156,
          -63.92070770263672,
          -15.259647369384766,
          -77.9139175415039,
          -65.85861206054688,
          12.08304500579834,
          -41.85663604736328,
          52.20152282714844,
          14.601523399353027,
          4.972139835357666,
          -43.651912689208984,
          -19.591737747192383,
          -9.694450378417969,
          -32.839271545410156,
          -70.3416976928711,
          86.95191192626953,
          -27.22292709350586,
          6.058268070220947,
          -73.59502410888672,
          54.34061813354492,
          -78.47393798828125,
          -105.63643646240234,
          -21.160316467285156,
          35.89289474487305,
          15.022662162780762,
          35.57725143432617,
          -59.47093200683594,
          53.36684036254883,
          -25.273971557617188,
          5.146999835968018,
          -96.05624389648438,
          -54.63085174560547,
          49.43138122558594,
          90.47109985351562,
          -23.729516983032227,
          -59.268829345703125,
          34.18171691894531,
          -40.84598159790039,
          -78.73296356201172,
          -47.17848587036133,
          -1.2770310640335083,
          -31.777145385742188,
          61.22452926635742,
          -24.82724380493164,
          -5.663342475891113,
          47.71773147583008,
          104.17823791503906,
          60.55863952636719,
          -45.34918212890625,
          -14.771198272705078,
          -40.039764404296875,
          -13.334826469421387,
          -48.5579719543457,
          -40.053062438964844,
          91.6024169921875,
          11.155769348144531,
          -5.2537360191345215,
          -32.82438659667969,
          -20.57903289794922,
          -79.11968231201172,
          -54.182071685791016,
          10.086551666259766,
          -60.41971206665039,
          11.949690818786621,
          69.09307098388672,
          83.00982666015625,
          -45.091068267822266,
          46.95919418334961,
          0.6565204858779907,
          -38.0167121887207,
          -14.090333938598633,
          -49.81221389770508,
          25.325021743774414,
          -42.050540924072266,
          -74.21078491210938,
          -89.15953063964844,
          -17.816490173339844,
          66.96475219726562,
          -1.1366266012191772,
          -16.937509536743164,
          31.897825241088867,
          -83.81502532958984,
          61.88235855102539,
          -17.551868438720703,
          92.18650817871094,
          75.5667495727539,
          41.3386116027832,
          -27.25707244873047,
          -18.907115936279297,
          -97.98055267333984,
          -34.87445068359375,
          -10.14078140258789,
          68.00642395019531,
          84.17253112792969,
          37.47595977783203,
          -41.747520446777344,
          25.020185470581055,
          -33.04282760620117,
          -76.98040008544922,
          -52.570613861083984
         ],
         "y": [
          23.327404022216797,
          30.851093292236328,
          -27.355579376220703,
          -5.800313949584961,
          -18.3912296295166,
          47.45673370361328,
          18.581857681274414,
          7.3369927406311035,
          28.636608123779297,
          22.987747192382812,
          46.8393669128418,
          -54.39332962036133,
          10.79354190826416,
          49.28927230834961,
          -0.6994328498840332,
          42.63853073120117,
          -32.101173400878906,
          -3.7410078048706055,
          4.133992671966553,
          42.73402404785156,
          -50.5888557434082,
          18.163358688354492,
          24.965959548950195,
          0.35382673144340515,
          -12.26778793334961,
          -25.540523529052734,
          79.19601440429688,
          -26.446189880371094,
          6.751217365264893,
          -21.22458267211914,
          29.819496154785156,
          -26.09318733215332,
          52.73452377319336,
          38.35182189941406,
          -47.70208740234375,
          -12.069494247436523,
          -86.58451843261719,
          -18.741729736328125,
          49.30388259887695,
          27.829526901245117,
          14.002552032470703,
          6.164863109588623,
          23.701169967651367,
          50.701866149902344,
          -47.80740737915039,
          15.271857261657715,
          0.6642913222312927,
          -13.60897445678711,
          52.80712890625,
          -95.5339126586914,
          -1.5856518745422363,
          20.255632400512695,
          -2.599449872970581,
          26.21820068359375,
          2.0212416648864746,
          -35.999908447265625,
          83.71432495117188,
          26.289255142211914,
          -31.108118057250977,
          7.578778266906738,
          22.786136627197266,
          27.5972900390625,
          23.26451301574707,
          -27.806373596191406,
          11.807059288024902,
          22.91433334350586,
          -33.55595397949219,
          52.03565216064453,
          -22.46333122253418,
          67.26509857177734,
          -9.882773399353027,
          -49.81621170043945,
          -18.252431869506836,
          -45.3343391418457,
          20.69101333618164,
          -18.811309814453125,
          74.5410385131836,
          41.201515197753906,
          0.7849665880203247,
          -23.551639556884766,
          29.55392837524414,
          46.74181365966797,
          71.88353729248047,
          14.995523452758789,
          38.55817794799805,
          -69.01038360595703,
          4.314428806304932,
          -32.29823303222656,
          31.092191696166992,
          6.412533283233643,
          -17.054349899291992,
          -2.164247512817383,
          -5.333011627197266,
          -25.181196212768555,
          -33.92743682861328,
          36.176517486572266,
          38.542964935302734,
          76.15116882324219,
          -28.22426414489746,
          6.243109226226807
         ],
         "z": [
          58.24860382080078,
          -10.235713958740234,
          -66.58873748779297,
          66.53821563720703,
          -27.663299560546875,
          -75.85037994384766,
          -53.877464294433594,
          84.51233673095703,
          81.38154602050781,
          10.588119506835938,
          -35.78546142578125,
          -57.0123291015625,
          -37.68840789794922,
          -67.85823822021484,
          20.830963134765625,
          6.492709159851074,
          34.65110778808594,
          -50.53366470336914,
          -49.96418762207031,
          34.934749603271484,
          10.887456893920898,
          -6.56093692779541,
          8.968575477600098,
          -6.1939005851745605,
          12.843450546264648,
          48.024139404296875,
          4.575576305389404,
          28.155527114868164,
          18.488292694091797,
          -10.152090072631836,
          -34.090492248535156,
          26.34552764892578,
          10.021045684814453,
          46.93646240234375,
          -28.462871551513672,
          -66.121337890625,
          -13.068943977355957,
          -17.467390060424805,
          27.021345138549805,
          7.196125030517578,
          -76.8173828125,
          -29.3010196685791,
          49.107269287109375,
          21.92367172241211,
          10.923161506652832,
          -53.71247863769531,
          -16.579004287719727,
          35.00334930419922,
          15.398618698120117,
          -1.6644484996795654,
          32.6602897644043,
          -63.774818420410156,
          -43.88136291503906,
          70.6272201538086,
          13.78368091583252,
          -42.65583419799805,
          43.74439239501953,
          33.93143081665039,
          -7.0054545402526855,
          -16.287500381469727,
          30.31764793395996,
          -48.283226013183594,
          -32.93470764160156,
          56.51591110229492,
          25.27901268005371,
          -11.948466300964355,
          -49.55440902709961,
          61.21453094482422,
          -80.366455078125,
          -40.029083251953125,
          -20.494977951049805,
          -50.033390045166016,
          94.73957824707031,
          7.583122730255127,
          10.846698760986328,
          -2.8813791275024414,
          -50.472904205322266,
          -51.36564636230469,
          30.633708953857422,
          -43.24805450439453,
          -4.130610466003418,
          -7.838673114776611,
          -17.88218879699707,
          -15.646613121032715,
          -29.01251983642578,
          -1.4978569746017456,
          42.945030212402344,
          -83.10774993896484,
          -39.17137908935547,
          30.600330352783203,
          9.936909675598145,
          6.38028621673584,
          -71.99422454833984,
          36.44292068481445,
          78.92778015136719,
          53.46876525878906,
          -76.93595123291016,
          -8.14372730255127,
          36.247249603271484,
          -19.865541458129883
         ]
        },
        {
         "marker": {
          "color": "rgb(180, 180, 180)",
          "line": {
           "color": "rgba(217, 217, 217, 0.14)",
           "width": 1
          },
          "opacity": 0.9,
          "size": 12,
          "symbol": "circle"
         },
         "mode": "markers+text",
         "name": "OVERLAP",
         "type": "scatter3d",
         "x": [
          -50.715145111083984,
          -13.991849899291992,
          -46.98727035522461,
          -66.29902648925781,
          26.51767921447754,
          21.783327102661133,
          -34.26142120361328,
          51.60203552246094,
          -44.08831024169922,
          -4.224560737609863,
          -19.4000301361084,
          21.042510986328125,
          -4.0475568771362305,
          55.610626220703125,
          71.90949249267578,
          10.737625122070312,
          27.666391372680664,
          75.88967895507812,
          22.978654861450195,
          -12.578908920288086,
          60.291221618652344,
          91.68474578857422,
          -69.04306030273438,
          -36.31260299682617,
          -38.931217193603516,
          58.455055236816406,
          72.75566864013672,
          46.65243911743164,
          -84.50711059570312,
          22.125965118408203,
          28.04212188720703,
          -58.19106674194336,
          36.970970153808594,
          -1.5811742544174194,
          8.242940902709961,
          -11.99704647064209,
          43.32876205444336,
          4.682886600494385,
          1.9488264322280884,
          -24.60822105407715,
          59.12949752807617,
          19.16614532470703,
          55.57184600830078,
          -7.800313949584961,
          -20.363155364990234,
          -29.558027267456055,
          3.8923728466033936,
          53.70560073852539,
          19.83260154724121,
          15.491408348083496,
          37.74345397949219,
          62.924861907958984,
          -7.770936012268066,
          40.3667106628418,
          28.47139549255371,
          -13.260470390319824,
          -30.327861785888672,
          -4.145931243896484,
          41.25873947143555,
          41.51322937011719,
          64.62594604492188,
          66.31450653076172,
          -54.135257720947266,
          -8.333499908447266,
          53.790279388427734,
          -86.34159088134766,
          9.805217742919922,
          9.481681823730469,
          89.09721374511719,
          32.51631546020508,
          35.03411865234375,
          -49.61157989501953,
          28.676748275756836,
          34.695884704589844,
          -59.42520523071289,
          -32.7488899230957,
          -99.26956939697266,
          5.923998832702637,
          -17.79240608215332,
          -65.43982696533203,
          26.087425231933594,
          15.542247772216797,
          9.732890129089355,
          41.272117614746094,
          17.925928115844727,
          -0.1938902735710144,
          -7.516897201538086,
          79.3477554321289,
          4.928491115570068,
          -25.862951278686523,
          41.986106872558594,
          -61.02406311035156,
          -29.967021942138672,
          18.462644577026367,
          75.34473419189453,
          19.966716766357422,
          9.01526927947998,
          35.66031265258789,
          56.39079284667969,
          -48.287193298339844
         ],
         "y": [
          70.86528015136719,
          56.60646438598633,
          -7.029429912567139,
          70.4314193725586,
          45.871376037597656,
          26.230470657348633,
          -67.5696792602539,
          -46.54045104980469,
          -49.29782485961914,
          31.289878845214844,
          17.642663955688477,
          -10.499383926391602,
          35.98970031738281,
          39.55116653442383,
          -46.60857009887695,
          -3.1486315727233887,
          -34.067928314208984,
          -4.542482852935791,
          8.63029670715332,
          49.544960021972656,
          -19.490468978881836,
          -33.19218444824219,
          19.432790756225586,
          98.0841293334961,
          26.104089736938477,
          16.89763832092285,
          -26.520402908325195,
          -66.69218444824219,
          -38.78289794921875,
          48.36897659301758,
          70.99163818359375,
          21.632740020751953,
          -27.30408477783203,
          48.736717224121094,
          7.778083324432373,
          53.247581481933594,
          -77.2994155883789,
          -24.833904266357422,
          -46.65889358520508,
          84.1468276977539,
          -27.83588981628418,
          -83.06287384033203,
          -22.656238555908203,
          78.94806671142578,
          40.54637908935547,
          -18.894367218017578,
          72.08393096923828,
          -56.03489303588867,
          -9.957136154174805,
          13.425597190856934,
          43.56098556518555,
          30.625532150268555,
          -21.143550872802734,
          -31.715192794799805,
          16.619421005249023,
          17.420835494995117,
          -2.863579273223877,
          -77.3458023071289,
          22.178781509399414,
          -4.6382737159729,
          19.39678955078125,
          -50.11978530883789,
          -0.8527185916900635,
          -49.80381393432617,
          -6.343839168548584,
          -44.48872375488281,
          -0.1311349719762802,
          61.34224319458008,
          -38.09111022949219,
          -4.683228015899658,
          78.01054382324219,
          -41.14783477783203,
          -1.556983232498169,
          -30.1865291595459,
          -28.48957633972168,
          3.409050941467285,
          -21.342313766479492,
          27.700387954711914,
          -9.091598510742188,
          47.555233001708984,
          -55.762916564941406,
          -52.78565979003906,
          -75.9527587890625,
          -49.95756530761719,
          -56.46580505371094,
          -78.9886474609375,
          -23.700590133666992,
          0.4226306974887848,
          -48.5122184753418,
          -3.36879825592041,
          -4.276843547821045,
          -60.20759963989258,
          -73.12835693359375,
          -57.03372573852539,
          3.117976665496826,
          -36.61417007446289,
          -42.136295318603516,
          -77.26589965820312,
          11.67625617980957,
          51.64078140258789
         ],
         "z": [
          46.31386184692383,
          -24.028871536254883,
          56.13056564331055,
          -24.74761199951172,
          17.806821823120117,
          33.897640228271484,
          -8.653643608093262,
          44.66911697387695,
          55.11442565917969,
          67.90032958984375,
          46.3111572265625,
          34.010807037353516,
          28.728511810302734,
          -20.393634796142578,
          61.111846923828125,
          64.72528076171875,
          27.453222274780273,
          -6.170670032501221,
          15.947187423706055,
          47.155757904052734,
          5.74507474899292,
          5.010092735290527,
          51.47057342529297,
          -19.78371810913086,
          -16.52741241455078,
          -13.700350761413574,
          -18.226978302001953,
          -54.07952880859375,
          -49.24321365356445,
          51.76654815673828,
          -10.649742126464844,
          -80.56291961669922,
          5.623035907745361,
          -2.6396255493164062,
          -30.283987045288086,
          75.95955657958984,
          22.69919776916504,
          35.996883392333984,
          74.61833953857422,
          13.066697120666504,
          -40.66361618041992,
          29.755712509155273,
          61.692501068115234,
          -14.267967224121094,
          -7.9301066398620605,
          84.97123718261719,
          14.555588722229004,
          -28.916126251220703,
          -30.186691284179688,
          50.473045349121094,
          -41.00359344482422,
          4.1352434158325195,
          83.66039276123047,
          -66.97106170654297,
          -30.10693359375,
          75.63597869873047,
          -69.5538558959961,
          -33.283721923828125,
          18.92067527770996,
          18.142486572265625,
          -37.378501892089844,
          13.576855659484863,
          1.9022895097732544,
          45.738502502441406,
          -18.8421630859375,
          -34.32051467895508,
          -3.996601104736328,
          -39.811553955078125,
          -30.752330780029297,
          68.11125946044922,
          31.642122268676758,
          -18.398284912109375,
          -75.16437530517578,
          -17.400575637817383,
          0.16139164566993713,
          -3.6517324447631836,
          -29.05721092224121,
          -20.008277893066406,
          52.814048767089844,
          -48.2886962890625,
          56.09608840942383,
          -44.687828063964844,
          12.765521049499512,
          2.1328022480010986,
          23.10618019104004,
          59.26403045654297,
          13.254990577697754,
          -38.12437057495117,
          -18.36733055114746,
          -45.570858001708984,
          -43.845008850097656,
          -9.583250999450684,
          28.418474197387695,
          -18.018831253051758,
          54.629493713378906,
          1.321051836013794,
          -81.43802642822266,
          1.430105209350586,
          4.130486965179443,
          -10.24751091003418
         ]
        }
       ],
       "layout": {
        "template": {
         "data": {
          "bar": [
           {
            "error_x": {
             "color": "#2a3f5f"
            },
            "error_y": {
             "color": "#2a3f5f"
            },
            "marker": {
             "line": {
              "color": "#E5ECF6",
              "width": 0.5
             }
            },
            "type": "bar"
           }
          ],
          "barpolar": [
           {
            "marker": {
             "line": {
              "color": "#E5ECF6",
              "width": 0.5
             }
            },
            "type": "barpolar"
           }
          ],
          "carpet": [
           {
            "aaxis": {
             "endlinecolor": "#2a3f5f",
             "gridcolor": "white",
             "linecolor": "white",
             "minorgridcolor": "white",
             "startlinecolor": "#2a3f5f"
            },
            "baxis": {
             "endlinecolor": "#2a3f5f",
             "gridcolor": "white",
             "linecolor": "white",
             "minorgridcolor": "white",
             "startlinecolor": "#2a3f5f"
            },
            "type": "carpet"
           }
          ],
          "choropleth": [
           {
            "colorbar": {
             "outlinewidth": 0,
             "ticks": ""
            },
            "type": "choropleth"
           }
          ],
          "contour": [
           {
            "colorbar": {
             "outlinewidth": 0,
             "ticks": ""
            },
            "colorscale": [
             [
              0,
              "#0d0887"
             ],
             [
              0.1111111111111111,
              "#46039f"
             ],
             [
              0.2222222222222222,
              "#7201a8"
             ],
             [
              0.3333333333333333,
              "#9c179e"
             ],
             [
              0.4444444444444444,
              "#bd3786"
             ],
             [
              0.5555555555555556,
              "#d8576b"
             ],
             [
              0.6666666666666666,
              "#ed7953"
             ],
             [
              0.7777777777777778,
              "#fb9f3a"
             ],
             [
              0.8888888888888888,
              "#fdca26"
             ],
             [
              1,
              "#f0f921"
             ]
            ],
            "type": "contour"
           }
          ],
          "contourcarpet": [
           {
            "colorbar": {
             "outlinewidth": 0,
             "ticks": ""
            },
            "type": "contourcarpet"
           }
          ],
          "heatmap": [
           {
            "colorbar": {
             "outlinewidth": 0,
             "ticks": ""
            },
            "colorscale": [
             [
              0,
              "#0d0887"
             ],
             [
              0.1111111111111111,
              "#46039f"
             ],
             [
              0.2222222222222222,
              "#7201a8"
             ],
             [
              0.3333333333333333,
              "#9c179e"
             ],
             [
              0.4444444444444444,
              "#bd3786"
             ],
             [
              0.5555555555555556,
              "#d8576b"
             ],
             [
              0.6666666666666666,
              "#ed7953"
             ],
             [
              0.7777777777777778,
              "#fb9f3a"
             ],
             [
              0.8888888888888888,
              "#fdca26"
             ],
             [
              1,
              "#f0f921"
             ]
            ],
            "type": "heatmap"
           }
          ],
          "heatmapgl": [
           {
            "colorbar": {
             "outlinewidth": 0,
             "ticks": ""
            },
            "colorscale": [
             [
              0,
              "#0d0887"
             ],
             [
              0.1111111111111111,
              "#46039f"
             ],
             [
              0.2222222222222222,
              "#7201a8"
             ],
             [
              0.3333333333333333,
              "#9c179e"
             ],
             [
              0.4444444444444444,
              "#bd3786"
             ],
             [
              0.5555555555555556,
              "#d8576b"
             ],
             [
              0.6666666666666666,
              "#ed7953"
             ],
             [
              0.7777777777777778,
              "#fb9f3a"
             ],
             [
              0.8888888888888888,
              "#fdca26"
             ],
             [
              1,
              "#f0f921"
             ]
            ],
            "type": "heatmapgl"
           }
          ],
          "histogram": [
           {
            "marker": {
             "colorbar": {
              "outlinewidth": 0,
              "ticks": ""
             }
            },
            "type": "histogram"
           }
          ],
          "histogram2d": [
           {
            "colorbar": {
             "outlinewidth": 0,
             "ticks": ""
            },
            "colorscale": [
             [
              0,
              "#0d0887"
             ],
             [
              0.1111111111111111,
              "#46039f"
             ],
             [
              0.2222222222222222,
              "#7201a8"
             ],
             [
              0.3333333333333333,
              "#9c179e"
             ],
             [
              0.4444444444444444,
              "#bd3786"
             ],
             [
              0.5555555555555556,
              "#d8576b"
             ],
             [
              0.6666666666666666,
              "#ed7953"
             ],
             [
              0.7777777777777778,
              "#fb9f3a"
             ],
             [
              0.8888888888888888,
              "#fdca26"
             ],
             [
              1,
              "#f0f921"
             ]
            ],
            "type": "histogram2d"
           }
          ],
          "histogram2dcontour": [
           {
            "colorbar": {
             "outlinewidth": 0,
             "ticks": ""
            },
            "colorscale": [
             [
              0,
              "#0d0887"
             ],
             [
              0.1111111111111111,
              "#46039f"
             ],
             [
              0.2222222222222222,
              "#7201a8"
             ],
             [
              0.3333333333333333,
              "#9c179e"
             ],
             [
              0.4444444444444444,
              "#bd3786"
             ],
             [
              0.5555555555555556,
              "#d8576b"
             ],
             [
              0.6666666666666666,
              "#ed7953"
             ],
             [
              0.7777777777777778,
              "#fb9f3a"
             ],
             [
              0.8888888888888888,
              "#fdca26"
             ],
             [
              1,
              "#f0f921"
             ]
            ],
            "type": "histogram2dcontour"
           }
          ],
          "mesh3d": [
           {
            "colorbar": {
             "outlinewidth": 0,
             "ticks": ""
            },
            "type": "mesh3d"
           }
          ],
          "parcoords": [
           {
            "line": {
             "colorbar": {
              "outlinewidth": 0,
              "ticks": ""
             }
            },
            "type": "parcoords"
           }
          ],
          "scatter": [
           {
            "marker": {
             "colorbar": {
              "outlinewidth": 0,
              "ticks": ""
             }
            },
            "type": "scatter"
           }
          ],
          "scatter3d": [
           {
            "line": {
             "colorbar": {
              "outlinewidth": 0,
              "ticks": ""
             }
            },
            "marker": {
             "colorbar": {
              "outlinewidth": 0,
              "ticks": ""
             }
            },
            "type": "scatter3d"
           }
          ],
          "scattercarpet": [
           {
            "marker": {
             "colorbar": {
              "outlinewidth": 0,
              "ticks": ""
             }
            },
            "type": "scattercarpet"
           }
          ],
          "scattergeo": [
           {
            "marker": {
             "colorbar": {
              "outlinewidth": 0,
              "ticks": ""
             }
            },
            "type": "scattergeo"
           }
          ],
          "scattergl": [
           {
            "marker": {
             "colorbar": {
              "outlinewidth": 0,
              "ticks": ""
             }
            },
            "type": "scattergl"
           }
          ],
          "scattermapbox": [
           {
            "marker": {
             "colorbar": {
              "outlinewidth": 0,
              "ticks": ""
             }
            },
            "type": "scattermapbox"
           }
          ],
          "scatterpolar": [
           {
            "marker": {
             "colorbar": {
              "outlinewidth": 0,
              "ticks": ""
             }
            },
            "type": "scatterpolar"
           }
          ],
          "scatterpolargl": [
           {
            "marker": {
             "colorbar": {
              "outlinewidth": 0,
              "ticks": ""
             }
            },
            "type": "scatterpolargl"
           }
          ],
          "scatterternary": [
           {
            "marker": {
             "colorbar": {
              "outlinewidth": 0,
              "ticks": ""
             }
            },
            "type": "scatterternary"
           }
          ],
          "surface": [
           {
            "colorbar": {
             "outlinewidth": 0,
             "ticks": ""
            },
            "colorscale": [
             [
              0,
              "#0d0887"
             ],
             [
              0.1111111111111111,
              "#46039f"
             ],
             [
              0.2222222222222222,
              "#7201a8"
             ],
             [
              0.3333333333333333,
              "#9c179e"
             ],
             [
              0.4444444444444444,
              "#bd3786"
             ],
             [
              0.5555555555555556,
              "#d8576b"
             ],
             [
              0.6666666666666666,
              "#ed7953"
             ],
             [
              0.7777777777777778,
              "#fb9f3a"
             ],
             [
              0.8888888888888888,
              "#fdca26"
             ],
             [
              1,
              "#f0f921"
             ]
            ],
            "type": "surface"
           }
          ],
          "table": [
           {
            "cells": {
             "fill": {
              "color": "#EBF0F8"
             },
             "line": {
              "color": "white"
             }
            },
            "header": {
             "fill": {
              "color": "#C8D4E3"
             },
             "line": {
              "color": "white"
             }
            },
            "type": "table"
           }
          ]
         },
         "layout": {
          "annotationdefaults": {
           "arrowcolor": "#2a3f5f",
           "arrowhead": 0,
           "arrowwidth": 1
          },
          "colorscale": {
           "diverging": [
            [
             0,
             "#8e0152"
            ],
            [
             0.1,
             "#c51b7d"
            ],
            [
             0.2,
             "#de77ae"
            ],
            [
             0.3,
             "#f1b6da"
            ],
            [
             0.4,
             "#fde0ef"
            ],
            [
             0.5,
             "#f7f7f7"
            ],
            [
             0.6,
             "#e6f5d0"
            ],
            [
             0.7,
             "#b8e186"
            ],
            [
             0.8,
             "#7fbc41"
            ],
            [
             0.9,
             "#4d9221"
            ],
            [
             1,
             "#276419"
            ]
           ],
           "sequential": [
            [
             0,
             "#0d0887"
            ],
            [
             0.1111111111111111,
             "#46039f"
            ],
            [
             0.2222222222222222,
             "#7201a8"
            ],
            [
             0.3333333333333333,
             "#9c179e"
            ],
            [
             0.4444444444444444,
             "#bd3786"
            ],
            [
             0.5555555555555556,
             "#d8576b"
            ],
            [
             0.6666666666666666,
             "#ed7953"
            ],
            [
             0.7777777777777778,
             "#fb9f3a"
            ],
            [
             0.8888888888888888,
             "#fdca26"
            ],
            [
             1,
             "#f0f921"
            ]
           ],
           "sequentialminus": [
            [
             0,
             "#0d0887"
            ],
            [
             0.1111111111111111,
             "#46039f"
            ],
            [
             0.2222222222222222,
             "#7201a8"
            ],
            [
             0.3333333333333333,
             "#9c179e"
            ],
            [
             0.4444444444444444,
             "#bd3786"
            ],
            [
             0.5555555555555556,
             "#d8576b"
            ],
            [
             0.6666666666666666,
             "#ed7953"
            ],
            [
             0.7777777777777778,
             "#fb9f3a"
            ],
            [
             0.8888888888888888,
             "#fdca26"
            ],
            [
             1,
             "#f0f921"
            ]
           ]
          },
          "colorway": [
           "#636efa",
           "#EF553B",
           "#00cc96",
           "#ab63fa",
           "#FFA15A",
           "#19d3f3",
           "#FF6692",
           "#B6E880",
           "#FF97FF",
           "#FECB52"
          ],
          "font": {
           "color": "#2a3f5f"
          },
          "geo": {
           "bgcolor": "white",
           "lakecolor": "white",
           "landcolor": "#E5ECF6",
           "showlakes": true,
           "showland": true,
           "subunitcolor": "white"
          },
          "hoverlabel": {
           "align": "left"
          },
          "hovermode": "closest",
          "mapbox": {
           "style": "light"
          },
          "paper_bgcolor": "white",
          "plot_bgcolor": "#E5ECF6",
          "polar": {
           "angularaxis": {
            "gridcolor": "white",
            "linecolor": "white",
            "ticks": ""
           },
           "bgcolor": "#E5ECF6",
           "radialaxis": {
            "gridcolor": "white",
            "linecolor": "white",
            "ticks": ""
           }
          },
          "scene": {
           "xaxis": {
            "backgroundcolor": "#E5ECF6",
            "gridcolor": "white",
            "gridwidth": 2,
            "linecolor": "white",
            "showbackground": true,
            "ticks": "",
            "zerolinecolor": "white"
           },
           "yaxis": {
            "backgroundcolor": "#E5ECF6",
            "gridcolor": "white",
            "gridwidth": 2,
            "linecolor": "white",
            "showbackground": true,
            "ticks": "",
            "zerolinecolor": "white"
           },
           "zaxis": {
            "backgroundcolor": "#E5ECF6",
            "gridcolor": "white",
            "gridwidth": 2,
            "linecolor": "white",
            "showbackground": true,
            "ticks": "",
            "zerolinecolor": "white"
           }
          },
          "shapedefaults": {
           "line": {
            "color": "#2a3f5f"
           }
          },
          "ternary": {
           "aaxis": {
            "gridcolor": "white",
            "linecolor": "white",
            "ticks": ""
           },
           "baxis": {
            "gridcolor": "white",
            "linecolor": "white",
            "ticks": ""
           },
           "bgcolor": "#E5ECF6",
           "caxis": {
            "gridcolor": "white",
            "linecolor": "white",
            "ticks": ""
           }
          },
          "title": {
           "x": 0.05
          },
          "xaxis": {
           "automargin": true,
           "gridcolor": "white",
           "linecolor": "white",
           "ticks": "",
           "zerolinecolor": "white",
           "zerolinewidth": 2
          },
          "yaxis": {
           "automargin": true,
           "gridcolor": "white",
           "linecolor": "white",
           "ticks": "",
           "zerolinecolor": "white",
           "zerolinewidth": 2
          }
         }
        },
        "title": {
         "text": "Perplexity 40"
        }
       }
      },
      "text/html": [
       "<div>\n",
       "        \n",
       "        \n",
       "            <div id=\"3b8566d6-8622-4690-be70-ca8a4c644c00\" class=\"plotly-graph-div\" style=\"height:525px; width:100%;\"></div>\n",
       "            <script type=\"text/javascript\">\n",
       "                require([\"plotly\"], function(Plotly) {\n",
       "                    window.PLOTLYENV=window.PLOTLYENV || {};\n",
       "                    \n",
       "                if (document.getElementById(\"3b8566d6-8622-4690-be70-ca8a4c644c00\")) {\n",
       "                    Plotly.newPlot(\n",
       "                        '3b8566d6-8622-4690-be70-ca8a4c644c00',\n",
       "                        [{\"marker\": {\"color\": \"rgb(12, 12, 12)\", \"line\": {\"color\": \"rgba(217, 217, 217, 0.14)\", \"width\": 1}, \"opacity\": 0.9, \"size\": 12, \"symbol\": \"circle\"}, \"mode\": \"markers+text\", \"name\": \"BEFORE\", \"type\": \"scatter3d\", \"x\": [39.534095764160156, -63.92070770263672, -15.259647369384766, -77.9139175415039, -65.85861206054688, 12.08304500579834, -41.85663604736328, 52.20152282714844, 14.601523399353027, 4.972139835357666, -43.651912689208984, -19.591737747192383, -9.694450378417969, -32.839271545410156, -70.3416976928711, 86.95191192626953, -27.22292709350586, 6.058268070220947, -73.59502410888672, 54.34061813354492, -78.47393798828125, -105.63643646240234, -21.160316467285156, 35.89289474487305, 15.022662162780762, 35.57725143432617, -59.47093200683594, 53.36684036254883, -25.273971557617188, 5.146999835968018, -96.05624389648438, -54.63085174560547, 49.43138122558594, 90.47109985351562, -23.729516983032227, -59.268829345703125, 34.18171691894531, -40.84598159790039, -78.73296356201172, -47.17848587036133, -1.2770310640335083, -31.777145385742188, 61.22452926635742, -24.82724380493164, -5.663342475891113, 47.71773147583008, 104.17823791503906, 60.55863952636719, -45.34918212890625, -14.771198272705078, -40.039764404296875, -13.334826469421387, -48.5579719543457, -40.053062438964844, 91.6024169921875, 11.155769348144531, -5.2537360191345215, -32.82438659667969, -20.57903289794922, -79.11968231201172, -54.182071685791016, 10.086551666259766, -60.41971206665039, 11.949690818786621, 69.09307098388672, 83.00982666015625, -45.091068267822266, 46.95919418334961, 0.6565204858779907, -38.0167121887207, -14.090333938598633, -49.81221389770508, 25.325021743774414, -42.050540924072266, -74.21078491210938, -89.15953063964844, -17.816490173339844, 66.96475219726562, -1.1366266012191772, -16.937509536743164, 31.897825241088867, -83.81502532958984, 61.88235855102539, -17.551868438720703, 92.18650817871094, 75.5667495727539, 41.3386116027832, -27.25707244873047, -18.907115936279297, -97.98055267333984, -34.87445068359375, -10.14078140258789, 68.00642395019531, 84.17253112792969, 37.47595977783203, -41.747520446777344, 25.020185470581055, -33.04282760620117, -76.98040008544922, -52.570613861083984], \"y\": [23.327404022216797, 30.851093292236328, -27.355579376220703, -5.800313949584961, -18.3912296295166, 47.45673370361328, 18.581857681274414, 7.3369927406311035, 28.636608123779297, 22.987747192382812, 46.8393669128418, -54.39332962036133, 10.79354190826416, 49.28927230834961, -0.6994328498840332, 42.63853073120117, -32.101173400878906, -3.7410078048706055, 4.133992671966553, 42.73402404785156, -50.5888557434082, 18.163358688354492, 24.965959548950195, 0.35382673144340515, -12.26778793334961, -25.540523529052734, 79.19601440429688, -26.446189880371094, 6.751217365264893, -21.22458267211914, 29.819496154785156, -26.09318733215332, 52.73452377319336, 38.35182189941406, -47.70208740234375, -12.069494247436523, -86.58451843261719, -18.741729736328125, 49.30388259887695, 27.829526901245117, 14.002552032470703, 6.164863109588623, 23.701169967651367, 50.701866149902344, -47.80740737915039, 15.271857261657715, 0.6642913222312927, -13.60897445678711, 52.80712890625, -95.5339126586914, -1.5856518745422363, 20.255632400512695, -2.599449872970581, 26.21820068359375, 2.0212416648864746, -35.999908447265625, 83.71432495117188, 26.289255142211914, -31.108118057250977, 7.578778266906738, 22.786136627197266, 27.5972900390625, 23.26451301574707, -27.806373596191406, 11.807059288024902, 22.91433334350586, -33.55595397949219, 52.03565216064453, -22.46333122253418, 67.26509857177734, -9.882773399353027, -49.81621170043945, -18.252431869506836, -45.3343391418457, 20.69101333618164, -18.811309814453125, 74.5410385131836, 41.201515197753906, 0.7849665880203247, -23.551639556884766, 29.55392837524414, 46.74181365966797, 71.88353729248047, 14.995523452758789, 38.55817794799805, -69.01038360595703, 4.314428806304932, -32.29823303222656, 31.092191696166992, 6.412533283233643, -17.054349899291992, -2.164247512817383, -5.333011627197266, -25.181196212768555, -33.92743682861328, 36.176517486572266, 38.542964935302734, 76.15116882324219, -28.22426414489746, 6.243109226226807], \"z\": [58.24860382080078, -10.235713958740234, -66.58873748779297, 66.53821563720703, -27.663299560546875, -75.85037994384766, -53.877464294433594, 84.51233673095703, 81.38154602050781, 10.588119506835938, -35.78546142578125, -57.0123291015625, -37.68840789794922, -67.85823822021484, 20.830963134765625, 6.492709159851074, 34.65110778808594, -50.53366470336914, -49.96418762207031, 34.934749603271484, 10.887456893920898, -6.56093692779541, 8.968575477600098, -6.1939005851745605, 12.843450546264648, 48.024139404296875, 4.575576305389404, 28.155527114868164, 18.488292694091797, -10.152090072631836, -34.090492248535156, 26.34552764892578, 10.021045684814453, 46.93646240234375, -28.462871551513672, -66.121337890625, -13.068943977355957, -17.467390060424805, 27.021345138549805, 7.196125030517578, -76.8173828125, -29.3010196685791, 49.107269287109375, 21.92367172241211, 10.923161506652832, -53.71247863769531, -16.579004287719727, 35.00334930419922, 15.398618698120117, -1.6644484996795654, 32.6602897644043, -63.774818420410156, -43.88136291503906, 70.6272201538086, 13.78368091583252, -42.65583419799805, 43.74439239501953, 33.93143081665039, -7.0054545402526855, -16.287500381469727, 30.31764793395996, -48.283226013183594, -32.93470764160156, 56.51591110229492, 25.27901268005371, -11.948466300964355, -49.55440902709961, 61.21453094482422, -80.366455078125, -40.029083251953125, -20.494977951049805, -50.033390045166016, 94.73957824707031, 7.583122730255127, 10.846698760986328, -2.8813791275024414, -50.472904205322266, -51.36564636230469, 30.633708953857422, -43.24805450439453, -4.130610466003418, -7.838673114776611, -17.88218879699707, -15.646613121032715, -29.01251983642578, -1.4978569746017456, 42.945030212402344, -83.10774993896484, -39.17137908935547, 30.600330352783203, 9.936909675598145, 6.38028621673584, -71.99422454833984, 36.44292068481445, 78.92778015136719, 53.46876525878906, -76.93595123291016, -8.14372730255127, 36.247249603271484, -19.865541458129883]}, {\"marker\": {\"color\": \"rgb(180, 180, 180)\", \"line\": {\"color\": \"rgba(217, 217, 217, 0.14)\", \"width\": 1}, \"opacity\": 0.9, \"size\": 12, \"symbol\": \"circle\"}, \"mode\": \"markers+text\", \"name\": \"OVERLAP\", \"type\": \"scatter3d\", \"x\": [-50.715145111083984, -13.991849899291992, -46.98727035522461, -66.29902648925781, 26.51767921447754, 21.783327102661133, -34.26142120361328, 51.60203552246094, -44.08831024169922, -4.224560737609863, -19.4000301361084, 21.042510986328125, -4.0475568771362305, 55.610626220703125, 71.90949249267578, 10.737625122070312, 27.666391372680664, 75.88967895507812, 22.978654861450195, -12.578908920288086, 60.291221618652344, 91.68474578857422, -69.04306030273438, -36.31260299682617, -38.931217193603516, 58.455055236816406, 72.75566864013672, 46.65243911743164, -84.50711059570312, 22.125965118408203, 28.04212188720703, -58.19106674194336, 36.970970153808594, -1.5811742544174194, 8.242940902709961, -11.99704647064209, 43.32876205444336, 4.682886600494385, 1.9488264322280884, -24.60822105407715, 59.12949752807617, 19.16614532470703, 55.57184600830078, -7.800313949584961, -20.363155364990234, -29.558027267456055, 3.8923728466033936, 53.70560073852539, 19.83260154724121, 15.491408348083496, 37.74345397949219, 62.924861907958984, -7.770936012268066, 40.3667106628418, 28.47139549255371, -13.260470390319824, -30.327861785888672, -4.145931243896484, 41.25873947143555, 41.51322937011719, 64.62594604492188, 66.31450653076172, -54.135257720947266, -8.333499908447266, 53.790279388427734, -86.34159088134766, 9.805217742919922, 9.481681823730469, 89.09721374511719, 32.51631546020508, 35.03411865234375, -49.61157989501953, 28.676748275756836, 34.695884704589844, -59.42520523071289, -32.7488899230957, -99.26956939697266, 5.923998832702637, -17.79240608215332, -65.43982696533203, 26.087425231933594, 15.542247772216797, 9.732890129089355, 41.272117614746094, 17.925928115844727, -0.1938902735710144, -7.516897201538086, 79.3477554321289, 4.928491115570068, -25.862951278686523, 41.986106872558594, -61.02406311035156, -29.967021942138672, 18.462644577026367, 75.34473419189453, 19.966716766357422, 9.01526927947998, 35.66031265258789, 56.39079284667969, -48.287193298339844], \"y\": [70.86528015136719, 56.60646438598633, -7.029429912567139, 70.4314193725586, 45.871376037597656, 26.230470657348633, -67.5696792602539, -46.54045104980469, -49.29782485961914, 31.289878845214844, 17.642663955688477, -10.499383926391602, 35.98970031738281, 39.55116653442383, -46.60857009887695, -3.1486315727233887, -34.067928314208984, -4.542482852935791, 8.63029670715332, 49.544960021972656, -19.490468978881836, -33.19218444824219, 19.432790756225586, 98.0841293334961, 26.104089736938477, 16.89763832092285, -26.520402908325195, -66.69218444824219, -38.78289794921875, 48.36897659301758, 70.99163818359375, 21.632740020751953, -27.30408477783203, 48.736717224121094, 7.778083324432373, 53.247581481933594, -77.2994155883789, -24.833904266357422, -46.65889358520508, 84.1468276977539, -27.83588981628418, -83.06287384033203, -22.656238555908203, 78.94806671142578, 40.54637908935547, -18.894367218017578, 72.08393096923828, -56.03489303588867, -9.957136154174805, 13.425597190856934, 43.56098556518555, 30.625532150268555, -21.143550872802734, -31.715192794799805, 16.619421005249023, 17.420835494995117, -2.863579273223877, -77.3458023071289, 22.178781509399414, -4.6382737159729, 19.39678955078125, -50.11978530883789, -0.8527185916900635, -49.80381393432617, -6.343839168548584, -44.48872375488281, -0.1311349719762802, 61.34224319458008, -38.09111022949219, -4.683228015899658, 78.01054382324219, -41.14783477783203, -1.556983232498169, -30.1865291595459, -28.48957633972168, 3.409050941467285, -21.342313766479492, 27.700387954711914, -9.091598510742188, 47.555233001708984, -55.762916564941406, -52.78565979003906, -75.9527587890625, -49.95756530761719, -56.46580505371094, -78.9886474609375, -23.700590133666992, 0.4226306974887848, -48.5122184753418, -3.36879825592041, -4.276843547821045, -60.20759963989258, -73.12835693359375, -57.03372573852539, 3.117976665496826, -36.61417007446289, -42.136295318603516, -77.26589965820312, 11.67625617980957, 51.64078140258789], \"z\": [46.31386184692383, -24.028871536254883, 56.13056564331055, -24.74761199951172, 17.806821823120117, 33.897640228271484, -8.653643608093262, 44.66911697387695, 55.11442565917969, 67.90032958984375, 46.3111572265625, 34.010807037353516, 28.728511810302734, -20.393634796142578, 61.111846923828125, 64.72528076171875, 27.453222274780273, -6.170670032501221, 15.947187423706055, 47.155757904052734, 5.74507474899292, 5.010092735290527, 51.47057342529297, -19.78371810913086, -16.52741241455078, -13.700350761413574, -18.226978302001953, -54.07952880859375, -49.24321365356445, 51.76654815673828, -10.649742126464844, -80.56291961669922, 5.623035907745361, -2.6396255493164062, -30.283987045288086, 75.95955657958984, 22.69919776916504, 35.996883392333984, 74.61833953857422, 13.066697120666504, -40.66361618041992, 29.755712509155273, 61.692501068115234, -14.267967224121094, -7.9301066398620605, 84.97123718261719, 14.555588722229004, -28.916126251220703, -30.186691284179688, 50.473045349121094, -41.00359344482422, 4.1352434158325195, 83.66039276123047, -66.97106170654297, -30.10693359375, 75.63597869873047, -69.5538558959961, -33.283721923828125, 18.92067527770996, 18.142486572265625, -37.378501892089844, 13.576855659484863, 1.9022895097732544, 45.738502502441406, -18.8421630859375, -34.32051467895508, -3.996601104736328, -39.811553955078125, -30.752330780029297, 68.11125946044922, 31.642122268676758, -18.398284912109375, -75.16437530517578, -17.400575637817383, 0.16139164566993713, -3.6517324447631836, -29.05721092224121, -20.008277893066406, 52.814048767089844, -48.2886962890625, 56.09608840942383, -44.687828063964844, 12.765521049499512, 2.1328022480010986, 23.10618019104004, 59.26403045654297, 13.254990577697754, -38.12437057495117, -18.36733055114746, -45.570858001708984, -43.845008850097656, -9.583250999450684, 28.418474197387695, -18.018831253051758, 54.629493713378906, 1.321051836013794, -81.43802642822266, 1.430105209350586, 4.130486965179443, -10.24751091003418]}],\n",
       "                        {\"template\": {\"data\": {\"bar\": [{\"error_x\": {\"color\": \"#2a3f5f\"}, \"error_y\": {\"color\": \"#2a3f5f\"}, \"marker\": {\"line\": {\"color\": \"#E5ECF6\", \"width\": 0.5}}, \"type\": \"bar\"}], \"barpolar\": [{\"marker\": {\"line\": {\"color\": \"#E5ECF6\", \"width\": 0.5}}, \"type\": \"barpolar\"}], \"carpet\": [{\"aaxis\": {\"endlinecolor\": \"#2a3f5f\", \"gridcolor\": \"white\", \"linecolor\": \"white\", \"minorgridcolor\": \"white\", \"startlinecolor\": \"#2a3f5f\"}, \"baxis\": {\"endlinecolor\": \"#2a3f5f\", \"gridcolor\": \"white\", \"linecolor\": \"white\", \"minorgridcolor\": \"white\", \"startlinecolor\": \"#2a3f5f\"}, \"type\": \"carpet\"}], \"choropleth\": [{\"colorbar\": {\"outlinewidth\": 0, \"ticks\": \"\"}, \"type\": \"choropleth\"}], \"contour\": [{\"colorbar\": {\"outlinewidth\": 0, \"ticks\": \"\"}, \"colorscale\": [[0.0, \"#0d0887\"], [0.1111111111111111, \"#46039f\"], [0.2222222222222222, \"#7201a8\"], [0.3333333333333333, \"#9c179e\"], [0.4444444444444444, \"#bd3786\"], [0.5555555555555556, \"#d8576b\"], [0.6666666666666666, \"#ed7953\"], [0.7777777777777778, \"#fb9f3a\"], [0.8888888888888888, \"#fdca26\"], [1.0, \"#f0f921\"]], \"type\": \"contour\"}], \"contourcarpet\": [{\"colorbar\": {\"outlinewidth\": 0, \"ticks\": \"\"}, \"type\": \"contourcarpet\"}], \"heatmap\": [{\"colorbar\": {\"outlinewidth\": 0, \"ticks\": \"\"}, \"colorscale\": [[0.0, \"#0d0887\"], [0.1111111111111111, \"#46039f\"], [0.2222222222222222, \"#7201a8\"], [0.3333333333333333, \"#9c179e\"], [0.4444444444444444, \"#bd3786\"], [0.5555555555555556, \"#d8576b\"], [0.6666666666666666, \"#ed7953\"], [0.7777777777777778, \"#fb9f3a\"], [0.8888888888888888, \"#fdca26\"], [1.0, \"#f0f921\"]], \"type\": \"heatmap\"}], \"heatmapgl\": [{\"colorbar\": {\"outlinewidth\": 0, \"ticks\": \"\"}, \"colorscale\": [[0.0, \"#0d0887\"], [0.1111111111111111, \"#46039f\"], [0.2222222222222222, \"#7201a8\"], [0.3333333333333333, \"#9c179e\"], [0.4444444444444444, \"#bd3786\"], [0.5555555555555556, \"#d8576b\"], [0.6666666666666666, \"#ed7953\"], [0.7777777777777778, \"#fb9f3a\"], [0.8888888888888888, \"#fdca26\"], [1.0, \"#f0f921\"]], \"type\": \"heatmapgl\"}], \"histogram\": [{\"marker\": {\"colorbar\": {\"outlinewidth\": 0, \"ticks\": \"\"}}, \"type\": \"histogram\"}], \"histogram2d\": [{\"colorbar\": {\"outlinewidth\": 0, \"ticks\": \"\"}, \"colorscale\": [[0.0, \"#0d0887\"], [0.1111111111111111, \"#46039f\"], [0.2222222222222222, \"#7201a8\"], [0.3333333333333333, \"#9c179e\"], [0.4444444444444444, \"#bd3786\"], [0.5555555555555556, \"#d8576b\"], [0.6666666666666666, \"#ed7953\"], [0.7777777777777778, \"#fb9f3a\"], [0.8888888888888888, \"#fdca26\"], [1.0, \"#f0f921\"]], \"type\": \"histogram2d\"}], \"histogram2dcontour\": [{\"colorbar\": {\"outlinewidth\": 0, \"ticks\": \"\"}, \"colorscale\": [[0.0, \"#0d0887\"], [0.1111111111111111, \"#46039f\"], [0.2222222222222222, \"#7201a8\"], [0.3333333333333333, \"#9c179e\"], [0.4444444444444444, \"#bd3786\"], [0.5555555555555556, \"#d8576b\"], [0.6666666666666666, \"#ed7953\"], [0.7777777777777778, \"#fb9f3a\"], [0.8888888888888888, \"#fdca26\"], [1.0, \"#f0f921\"]], \"type\": \"histogram2dcontour\"}], \"mesh3d\": [{\"colorbar\": {\"outlinewidth\": 0, \"ticks\": \"\"}, \"type\": \"mesh3d\"}], \"parcoords\": [{\"line\": {\"colorbar\": {\"outlinewidth\": 0, \"ticks\": \"\"}}, \"type\": \"parcoords\"}], \"scatter\": [{\"marker\": {\"colorbar\": {\"outlinewidth\": 0, \"ticks\": \"\"}}, \"type\": \"scatter\"}], \"scatter3d\": [{\"line\": {\"colorbar\": {\"outlinewidth\": 0, \"ticks\": \"\"}}, \"marker\": {\"colorbar\": {\"outlinewidth\": 0, \"ticks\": \"\"}}, \"type\": \"scatter3d\"}], \"scattercarpet\": [{\"marker\": {\"colorbar\": {\"outlinewidth\": 0, \"ticks\": \"\"}}, \"type\": \"scattercarpet\"}], \"scattergeo\": [{\"marker\": {\"colorbar\": {\"outlinewidth\": 0, \"ticks\": \"\"}}, \"type\": \"scattergeo\"}], \"scattergl\": [{\"marker\": {\"colorbar\": {\"outlinewidth\": 0, \"ticks\": \"\"}}, \"type\": \"scattergl\"}], \"scattermapbox\": [{\"marker\": {\"colorbar\": {\"outlinewidth\": 0, \"ticks\": \"\"}}, \"type\": \"scattermapbox\"}], \"scatterpolar\": [{\"marker\": {\"colorbar\": {\"outlinewidth\": 0, \"ticks\": \"\"}}, \"type\": \"scatterpolar\"}], \"scatterpolargl\": [{\"marker\": {\"colorbar\": {\"outlinewidth\": 0, \"ticks\": \"\"}}, \"type\": \"scatterpolargl\"}], \"scatterternary\": [{\"marker\": {\"colorbar\": {\"outlinewidth\": 0, \"ticks\": \"\"}}, \"type\": \"scatterternary\"}], \"surface\": [{\"colorbar\": {\"outlinewidth\": 0, \"ticks\": \"\"}, \"colorscale\": [[0.0, \"#0d0887\"], [0.1111111111111111, \"#46039f\"], [0.2222222222222222, \"#7201a8\"], [0.3333333333333333, \"#9c179e\"], [0.4444444444444444, \"#bd3786\"], [0.5555555555555556, \"#d8576b\"], [0.6666666666666666, \"#ed7953\"], [0.7777777777777778, \"#fb9f3a\"], [0.8888888888888888, \"#fdca26\"], [1.0, \"#f0f921\"]], \"type\": \"surface\"}], \"table\": [{\"cells\": {\"fill\": {\"color\": \"#EBF0F8\"}, \"line\": {\"color\": \"white\"}}, \"header\": {\"fill\": {\"color\": \"#C8D4E3\"}, \"line\": {\"color\": \"white\"}}, \"type\": \"table\"}]}, \"layout\": {\"annotationdefaults\": {\"arrowcolor\": \"#2a3f5f\", \"arrowhead\": 0, \"arrowwidth\": 1}, \"colorscale\": {\"diverging\": [[0, \"#8e0152\"], [0.1, \"#c51b7d\"], [0.2, \"#de77ae\"], [0.3, \"#f1b6da\"], [0.4, \"#fde0ef\"], [0.5, \"#f7f7f7\"], [0.6, \"#e6f5d0\"], [0.7, \"#b8e186\"], [0.8, \"#7fbc41\"], [0.9, \"#4d9221\"], [1, \"#276419\"]], \"sequential\": [[0.0, \"#0d0887\"], [0.1111111111111111, \"#46039f\"], [0.2222222222222222, \"#7201a8\"], [0.3333333333333333, \"#9c179e\"], [0.4444444444444444, \"#bd3786\"], [0.5555555555555556, \"#d8576b\"], [0.6666666666666666, \"#ed7953\"], [0.7777777777777778, \"#fb9f3a\"], [0.8888888888888888, \"#fdca26\"], [1.0, \"#f0f921\"]], \"sequentialminus\": [[0.0, \"#0d0887\"], [0.1111111111111111, \"#46039f\"], [0.2222222222222222, \"#7201a8\"], [0.3333333333333333, \"#9c179e\"], [0.4444444444444444, \"#bd3786\"], [0.5555555555555556, \"#d8576b\"], [0.6666666666666666, \"#ed7953\"], [0.7777777777777778, \"#fb9f3a\"], [0.8888888888888888, \"#fdca26\"], [1.0, \"#f0f921\"]]}, \"colorway\": [\"#636efa\", \"#EF553B\", \"#00cc96\", \"#ab63fa\", \"#FFA15A\", \"#19d3f3\", \"#FF6692\", \"#B6E880\", \"#FF97FF\", \"#FECB52\"], \"font\": {\"color\": \"#2a3f5f\"}, \"geo\": {\"bgcolor\": \"white\", \"lakecolor\": \"white\", \"landcolor\": \"#E5ECF6\", \"showlakes\": true, \"showland\": true, \"subunitcolor\": \"white\"}, \"hoverlabel\": {\"align\": \"left\"}, \"hovermode\": \"closest\", \"mapbox\": {\"style\": \"light\"}, \"paper_bgcolor\": \"white\", \"plot_bgcolor\": \"#E5ECF6\", \"polar\": {\"angularaxis\": {\"gridcolor\": \"white\", \"linecolor\": \"white\", \"ticks\": \"\"}, \"bgcolor\": \"#E5ECF6\", \"radialaxis\": {\"gridcolor\": \"white\", \"linecolor\": \"white\", \"ticks\": \"\"}}, \"scene\": {\"xaxis\": {\"backgroundcolor\": \"#E5ECF6\", \"gridcolor\": \"white\", \"gridwidth\": 2, \"linecolor\": \"white\", \"showbackground\": true, \"ticks\": \"\", \"zerolinecolor\": \"white\"}, \"yaxis\": {\"backgroundcolor\": \"#E5ECF6\", \"gridcolor\": \"white\", \"gridwidth\": 2, \"linecolor\": \"white\", \"showbackground\": true, \"ticks\": \"\", \"zerolinecolor\": \"white\"}, \"zaxis\": {\"backgroundcolor\": \"#E5ECF6\", \"gridcolor\": \"white\", \"gridwidth\": 2, \"linecolor\": \"white\", \"showbackground\": true, \"ticks\": \"\", \"zerolinecolor\": \"white\"}}, \"shapedefaults\": {\"line\": {\"color\": \"#2a3f5f\"}}, \"ternary\": {\"aaxis\": {\"gridcolor\": \"white\", \"linecolor\": \"white\", \"ticks\": \"\"}, \"baxis\": {\"gridcolor\": \"white\", \"linecolor\": \"white\", \"ticks\": \"\"}, \"bgcolor\": \"#E5ECF6\", \"caxis\": {\"gridcolor\": \"white\", \"linecolor\": \"white\", \"ticks\": \"\"}}, \"title\": {\"x\": 0.05}, \"xaxis\": {\"automargin\": true, \"gridcolor\": \"white\", \"linecolor\": \"white\", \"ticks\": \"\", \"zerolinecolor\": \"white\", \"zerolinewidth\": 2}, \"yaxis\": {\"automargin\": true, \"gridcolor\": \"white\", \"linecolor\": \"white\", \"ticks\": \"\", \"zerolinecolor\": \"white\", \"zerolinewidth\": 2}}}, \"title\": {\"text\": \"Perplexity 40\"}},\n",
       "                        {\"responsive\": true}\n",
       "                    ).then(function(){\n",
       "                            \n",
       "var gd = document.getElementById('3b8566d6-8622-4690-be70-ca8a4c644c00');\n",
       "var x = new MutationObserver(function (mutations, observer) {{\n",
       "        var display = window.getComputedStyle(gd).display;\n",
       "        if (!display || display === 'none') {{\n",
       "            console.log([gd, 'removed!']);\n",
       "            Plotly.purge(gd);\n",
       "            observer.disconnect();\n",
       "        }}\n",
       "}});\n",
       "\n",
       "// Listen for the removal of the full notebook cells\n",
       "var notebookContainer = gd.closest('#notebook-container');\n",
       "if (notebookContainer) {{\n",
       "    x.observe(notebookContainer, {childList: true});\n",
       "}}\n",
       "\n",
       "// Listen for the clearing of the current output cell\n",
       "var outputEl = gd.closest('.output');\n",
       "if (outputEl) {{\n",
       "    x.observe(outputEl, {childList: true});\n",
       "}}\n",
       "\n",
       "                        })\n",
       "                };\n",
       "                });\n",
       "            </script>\n",
       "        </div>"
      ]
     },
     "metadata": {},
     "output_type": "display_data"
    }
   ],
   "source": [
    "for k, v in coords.items():\n",
    "    x, y, z = v\n",
    "    plot1 = plotly.graph_objs.Scatter3d(x=x[:medl],\n",
    "                         y=y[:medl],\n",
    "                         z=z[:medl],\n",
    "                         mode='markers+text',\n",
    "                         name='BEFORE',\n",
    "                         marker=dict(\n",
    "                             color='rgb(12, 12, 12)',\n",
    "                             size=12,\n",
    "                             symbol='circle',\n",
    "                             line=dict(color='rgba(217, 217, 217, 0.14)',\n",
    "                                       width=1),\n",
    "                             opacity=0.9\n",
    "            ))\n",
    "    plot2 = plotly.graph_objs.Scatter3d(x=x[medl:],\n",
    "                         y=y[medl:],\n",
    "                         z=z[medl:],\n",
    "                         mode='markers+text',\n",
    "                         name='OVERLAP',\n",
    "                         marker=dict(\n",
    "                             color='rgb(180, 180, 180)',\n",
    "                             size=12,\n",
    "                             symbol='circle',\n",
    "                             line=dict(color='rgba(217, 217, 217, 0.14)',\n",
    "                                       width=1),\n",
    "                             opacity=0.9\n",
    "            ))\n",
    "    layout = plotly.graph_objs.Layout(title='Perplexity {}'.format(k))\n",
    "    fig = plotly.graph_objs.Figure(data=[plot1, plot2], layout=layout)\n",
    "    plotly.offline.iplot(fig)"
   ]
  },
  {
   "cell_type": "code",
   "execution_count": null,
   "metadata": {},
   "outputs": [],
   "source": []
  }
 ],
 "metadata": {
  "kernelspec": {
   "display_name": "Python 3",
   "language": "python",
   "name": "python3"
  },
  "language_info": {
   "codemirror_mode": {
    "name": "ipython",
    "version": 3
   },
   "file_extension": ".py",
   "mimetype": "text/x-python",
   "name": "python",
   "nbconvert_exporter": "python",
   "pygments_lexer": "ipython3",
   "version": "3.6.8"
  }
 },
 "nbformat": 4,
 "nbformat_minor": 2
}

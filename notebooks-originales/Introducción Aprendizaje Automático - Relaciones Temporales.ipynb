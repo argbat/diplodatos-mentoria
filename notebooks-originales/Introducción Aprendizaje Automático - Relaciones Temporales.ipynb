{
 "cells": [
  {
   "cell_type": "markdown",
   "metadata": {},
   "source": [
    "# Extracción de Relaciones Temporales en Textos Médicos"
   ]
  },
  {
   "cell_type": "markdown",
   "metadata": {},
   "source": [
    "### Recorrido por los datos\n",
    "Vamos a trabajar primero explorando los datos de ejemplo que se proveen con el challenge.\n",
    "Para eso hacemos uso de la función lift_data(), que extrae anotaciones de relaciones y las combina en una lista junto con el texto original."
   ]
  },
  {
   "cell_type": "code",
   "execution_count": 1,
   "metadata": {},
   "outputs": [],
   "source": [
    "from helpers import lift_dataset\n",
    "# lift_dataset devuelve un iterador\n",
    "dataset = list(lift_dataset('SampleData'))"
   ]
  },
  {
   "cell_type": "markdown",
   "metadata": {},
   "source": [
    "Veamos algunos tipos de relaciones,"
   ]
  },
  {
   "cell_type": "code",
   "execution_count": 2,
   "metadata": {},
   "outputs": [
    {
     "data": {
      "text/plain": [
       "['EVENT=\"DISCHARGE\" 3:0 3:0',\n",
       " 'TIMEX3=\"10-10-94\" 4:0 4:0',\n",
       " 'type=\"SIMULTANEOUS\"\\n',\n",
       " 'DISCHARGE DATE :\\n',\n",
       " '386.xml.tlink']"
      ]
     },
     "execution_count": 2,
     "metadata": {},
     "output_type": "execute_result"
    }
   ],
   "source": [
    "list(dataset)[12]"
   ]
  },
  {
   "cell_type": "markdown",
   "metadata": {},
   "source": [
    "Ahí tenemos dos eventos relacionados mediante la relación 'OVERLAP', y el texto original dónde aparece.\n",
    "Veamos otro caso,"
   ]
  },
  {
   "cell_type": "code",
   "execution_count": 3,
   "metadata": {},
   "outputs": [
    {
     "data": {
      "text/plain": [
       "['EVENT=\"tolerated\" 13:2 13:2',\n",
       " 'EVENT=\"the procedure\" 13:3 13:4',\n",
       " 'type=\"OVERLAP\"\\n',\n",
       " 'The patient tolerated the procedure well with a 2000 cc. blood loss and was autotransfused two units of blood .\\n',\n",
       " '386.xml.tlink']"
      ]
     },
     "execution_count": 3,
     "metadata": {},
     "output_type": "execute_result"
    }
   ],
   "source": [
    "list(dataset)[24]"
   ]
  },
  {
   "cell_type": "markdown",
   "metadata": {},
   "source": [
    "El set completo de etiquetas se puede encontrar en __[este link.](https://www.ncbi.nlm.nih.gov/pmc/articles/PMC4237873/table/bau109-T2/?report=objectonly)__\n"
   ]
  },
  {
   "cell_type": "markdown",
   "metadata": {},
   "source": [
    "Podemos empezar intentando predecir únicamente las relaciones, esto es, asumiendo que los eventos y las expresiones temporales ya vienen dadas en el dataset de test."
   ]
  },
  {
   "cell_type": "markdown",
   "metadata": {},
   "source": [
    "### Estadísticas del dataset\n",
    "Baje el dataset completo desde la sección __[download de i2b2,](https://www.i2b2.org/NLP/DataSets/Download.php)__ intente levantarlo con el script lift_dataset. Mejore el script si es necesario. <br> Calcule algunas estadísticas, como se señalan abajo,"
   ]
  },
  {
   "cell_type": "code",
   "execution_count": null,
   "metadata": {},
   "outputs": [],
   "source": [
    "# número de elementos en el dataset (train y test)\n",
    "\n",
    "# distribución de los labels de las relaciones (train y test)"
   ]
  },
  {
   "cell_type": "markdown",
   "metadata": {},
   "source": [
    "### Extracción de Features \n",
    "Vamos a extraer features de los datos, para esto se puede utilizar cualquier técnica que crea pertinente.\n",
    "Como sugerencia se recomienda utilizar los siguientes __[embeddings médicos.](https://github.com/cambridgeltl/BioNLP-2016)__\n",
    "hint: pruebe de agregar el tipo de evento como feature en el vector."
   ]
  },
  {
   "cell_type": "code",
   "execution_count": 5,
   "metadata": {},
   "outputs": [
    {
     "data": {
      "text/plain": [
       "[('acetylsalicylic', 0.8663716316223145),\n",
       " ('clopidogrel', 0.8215951323509216),\n",
       " ('Aspirin', 0.8209693431854248),\n",
       " ('ticlopidine', 0.7800016403198242),\n",
       " ('triflusal', 0.7581562995910645),\n",
       " ('nonaspirin', 0.7538653612136841),\n",
       " ('ibuprofen', 0.7525407671928406),\n",
       " ('acetylsalicyclic', 0.7458503842353821),\n",
       " ('indometacin', 0.7443934679031372),\n",
       " ('indobufen', 0.7369282245635986)]"
      ]
     },
     "execution_count": 5,
     "metadata": {},
     "output_type": "execute_result"
    }
   ],
   "source": [
    "from gensim.models.keyedvectors import KeyedVectors\n",
    "m = KeyedVectors.load_word2vec_format('PubMed-shuffle-win-2.bin', binary=True)\n",
    "m.most_similar('aspirin')"
   ]
  },
  {
   "cell_type": "code",
   "execution_count": 6,
   "metadata": {
    "scrolled": true
   },
   "outputs": [
    {
     "data": {
      "text/plain": [
       "[('choledochojejunostomy', 0.8444347977638245),\n",
       " ('hepatico-jejunostomy', 0.8441174030303955),\n",
       " ('enteroenterostomy', 0.8437777757644653),\n",
       " ('hepaticojejunostomy', 0.843741774559021),\n",
       " ('hepatojejunostomy', 0.8398253917694092),\n",
       " ('pancreatico-jejunostomy', 0.8382002115249634),\n",
       " ('choledocho-jejunostomy', 0.83758544921875),\n",
       " ('jejunojejunostomy', 0.8353046178817749),\n",
       " ('gastroduodenostomy', 0.8351256251335144),\n",
       " ('hepaticoduodenostomy', 0.8332006931304932)]"
      ]
     },
     "execution_count": 6,
     "metadata": {},
     "output_type": "execute_result"
    }
   ],
   "source": [
    "m.most_similar('duodenojejunostomy')"
   ]
  },
  {
   "cell_type": "markdown",
   "metadata": {},
   "source": [
    "Otros recursos __[aqui](http://bio.nlplab.org/)__."
   ]
  },
  {
   "cell_type": "markdown",
   "metadata": {},
   "source": [
    "### Clasificación \n",
    "En esta parte vamos a entrenar un clasificador de regresión logística, y vamos a calcular métricas sobre el conjunto de test."
   ]
  },
  {
   "cell_type": "code",
   "execution_count": 25,
   "metadata": {},
   "outputs": [],
   "source": [
    "# entrenamiento\n",
    "\n",
    "# precision\n",
    "\n",
    "# recall"
   ]
  }
 ],
 "metadata": {
  "kernelspec": {
   "display_name": "Python 3",
   "language": "python",
   "name": "python3"
  },
  "language_info": {
   "codemirror_mode": {
    "name": "ipython",
    "version": 3
   },
   "file_extension": ".py",
   "mimetype": "text/x-python",
   "name": "python",
   "nbconvert_exporter": "python",
   "pygments_lexer": "ipython3",
   "version": "3.7.1"
  }
 },
 "nbformat": 4,
 "nbformat_minor": 2
}

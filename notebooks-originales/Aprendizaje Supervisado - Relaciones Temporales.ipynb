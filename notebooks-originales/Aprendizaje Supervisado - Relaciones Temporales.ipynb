{
 "cells": [
  {
   "cell_type": "markdown",
   "metadata": {},
   "source": [
    "# Extracción de Relaciones Temporales en Textos Médicos"
   ]
  },
  {
   "cell_type": "markdown",
   "metadata": {},
   "source": [
    "### Probamos otros clasificadores\n",
    "Para el mismo problema del práctico anterior, utilizando la misma vectorización, vamos a probar dos clasificadores adicionales a elección(SVM, Random Forest, etc).\n",
    "Calcular métricas precision, recall, F-score."
   ]
  },
  {
   "cell_type": "code",
   "execution_count": 1,
   "metadata": {},
   "outputs": [],
   "source": [
    "# cargamos el dataset\n",
    "from helpers import lift_dataset\n",
    "# lift_dataset devuelve un iterador\n",
    "dataset = list(lift_dataset('SampleData'))\n",
    "\n",
    "# extraemos features"
   ]
  },
  {
   "cell_type": "code",
   "execution_count": null,
   "metadata": {},
   "outputs": [],
   "source": [
    "# Entrenamos el clasificador #1\n",
    "\n",
    "# Calculamos métricas\n",
    "\n",
    "# Entrenamos el clasificador #2\n",
    "\n",
    "# Calculamos métricas"
   ]
  },
  {
   "cell_type": "markdown",
   "metadata": {},
   "source": [
    "### Model Ensembles \n",
    "¿Se pueden combinar los modelos anteriores para obtener alguna ventaja? Intente con alguna técnica a su elección."
   ]
  },
  {
   "cell_type": "code",
   "execution_count": 26,
   "metadata": {},
   "outputs": [],
   "source": [
    "# bagging\n",
    "\n",
    "# boosting\n",
    "\n",
    "# etc(elegir al menos una)"
   ]
  },
  {
   "cell_type": "markdown",
   "metadata": {},
   "source": [
    "Referencia: un buen lugar de donde aprender esto es https://youtu.be/VilDtUhd4WQ, adelantar hasta 1:58."
   ]
  },
  {
   "cell_type": "markdown",
   "metadata": {},
   "source": [
    "### Análisis de Error \n",
    "En este punto vamos a ver cómo se distribuyen los errores entre las distintas clases. Principalmente nos interesa la matriz de confusión, y propuestas sobre cómo continuar mejorando los algoritmos a la luz de la información que obtengamos."
   ]
  },
  {
   "cell_type": "code",
   "execution_count": null,
   "metadata": {},
   "outputs": [],
   "source": [
    "# matriz de confusión\n",
    "\n",
    "# cuál es la clase con mejor perfomance?, y la peor?"
   ]
  }
 ],
 "metadata": {
  "kernelspec": {
   "display_name": "Python 3",
   "language": "python",
   "name": "python3"
  },
  "language_info": {
   "codemirror_mode": {
    "name": "ipython",
    "version": 3
   },
   "file_extension": ".py",
   "mimetype": "text/x-python",
   "name": "python",
   "nbconvert_exporter": "python",
   "pygments_lexer": "ipython3",
   "version": "3.6.1"
  }
 },
 "nbformat": 4,
 "nbformat_minor": 2
}

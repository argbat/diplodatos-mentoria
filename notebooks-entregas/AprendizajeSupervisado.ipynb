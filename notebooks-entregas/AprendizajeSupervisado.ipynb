{
 "cells": [
  {
   "cell_type": "markdown",
   "metadata": {},
   "source": [
    "# Extracción de Relaciones Temporales en Textos Médicos"
   ]
  },
  {
   "cell_type": "markdown",
   "metadata": {},
   "source": [
    "### Probamos otros clasificadores\n",
    "Para el mismo problema del práctico anterior, utilizando la misma vectorización, vamos a probar dos clasificadores adicionales a elección(SVM, Random Forest, etc).\n",
    "Calcular métricas precision, recall, F-score."
   ]
  },
  {
   "cell_type": "code",
   "execution_count": 1,
   "metadata": {},
   "outputs": [],
   "source": [
    "# extraemos features\n",
    "import pickle\n",
    "with open('../dataset/features_X_train.pkl','rb') as f:\n",
    "    X_train = pickle.load(f)\n",
    "with open('../dataset/X_test.pkl','rb') as f:\n",
    "    X_test = pickle.load(f)\n",
    "with open('../dataset/features_y_train.pkl','rb') as f:\n",
    "    y_train = pickle.load(f)\n",
    "with open('../dataset/features_y_test.pkl','rb') as f:\n",
    "    y_test = pickle.load(f)"
   ]
  },
  {
   "cell_type": "code",
   "execution_count": 2,
   "metadata": {},
   "outputs": [
    {
     "data": {
      "text/plain": [
       "GridSearchCV(cv=5, error_score='raise-deprecating',\n",
       "             estimator=SVC(C=1.0, cache_size=1000, class_weight=None, coef0=0.0,\n",
       "                           decision_function_shape='ovr', degree=3,\n",
       "                           gamma='auto_deprecated', kernel='rbf', max_iter=-1,\n",
       "                           probability=False, random_state=47, shrinking=True,\n",
       "                           tol=0.001, verbose=False),\n",
       "             iid='warn', n_jobs=None,\n",
       "             param_grid={'C': [0.001, 0.1, 1, 1.2],\n",
       "                         'class_weight': [None, 'balanced'],\n",
       "                         'gamma': [0.001, 0.1, 1, 1.2]},\n",
       "             pre_dispatch='2*n_jobs', refit=True, return_train_score=False,\n",
       "             scoring='accuracy', verbose=0)"
      ]
     },
     "execution_count": 2,
     "metadata": {},
     "output_type": "execute_result"
    }
   ],
   "source": [
    "# Entrenamos el clasificador #1\n",
    "from sklearn.model_selection import GridSearchCV\n",
    "from sklearn.metrics import accuracy_score, classification_report, confusion_matrix\n",
    "from sklearn import svm\n",
    "\n",
    "clf = svm.SVC(random_state=47, cache_size=1000)\n",
    "exploring_params ={'class_weight': [None, 'balanced'], \n",
    "                   'gamma':[0.001, 0.1, 1, 1.2], \n",
    "                   'C':[0.001, 0.1, 1, 1.2]}\n",
    "model = GridSearchCV(clf, exploring_params, cv=5, scoring='accuracy')\n",
    "model.fit(X_train, y_train)"
   ]
  },
  {
   "cell_type": "code",
   "execution_count": 3,
   "metadata": {},
   "outputs": [
    {
     "name": "stdout",
     "output_type": "stream",
     "text": [
      "Mejor conjunto de parámetros:\n",
      "{'C': 1.2, 'class_weight': None, 'gamma': 1}\n",
      "\n",
      "Reporte de clasificación para el mejor clasificador (sobre conjunto de evaluación):\n",
      "\n",
      "              precision    recall  f1-score   support\n",
      "\n",
      "           0       0.37      0.06      0.10       435\n",
      "           1       0.74      0.95      0.83      2734\n",
      "           2       0.73      0.51      0.60      1379\n",
      "\n",
      "    accuracy                           0.73      4548\n",
      "   macro avg       0.61      0.51      0.51      4548\n",
      "weighted avg       0.70      0.73      0.69      4548\n",
      "\n",
      "\n"
     ]
    }
   ],
   "source": [
    "# Calculamos métricas\n",
    "print(\"Mejor conjunto de parámetros:\")\n",
    "print(model.best_params_, end=\"\\n\\n\")\n",
    "\n",
    "print(\"Reporte de clasificación para el mejor clasificador (sobre conjunto de evaluación):\", end=\"\\n\\n\")\n",
    "y_true, y_pred = y_test, model.predict(X_test)\n",
    "print(classification_report(y_true, y_pred), end=\"\\n\\n\")"
   ]
  },
  {
   "cell_type": "code",
   "execution_count": 5,
   "metadata": {},
   "outputs": [
    {
     "data": {
      "text/plain": [
       "GridSearchCV(cv=5, error_score='raise-deprecating',\n",
       "             estimator=KNeighborsClassifier(algorithm='auto', leaf_size=30,\n",
       "                                            metric='minkowski',\n",
       "                                            metric_params=None, n_jobs=None,\n",
       "                                            n_neighbors=5, p=2,\n",
       "                                            weights='uniform'),\n",
       "             iid='warn', n_jobs=None,\n",
       "             param_grid={'metric': ['cosine', 'euclidean'],\n",
       "                         'n_neighbors': [5, 10, 15, 20, 30, 60]},\n",
       "             pre_dispatch='2*n_jobs', refit=True, return_train_score=False,\n",
       "             scoring='accuracy', verbose=0)"
      ]
     },
     "execution_count": 5,
     "metadata": {},
     "output_type": "execute_result"
    }
   ],
   "source": [
    "# Entrenamos el clasificador #2\n",
    "from sklearn.neighbors import KNeighborsClassifier\n",
    "clf_2 = KNeighborsClassifier()\n",
    "exploring_params ={'n_neighbors': [5, 10, 15, 20, 30, 60], 'metric': ['cosine', 'euclidean']}\n",
    "model_2 = GridSearchCV(clf_2, exploring_params, cv=5, scoring='accuracy')\n",
    "model_2.fit(X_train, y_train)"
   ]
  },
  {
   "cell_type": "code",
   "execution_count": 6,
   "metadata": {},
   "outputs": [
    {
     "name": "stdout",
     "output_type": "stream",
     "text": [
      "Mejor conjunto de parámetros:\n",
      "{'metric': 'euclidean', 'n_neighbors': 30}\n",
      "\n",
      "Reporte de clasificación para el mejor clasificador (sobre conjunto de evaluación):\n",
      "\n",
      "              precision    recall  f1-score   support\n",
      "\n",
      "           0       0.20      0.02      0.04       435\n",
      "           1       0.75      0.37      0.50      2734\n",
      "           2       0.36      0.81      0.49      1379\n",
      "\n",
      "    accuracy                           0.47      4548\n",
      "   macro avg       0.43      0.40      0.34      4548\n",
      "weighted avg       0.58      0.47      0.45      4548\n",
      "\n",
      "\n"
     ]
    }
   ],
   "source": [
    "# Calculamos métricas\n",
    "print(\"Mejor conjunto de parámetros:\")\n",
    "print(model_2.best_params_, end=\"\\n\\n\")\n",
    "\n",
    "print(\"Reporte de clasificación para el mejor clasificador (sobre conjunto de evaluación):\", end=\"\\n\\n\")\n",
    "y_true, y_pred = y_test, model_2.predict(X_test)\n",
    "print(classification_report(y_true, y_pred), end=\"\\n\\n\")"
   ]
  },
  {
   "cell_type": "code",
   "execution_count": 9,
   "metadata": {},
   "outputs": [
    {
     "data": {
      "text/plain": [
       "GridSearchCV(cv=5, error_score='raise-deprecating',\n",
       "             estimator=RandomForestClassifier(bootstrap=True, class_weight=None,\n",
       "                                              criterion='gini', max_depth=None,\n",
       "                                              max_features='auto',\n",
       "                                              max_leaf_nodes=None,\n",
       "                                              min_impurity_decrease=0.0,\n",
       "                                              min_impurity_split=None,\n",
       "                                              min_samples_leaf=1,\n",
       "                                              min_samples_split=2,\n",
       "                                              min_weight_fraction_leaf=0.0,\n",
       "                                              n_estimators='warn', n_jobs=None,\n",
       "                                              oob_score=False, random_state=47,\n",
       "                                              verbose=0, warm_start=False),\n",
       "             iid='warn', n_jobs=None,\n",
       "             param_grid={'criterion': ['gini', 'entropy'],\n",
       "                         'max_depth': [3, 9, 27, 81],\n",
       "                         'n_estimators': [100, 200, 300]},\n",
       "             pre_dispatch='2*n_jobs', refit=True, return_train_score=False,\n",
       "             scoring='accuracy', verbose=0)"
      ]
     },
     "execution_count": 9,
     "metadata": {},
     "output_type": "execute_result"
    }
   ],
   "source": [
    "# Entrenamos el clasificador #3\n",
    "from sklearn.ensemble import RandomForestClassifier\n",
    "clf_3 = RandomForestClassifier(random_state=47)\n",
    "exploring_params ={'n_estimators': [100, 200, 300], \n",
    "                   'max_depth': [3, 9, 27, 81],\n",
    "                   'criterion': ['gini', 'entropy']}\n",
    "model_3 = GridSearchCV(clf_3, exploring_params, cv=5, scoring='accuracy')\n",
    "model_3.fit(X_train, y_train)"
   ]
  },
  {
   "cell_type": "code",
   "execution_count": 10,
   "metadata": {},
   "outputs": [
    {
     "name": "stdout",
     "output_type": "stream",
     "text": [
      "Mejor conjunto de parámetros:\n",
      "{'criterion': 'entropy', 'max_depth': 81, 'n_estimators': 300}\n",
      "\n",
      "Reporte de clasificación para el mejor clasificador (sobre conjunto de evaluación):\n",
      "\n",
      "              precision    recall  f1-score   support\n",
      "\n",
      "           0       0.31      0.03      0.06       435\n",
      "           1       0.70      0.97      0.81      2734\n",
      "           2       0.76      0.39      0.51      1379\n",
      "\n",
      "    accuracy                           0.70      4548\n",
      "   macro avg       0.59      0.46      0.46      4548\n",
      "weighted avg       0.68      0.70      0.65      4548\n",
      "\n",
      "\n"
     ]
    }
   ],
   "source": [
    "# Calculamos métricas\n",
    "print(\"Mejor conjunto de parámetros:\")\n",
    "print(model_3.best_params_, end=\"\\n\\n\")\n",
    "\n",
    "print(\"Reporte de clasificación para el mejor clasificador (sobre conjunto de evaluación):\", end=\"\\n\\n\")\n",
    "y_true, y_pred = y_test, model_3.predict(X_test)\n",
    "print(classification_report(y_true, y_pred), end=\"\\n\\n\")"
   ]
  },
  {
   "cell_type": "markdown",
   "metadata": {},
   "source": [
    "### Model Ensembles \n",
    "¿Se pueden combinar los modelos anteriores para obtener alguna ventaja? Intente con alguna técnica a su elección."
   ]
  },
  {
   "cell_type": "code",
   "execution_count": 14,
   "metadata": {},
   "outputs": [
    {
     "data": {
      "text/plain": [
       "GridSearchCV(cv=5, error_score='raise-deprecating',\n",
       "             estimator=BaggingClassifier(base_estimator=LogisticRegression(C=0.1,\n",
       "                                                                           class_weight=None,\n",
       "                                                                           dual=False,\n",
       "                                                                           fit_intercept=True,\n",
       "                                                                           intercept_scaling=1,\n",
       "                                                                           l1_ratio=None,\n",
       "                                                                           max_iter=100,\n",
       "                                                                           multi_class='auto',\n",
       "                                                                           n_jobs=None,\n",
       "                                                                           penalty='l2',\n",
       "                                                                           random_state=47,\n",
       "                                                                           solver='lbfgs',\n",
       "                                                                           tol=0.0001,\n",
       "                                                                           verbose=0,\n",
       "                                                                           warm_start=False),\n",
       "                                         bootstrap=True,\n",
       "                                         bootstrap_features=False,\n",
       "                                         max_features=1.0, max_samples=1.0,\n",
       "                                         n_estimators=10, n_jobs=None,\n",
       "                                         oob_score=False, random_state=None,\n",
       "                                         verbose=0, warm_start=False),\n",
       "             iid='warn', n_jobs=None,\n",
       "             param_grid={'n_estimators': [30, 60, 90, 210]},\n",
       "             pre_dispatch='2*n_jobs', refit=True, return_train_score=False,\n",
       "             scoring='accuracy', verbose=0)"
      ]
     },
     "execution_count": 14,
     "metadata": {},
     "output_type": "execute_result"
    }
   ],
   "source": [
    "# bagging\n",
    "from sklearn.linear_model import LogisticRegression\n",
    "from sklearn.ensemble import BaggingClassifier\n",
    "clf_4 = BaggingClassifier(LogisticRegression(random_state=47, \n",
    "                                             multi_class='auto', \n",
    "                                             C=0.1, \n",
    "                                             class_weight=None, \n",
    "                                             penalty='l2', \n",
    "                                             solver='lbfgs'))\n",
    "exploring_params ={'n_estimators': [30, 60, 90, 210]}\n",
    "model_4 = GridSearchCV(clf_4, exploring_params, cv=5, scoring='accuracy')\n",
    "model_4.fit(X_train, y_train)"
   ]
  },
  {
   "cell_type": "code",
   "execution_count": 15,
   "metadata": {},
   "outputs": [
    {
     "name": "stdout",
     "output_type": "stream",
     "text": [
      "Mejor conjunto de parámetros:\n",
      "{'n_estimators': 90}\n",
      "\n",
      "Reporte de clasificación para el mejor clasificador (sobre conjunto de evaluación):\n",
      "\n",
      "              precision    recall  f1-score   support\n",
      "\n",
      "           0       0.44      0.03      0.05       435\n",
      "           1       0.73      0.89      0.80      2734\n",
      "           2       0.59      0.51      0.55      1379\n",
      "\n",
      "    accuracy                           0.69      4548\n",
      "   macro avg       0.59      0.47      0.47      4548\n",
      "weighted avg       0.66      0.69      0.65      4548\n",
      "\n",
      "\n"
     ]
    }
   ],
   "source": [
    "# Calculamos métricas\n",
    "print(\"Mejor conjunto de parámetros:\")\n",
    "print(model_4.best_params_, end=\"\\n\\n\")\n",
    "\n",
    "print(\"Reporte de clasificación para el mejor clasificador (sobre conjunto de evaluación):\", end=\"\\n\\n\")\n",
    "y_true, y_pred = y_test, model_4.predict(X_test)\n",
    "print(classification_report(y_true, y_pred), end=\"\\n\\n\")"
   ]
  },
  {
   "cell_type": "code",
   "execution_count": 16,
   "metadata": {},
   "outputs": [
    {
     "data": {
      "text/plain": [
       "GridSearchCV(cv=5, error_score='raise-deprecating',\n",
       "             estimator=AdaBoostClassifier(algorithm='SAMME.R',\n",
       "                                          base_estimator=LogisticRegression(C=0.1,\n",
       "                                                                            class_weight=None,\n",
       "                                                                            dual=False,\n",
       "                                                                            fit_intercept=True,\n",
       "                                                                            intercept_scaling=1,\n",
       "                                                                            l1_ratio=None,\n",
       "                                                                            max_iter=100,\n",
       "                                                                            multi_class='auto',\n",
       "                                                                            n_jobs=None,\n",
       "                                                                            penalty='l2',\n",
       "                                                                            random_state=47,\n",
       "                                                                            solver='lbfgs',\n",
       "                                                                            tol=0.0001,\n",
       "                                                                            verbose=0,\n",
       "                                                                            warm_start=False),\n",
       "                                          learning_rate=1.0, n_estimators=50,\n",
       "                                          random_state=47),\n",
       "             iid='warn', n_jobs=None,\n",
       "             param_grid={'learning_rate': [0.001, 0.01, 1],\n",
       "                         'n_estimators': [30, 60, 90, 210]},\n",
       "             pre_dispatch='2*n_jobs', refit=True, return_train_score=False,\n",
       "             scoring='accuracy', verbose=0)"
      ]
     },
     "execution_count": 16,
     "metadata": {},
     "output_type": "execute_result"
    }
   ],
   "source": [
    "# boosting\n",
    "from sklearn.ensemble import AdaBoostClassifier\n",
    "clf_5 = AdaBoostClassifier(LogisticRegression(random_state=47, \n",
    "                                             multi_class='auto', \n",
    "                                             C=0.1, \n",
    "                                             class_weight=None, \n",
    "                                             penalty='l2', \n",
    "                                             solver='lbfgs'),\n",
    "                          random_state=47)\n",
    "exploring_params ={'n_estimators': [30, 60, 90, 210], \n",
    "                   'learning_rate': [0.001, 0.01, 1],}\n",
    "model_5 = GridSearchCV(clf_5, exploring_params, cv=5, scoring='accuracy')\n",
    "model_5.fit(X_train, y_train)"
   ]
  },
  {
   "cell_type": "code",
   "execution_count": 17,
   "metadata": {},
   "outputs": [
    {
     "name": "stdout",
     "output_type": "stream",
     "text": [
      "Mejor conjunto de parámetros:\n",
      "{'learning_rate': 1, 'n_estimators': 210}\n",
      "\n",
      "Reporte de clasificación para el mejor clasificador (sobre conjunto de evaluación):\n",
      "\n",
      "              precision    recall  f1-score   support\n",
      "\n",
      "           0       0.00      0.00      0.00       435\n",
      "           1       0.62      0.99      0.76      2734\n",
      "           2       0.72      0.10      0.17      1379\n",
      "\n",
      "    accuracy                           0.62      4548\n",
      "   macro avg       0.45      0.36      0.31      4548\n",
      "weighted avg       0.59      0.62      0.51      4548\n",
      "\n",
      "\n"
     ]
    },
    {
     "name": "stderr",
     "output_type": "stream",
     "text": [
      "/Users/demianodasso/anaconda3/envs/kforce/lib/python3.6/site-packages/sklearn/metrics/classification.py:1437: UndefinedMetricWarning: Precision and F-score are ill-defined and being set to 0.0 in labels with no predicted samples.\n",
      "  'precision', 'predicted', average, warn_for)\n"
     ]
    }
   ],
   "source": [
    "# Calculamos métricas\n",
    "print(\"Mejor conjunto de parámetros:\")\n",
    "print(model_5.best_params_, end=\"\\n\\n\")\n",
    "\n",
    "print(\"Reporte de clasificación para el mejor clasificador (sobre conjunto de evaluación):\", end=\"\\n\\n\")\n",
    "y_true, y_pred = y_test, model_5.predict(X_test)\n",
    "print(classification_report(y_true, y_pred), end=\"\\n\\n\")"
   ]
  },
  {
   "cell_type": "markdown",
   "metadata": {},
   "source": [
    "Referencia: un buen lugar de donde aprender esto es https://youtu.be/VilDtUhd4WQ, adelantar hasta 1:58."
   ]
  },
  {
   "cell_type": "markdown",
   "metadata": {},
   "source": [
    "### Análisis de Error \n",
    "En este punto vamos a ver cómo se distribuyen los errores entre las distintas clases. Principalmente nos interesa la matriz de confusión, y propuestas sobre cómo continuar mejorando los algoritmos a la luz de la información que obtengamos."
   ]
  },
  {
   "cell_type": "markdown",
   "metadata": {},
   "source": [
    "### Matriz de confusión para cada modelo."
   ]
  },
  {
   "cell_type": "code",
   "execution_count": null,
   "metadata": {},
   "outputs": [],
   "source": [
    "from ml.visualization import plot_confusion_matrix"
   ]
  },
  {
   "cell_type": "code",
   "execution_count": 22,
   "metadata": {},
   "outputs": [
    {
     "data": {
      "image/png": "[encoded data removed]",
      "text/plain": [
       "<Figure size 432x288 with 2 Axes>"
      ]
     },
     "metadata": {
      "needs_background": "light"
     },
     "output_type": "display_data"
    }
   ],
   "source": [
    "# modelo 1\n",
    "y_true, y_pred = y_test, model.predict(X_test)\n",
    "plot_confusion_matrix(confusion_matrix(y_true, y_pred),\n",
    "                      classes=['AFTER', 'BEFORE', 'OVERLAP'], \n",
    "                      title=\"Matriz de confusión Modelo 1\")"
   ]
  },
  {
   "cell_type": "code",
   "execution_count": 23,
   "metadata": {},
   "outputs": [
    {
     "data": {
      "image/png": "[encoded data removed]",
      "text/plain": [
       "<Figure size 432x288 with 2 Axes>"
      ]
     },
     "metadata": {
      "needs_background": "light"
     },
     "output_type": "display_data"
    }
   ],
   "source": [
    "# modelo 2\n",
    "y_true, y_pred = y_test, model_2.predict(X_test)\n",
    "plot_confusion_matrix(confusion_matrix(y_true, y_pred),\n",
    "                      classes=['AFTER', 'BEFORE', 'OVERLAP'], \n",
    "                      title=\"Matriz de confusión Modelo 2\")"
   ]
  },
  {
   "cell_type": "code",
   "execution_count": 24,
   "metadata": {},
   "outputs": [
    {
     "data": {
      "image/png": "[encoded data removed]",
      "text/plain": [
       "<Figure size 432x288 with 2 Axes>"
      ]
     },
     "metadata": {
      "needs_background": "light"
     },
     "output_type": "display_data"
    }
   ],
   "source": [
    "# modelo 3\n",
    "y_true, y_pred = y_test, model_3.predict(X_test)\n",
    "plot_confusion_matrix(confusion_matrix(y_true, y_pred),\n",
    "                      classes=['AFTER', 'BEFORE', 'OVERLAP'], \n",
    "                      title=\"Matriz de confusión Modelo 3\")"
   ]
  },
  {
   "cell_type": "code",
   "execution_count": 25,
   "metadata": {},
   "outputs": [
    {
     "data": {
      "image/png": "[encoded data removed]",
      "text/plain": [
       "<Figure size 432x288 with 2 Axes>"
      ]
     },
     "metadata": {
      "needs_background": "light"
     },
     "output_type": "display_data"
    }
   ],
   "source": [
    "# modelo 4\n",
    "y_true, y_pred = y_test, model_4.predict(X_test)\n",
    "plot_confusion_matrix(confusion_matrix(y_true, y_pred),\n",
    "                      classes=['AFTER', 'BEFORE', 'OVERLAP'], \n",
    "                      title=\"Matriz de confusión Modelo 4\")"
   ]
  },
  {
   "cell_type": "code",
   "execution_count": 26,
   "metadata": {},
   "outputs": [
    {
     "data": {
      "image/png": "[encoded data removed]",
      "text/plain": [
       "<Figure size 432x288 with 2 Axes>"
      ]
     },
     "metadata": {
      "needs_background": "light"
     },
     "output_type": "display_data"
    }
   ],
   "source": [
    "# modelo 5\n",
    "y_true, y_pred = y_test, model_5.predict(X_test)\n",
    "plot_confusion_matrix(confusion_matrix(y_true, y_pred),\n",
    "                      classes=['AFTER', 'BEFORE', 'OVERLAP'], \n",
    "                      title=\"Matriz de confusión Modelo 5\")"
   ]
  },
  {
   "cell_type": "markdown",
   "metadata": {},
   "source": [
    "### Cuál es la clase con mejor perfomance?, y la peor?\n",
    "Ningun modelo dio buenos resultados, se observan valores altos fuera de la diagonal.\n",
    "\n",
    "La clase mejor clasificada es la clase \"BEFORE\" en todos los modelos. Esta clase tiene el mayor soporte y el mejor f1-score en todos los modelos.\n",
    "\n",
    "La clase peor clasificada es la clase \"AFTER\". Esta clase tiene el ,enor soporte y el peor f1-score en todos los modelos.\n",
    "\n",
    "Necesitamos mas muestras de train para las clases \"AFTER\" y \"OVERLAP\" y asi tener mejor balanceo."
   ]
  },
  {
   "cell_type": "code",
   "execution_count": null,
   "metadata": {},
   "outputs": [],
   "source": []
  }
 ],
 "metadata": {
  "kernelspec": {
   "display_name": "Python 3",
   "language": "python",
   "name": "python3"
  },
  "language_info": {
   "codemirror_mode": {
    "name": "ipython",
    "version": 3
   },
   "file_extension": ".py",
   "mimetype": "text/x-python",
   "name": "python",
   "nbconvert_exporter": "python",
   "pygments_lexer": "ipython3",
   "version": "3.6.8"
  }
 },
 "nbformat": 4,
 "nbformat_minor": 2
}

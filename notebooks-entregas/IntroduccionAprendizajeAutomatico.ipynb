{
 "cells": [
  {
   "cell_type": "markdown",
   "metadata": {},
   "source": [
    "# Extracción de Relaciones Temporales en Textos Médicos"
   ]
  },
  {
   "cell_type": "markdown",
   "metadata": {},
   "source": [
    "### Recorrido por los datos\n",
    "Vamos a trabajar primero explorando los datos de ejemplo que se proveen con el challenge.\n",
    "Para eso hacemos uso de la función lift_data(), que extrae anotaciones de relaciones y las combina en una lista junto con el texto original."
   ]
  },
  {
   "cell_type": "code",
   "execution_count": 7,
   "metadata": {},
   "outputs": [],
   "source": [
    "from helpers import lift_dataset\n",
    "# lift_dataset devuelve un iterador\n",
    "dataset = list(lift_dataset('../dataset/SampleData'))"
   ]
  },
  {
   "cell_type": "markdown",
   "metadata": {},
   "source": [
    "Veamos algunos tipos de relaciones,"
   ]
  },
  {
   "cell_type": "code",
   "execution_count": 8,
   "metadata": {},
   "outputs": [
    {
     "data": {
      "text/plain": [
       "['EVENT=\"DISCHARGE\" 3:0 3:0',\n",
       " 'TIMEX3=\"10-10-94\" 4:0 4:0',\n",
       " 'type=\"SIMULTANEOUS\"\\n',\n",
       " 'DISCHARGE DATE : 10-10-94',\n",
       " '386.xml.tlink']"
      ]
     },
     "execution_count": 8,
     "metadata": {},
     "output_type": "execute_result"
    }
   ],
   "source": [
    "list(dataset)[12]"
   ]
  },
  {
   "cell_type": "markdown",
   "metadata": {},
   "source": [
    "Ahí tenemos dos eventos relacionados mediante la relación 'SIMULTANEOUS', y el texto original dónde aparece.\n",
    "Veamos otro caso,"
   ]
  },
  {
   "cell_type": "code",
   "execution_count": 9,
   "metadata": {},
   "outputs": [
    {
     "data": {
      "text/plain": [
       "['EVENT=\"tolerated\" 13:2 13:2',\n",
       " 'EVENT=\"the procedure\" 13:3 13:4',\n",
       " 'type=\"OVERLAP\"\\n',\n",
       " 'The patient tolerated the procedure well with a 2000 cc. blood loss and was autotransfused two units of blood .',\n",
       " '386.xml.tlink']"
      ]
     },
     "execution_count": 9,
     "metadata": {},
     "output_type": "execute_result"
    }
   ],
   "source": [
    "list(dataset)[24]"
   ]
  },
  {
   "cell_type": "markdown",
   "metadata": {},
   "source": [
    "El set completo de etiquetas se puede encontrar en __[este link.](https://www.ncbi.nlm.nih.gov/pmc/articles/PMC4237873/table/bau109-T2/?report=objectonly)__\n"
   ]
  },
  {
   "cell_type": "markdown",
   "metadata": {},
   "source": [
    "Podemos empezar intentando predecir únicamente las relaciones, esto es, asumiendo que los eventos y las expresiones temporales ya vienen dadas en el dataset de test."
   ]
  },
  {
   "cell_type": "markdown",
   "metadata": {},
   "source": [
    "### Estadísticas del dataset\n",
    "Baje el dataset completo desde la sección __[download de i2b2,](https://www.i2b2.org/NLP/DataSets/Download.php)__ intente levantarlo con el script lift_dataset. Mejore el script si es necesario. <br> Calcule algunas estadísticas, como se señalan abajo,"
   ]
  },
  {
   "cell_type": "code",
   "execution_count": 10,
   "metadata": {},
   "outputs": [
    {
     "name": "stdout",
     "output_type": "stream",
     "text": [
      "Train len 33635\n",
      "Test len 27736\n"
     ]
    }
   ],
   "source": [
    "import pandas as pd\n",
    "\n",
    "# número de elementos en el dataset (train y test)\n",
    "dataset_train = list(lift_dataset('../dataset/2012-07-15.original-annotation.release'))\n",
    "dataset_test = list(lift_dataset('../dataset/ground_truth/merged_i2b2'))\n",
    "\n",
    "df_train = pd.DataFrame(dataset_train)\n",
    "df_train.columns = ['event_1', 'event_2', 'relationship', 'text', 'source_file']\n",
    "print(\"Train len\", len(df_train.index))\n",
    "\n",
    "df_test = pd.DataFrame(dataset_test)\n",
    "df_test.columns = ['event_1', 'event_2', 'relationship', 'text', 'source_file']\n",
    "print(\"Test len\", len(df_test.index))"
   ]
  },
  {
   "cell_type": "code",
   "execution_count": 11,
   "metadata": {},
   "outputs": [],
   "source": [
    "import matplotlib.pyplot as plt\n",
    "import seaborn as sns\n",
    "\n",
    "# distribución de los labels de las relaciones (train y test)\n",
    "plt.figure(figsize=(8,6))\n",
    "plt.subplot(1, 2, 1)\n",
    "ax = sns.countplot(x=\"relationship\", data=df_train)\n",
    "ax.set_title(\"Train\")\n",
    "ax.set_xlabel(xlabel='Relationships', fontsize=16)\n",
    "ax.set_ylabel(ylabel='Count', fontsize=16)\n",
    "plt.xticks(rotation='vertical')\n",
    "\n",
    "plt.subplot(1, 2, 2)\n",
    "ax = sns.countplot(x=\"relationship\", data=df_test)\n",
    "ax.set_title(\"Test\")\n",
    "ax.set_xlabel(xlabel='Relationships', fontsize=16)\n",
    "ax.set_ylabel(ylabel='Count', fontsize=16)\n",
    "plt.xticks(rotation='vertical')\n",
    "\n",
    "plt.tight_layout()\n"
   ]
  },
  {
   "cell_type": "markdown",
   "metadata": {},
   "source": [
    "No tenemos todas las relaciones en nuestro conjunto de test."
   ]
  },
  {
   "cell_type": "markdown",
   "metadata": {},
   "source": [
    "### Limpiamos datset de test."
   ]
  },
  {
   "cell_type": "code",
   "execution_count": 12,
   "metadata": {},
   "outputs": [],
   "source": [
    "import spacy\n",
    "spacy_nlp = spacy.load('en_core_web_sm', disable=[\"tagger\", \"parser\", \"ner\"])\n",
    "df_test['text_as_doc'] = df_test['text'].apply(lambda x: spacy_nlp(x))\n",
    "df_test['text_lemma'] = df_test['text_as_doc'].apply(lambda doc: [word.lemma_ for word in doc if word.is_stop == False])"
   ]
  },
  {
   "cell_type": "code",
   "execution_count": 13,
   "metadata": {},
   "outputs": [],
   "source": [
    "def count(df, col_name, patterns):\n",
    "    count = sum([len(df[df[col_name].str.contains(pattern, regex=True) == True].index) for pattern in patterns])\n",
    "    return count\n",
    "\n",
    "def replace_with_patterns(df, col_name, patterns, replace_with):\n",
    "    for pattern in patterns:\n",
    "        df[col_name] = df[col_name].str.replace(pattern, replace_with, regex=True)"
   ]
  },
  {
   "cell_type": "code",
   "execution_count": 14,
   "metadata": {},
   "outputs": [
    {
     "name": "stdout",
     "output_type": "stream",
     "text": [
      "Cantidad de numeros en texto original:  20819\n",
      "Cantidad de fechas en texto original:  26077\n",
      "Cantidad de fechas en texto normalizado:  0\n",
      "Cantidad de numeros en texto normalizado:  0\n",
      "0                                admission date : DATE\n",
      "1    admission , patient diagnose acute pancreatitis .\n",
      "2    patient general good health seven day ago ( DA...\n",
      "3    patient general good health seven day ago ( DA...\n",
      "4    DATE patient general good health seven day ago...\n",
      "Name: text_norm, dtype: object\n"
     ]
    }
   ],
   "source": [
    "# A partir de los lemmas recreamamos el texto bajo una nueva columna que se normalizara.\n",
    "df_test['text_norm'] = df_test['text_lemma'].apply(lambda x: ' '.join(x))\n",
    "\n",
    "# lower case\n",
    "df_test['text_norm'] = df_test['text_norm'].str.lower()\n",
    "\n",
    "# Cantidad de numeros.\n",
    "numbers_patterns = ['\\d{1,9}\\.{0,1}\\d{0,4}']\n",
    "print('Cantidad de numeros en texto original: ', count(df_test, 'text', numbers_patterns))\n",
    "\n",
    "# Cantidad de fechas.\n",
    "dates_patterns = ['^\\d{4}\\s{0,1}-\\s{0,1}\\d{2}\\s{0,1}-\\s{0,1}\\d{2}$', '\\d{4}\\s{0,1}-\\s{0,1}\\d{2}\\s{0,1}-\\s{0,1}\\d{2}', '\\d{1,2}\\s{0,1}/\\s{0,1}\\d{1,2}\\s{0,1}/\\s{0,1}\\d{2,4}', '\\d{1,2}\\s{0,1}-\\s{0,1}\\d{1,2}']\n",
    "print('Cantidad de fechas en texto original: ', count(df_test, 'text', dates_patterns))\n",
    "\n",
    "# normalizamos fechas\n",
    "replace_with_patterns(df_test, 'text_norm', dates_patterns, 'DATE')\n",
    "print('Cantidad de fechas en texto normalizado: ', count(df_test, 'text_norm', dates_patterns))\n",
    "\n",
    "# normalizamos números\n",
    "replace_with_patterns(df_test, 'text_norm', numbers_patterns, 'NUM')\n",
    "print('Cantidad de numeros en texto normalizado: ', count(df_test, 'text_norm', numbers_patterns))\n",
    "\n",
    "print(df_test['text_norm'][:5])"
   ]
  },
  {
   "cell_type": "code",
   "execution_count": 15,
   "metadata": {},
   "outputs": [
    {
     "name": "stdout",
     "output_type": "stream",
     "text": [
      "BEFORE     15113\n",
      "OVERLAP     9894\n",
      "AFTER       2729\n",
      "Name: relationship_norm, dtype: int64\n"
     ]
    }
   ],
   "source": [
    "# limpiamos para que quede solo el nombre de la realcion.\n",
    "df_test['relationship_norm'] = df_test['relationship']\n",
    "df_test.relationship_norm = df_test.relationship_norm.str.replace('type=\"BEFORE\"\\n', 'BEFORE', regex=True)\n",
    "df_test.relationship_norm = df_test.relationship_norm.str.replace('type=\"OVERLAP\"\\n', 'OVERLAP', regex=True)\n",
    "df_test.relationship_norm = df_test.relationship_norm.str.replace('type=\"SIMULTANEOUS\"\\n', 'SIMULTANEOUS', regex=True)\n",
    "df_test.relationship_norm = df_test.relationship_norm.str.replace('type=\"simultaneous\"\\n', 'SIMULTANEOUS', regex=True)\n",
    "df_test.relationship_norm = df_test.relationship_norm.str.replace('type=\"BEFORE_OVERLAP\"\\n', 'BEFORE_OVERLAP', regex=True)\n",
    "df_test.relationship_norm = df_test.relationship_norm.str.replace('type=\"AFTER\"\\n', 'AFTER', regex=True)\n",
    "df_test.relationship_norm = df_test.relationship_norm.str.replace('type=\"DURING\"\\n', 'DURING', regex=True)\n",
    "df_test.relationship_norm = df_test.relationship_norm.str.replace('type=\"BEGUN_BY\"\\n', 'BEGUN_BY', regex=True)\n",
    "df_test.relationship_norm = df_test.relationship_norm.str.replace('type=\"ENDED_BY\"\\n', 'ENDED_BY', regex=True)\n",
    "df_test.relationship_norm = df_test.relationship_norm.str.replace('type=\"\"\\n', '', regex=True)\n",
    "print(df_test.relationship_norm.value_counts())"
   ]
  },
  {
   "cell_type": "code",
   "execution_count": 16,
   "metadata": {},
   "outputs": [],
   "source": [
    "# Guardamos datos curados de test.\n",
    "df_test.to_csv('../dataset/data_test_pos_curacion.csv')"
   ]
  },
  {
   "cell_type": "markdown",
   "metadata": {},
   "source": [
    "### Cagamos el dataset de train pero desde lo generado en curacion."
   ]
  },
  {
   "cell_type": "code",
   "execution_count": 17,
   "metadata": {},
   "outputs": [],
   "source": [
    "df_train = pd.read_csv('../dataset/data_pos_curacion.csv')"
   ]
  },
  {
   "cell_type": "markdown",
   "metadata": {},
   "source": [
    "### Solo nos vamos a quedar con la relaciones q esstan en el dataset de test."
   ]
  },
  {
   "cell_type": "code",
   "execution_count": 18,
   "metadata": {},
   "outputs": [
    {
     "data": {
      "text/plain": [
       "22739"
      ]
     },
     "execution_count": 18,
     "metadata": {},
     "output_type": "execute_result"
    }
   ],
   "source": [
    "df_train = df_train[df_train['relationship_norm'].isin(['BEFORE', 'OVERLAP', 'AFTER']) == True]\n",
    "len(df_train.index)"
   ]
  },
  {
   "cell_type": "code",
   "execution_count": 19,
   "metadata": {},
   "outputs": [
    {
     "data": {
      "text/plain": [
       "Index(['Unnamed: 0', 'event_1', 'event_2', 'relationship', 'text',\n",
       "       'source_file', 'text_as_doc', 'text_tokens', 'text_lemma', 'text_norm',\n",
       "       'text_norm_as_doc', 'text_norm_without_punck', 'text_norm_tokens',\n",
       "       'relationship_norm', 'event_1_type', 'event_2_type', 'event_1_norm',\n",
       "       'event_2_norm'],\n",
       "      dtype='object')"
      ]
     },
     "execution_count": 19,
     "metadata": {},
     "output_type": "execute_result"
    }
   ],
   "source": [
    "df_train.columns"
   ]
  },
  {
   "cell_type": "markdown",
   "metadata": {},
   "source": [
    "### Volvemos a visualizar las distribuciones."
   ]
  },
  {
   "cell_type": "code",
   "execution_count": 20,
   "metadata": {},
   "outputs": [
    {
     "data": {
      "image/png": "[encoded data removed]",
      "text/plain": [
       "<Figure size 576x432 with 2 Axes>"
      ]
     },
     "metadata": {
      "needs_background": "light"
     },
     "output_type": "display_data"
    }
   ],
   "source": [
    "# distribución de los labels de las relaciones (train y test)\n",
    "plt.figure(figsize=(8,6))\n",
    "plt.subplot(1, 2, 1)\n",
    "ax = sns.countplot(x=\"relationship_norm\", data=df_train)\n",
    "ax.set_title(\"Train\")\n",
    "ax.set_xlabel(xlabel='Relationships', fontsize=16)\n",
    "ax.set_ylabel(ylabel='Count', fontsize=16)\n",
    "plt.xticks(rotation='vertical')\n",
    "\n",
    "plt.subplot(1, 2, 2)\n",
    "ax = sns.countplot(x=\"relationship_norm\", data=df_test)\n",
    "ax.set_title(\"Test\")\n",
    "ax.set_xlabel(xlabel='Relationships', fontsize=16)\n",
    "ax.set_ylabel(ylabel='Count', fontsize=16)\n",
    "plt.xticks(rotation='vertical')\n",
    "\n",
    "plt.tight_layout()"
   ]
  },
  {
   "cell_type": "markdown",
   "metadata": {},
   "source": [
    "Ambos set de datos tienen 'distibuciones' similares."
   ]
  },
  {
   "cell_type": "markdown",
   "metadata": {},
   "source": [
    "### Metricas, cantidad de tokens."
   ]
  },
  {
   "cell_type": "code",
   "execution_count": 21,
   "metadata": {},
   "outputs": [
    {
     "data": {
      "text/plain": [
       "count    22739.000000\n",
       "mean        13.316769\n",
       "std          6.956455\n",
       "min          1.000000\n",
       "25%          8.000000\n",
       "50%         12.000000\n",
       "75%         17.000000\n",
       "max         76.000000\n",
       "Name: text_norm_tokens_len, dtype: float64"
      ]
     },
     "execution_count": 21,
     "metadata": {},
     "output_type": "execute_result"
    }
   ],
   "source": [
    "spacy_nlp = spacy.load('en_core_web_sm', disable=[\"tagger\", \"parser\", \"ner\"])\n",
    "df_train['text_norm_as_doc'] = df_train['text_norm'].apply(lambda x: spacy_nlp(x))\n",
    "df_train['text_norm_tokens'] = df_train['text_norm_as_doc'].apply(lambda doc: [token.text for token in doc if token.is_punct == False])\n",
    "df_train['text_norm_tokens_len'] = df_train['text_norm_tokens'].apply(lambda x: len(x))\n",
    "df_train['text_norm_tokens_len'].describe()"
   ]
  },
  {
   "cell_type": "code",
   "execution_count": 22,
   "metadata": {},
   "outputs": [
    {
     "data": {
      "text/plain": [
       "count    27736.000000\n",
       "mean        14.289011\n",
       "std          9.229395\n",
       "min          1.000000\n",
       "25%          8.000000\n",
       "50%         12.000000\n",
       "75%         18.000000\n",
       "max        103.000000\n",
       "Name: text_norm_tokens_len, dtype: float64"
      ]
     },
     "execution_count": 22,
     "metadata": {},
     "output_type": "execute_result"
    }
   ],
   "source": [
    "df_test['text_norm_as_doc'] = df_test['text_norm'].apply(lambda x: spacy_nlp(x))\n",
    "df_test['text_norm_tokens'] = df_test['text_norm_as_doc'].apply(lambda doc: [token.text for token in doc if token.is_punct == False])\n",
    "df_test['text_norm_tokens_len'] = df_test['text_norm_tokens'].apply(lambda x: len(x))\n",
    "df_test['text_norm_tokens_len'].describe()"
   ]
  },
  {
   "cell_type": "markdown",
   "metadata": {},
   "source": [
    "Ambos set de datos tienen muy similares metricas."
   ]
  },
  {
   "cell_type": "markdown",
   "metadata": {},
   "source": [
    "### Extracción de Features \n",
    "Vamos a extraer features de los datos, para esto se puede utilizar cualquier técnica que crea pertinente.\n",
    "Como sugerencia se recomienda utilizar los siguientes __[embeddings médicos.](https://github.com/cambridgeltl/BioNLP-2016)__\n",
    "hint: pruebe de agregar el tipo de evento como feature en el vector."
   ]
  },
  {
   "cell_type": "code",
   "execution_count": 23,
   "metadata": {},
   "outputs": [],
   "source": [
    "from gensim.models.keyedvectors import KeyedVectors\n",
    "embeddings = KeyedVectors.load_word2vec_format('../dataset/PubMed-shuffle-win-2.bin', binary=True)"
   ]
  },
  {
   "cell_type": "markdown",
   "metadata": {},
   "source": [
    "Otros recursos __[aqui](http://bio.nlplab.org/)__."
   ]
  },
  {
   "cell_type": "code",
   "execution_count": 34,
   "metadata": {},
   "outputs": [
    {
     "name": "stdout",
     "output_type": "stream",
     "text": [
      "Tokens fuera del embedding 13.848083124328198% del total del vocabulario.\n"
     ]
    }
   ],
   "source": [
    "# Soporte de tokens en el embedding.\n",
    "vocab = set()\n",
    "for tokens in df_train['text_norm_tokens'].tolist():\n",
    "    for token in tokens:\n",
    "        vocab.add(token)\n",
    "oov = set()\n",
    "oov_total = 0\n",
    "for token in vocab:\n",
    "    try:\n",
    "        embeddings[token]\n",
    "    except:\n",
    "        oov_total += 1\n",
    "        oov.add(token)\n",
    "print(\"Tokens fuera del embedding {}% del total del vocabulario.\".format((oov_total/len(vocab))*100))"
   ]
  },
  {
   "cell_type": "code",
   "execution_count": 40,
   "metadata": {},
   "outputs": [
    {
     "name": "stdout",
     "output_type": "stream",
     "text": [
      "False\n",
      "False\n"
     ]
    }
   ],
   "source": [
    "print('NUM' in oov)\n",
    "print('DATE' in oov)"
   ]
  },
  {
   "cell_type": "code",
   "execution_count": null,
   "metadata": {},
   "outputs": [],
   "source": [
    "import numpy as np\n",
    "def sentences_embeddings(model, sentence):\n",
    "    w_arr = np.empty((0,200), dtype='f')\n",
    "    for w in sentence:\n",
    "        try:\n",
    "            wrd_vector = model[w]\n",
    "        except:\n",
    "            wrd_vector = np.random.normal(size=(200,)) \n",
    "#                 wrd_vector = np.zeros(200)\n",
    "        w_arr = np.append(w_arr, np.array([wrd_vector]), axis=0)\n",
    "    s_mean = np.mean(w_arr, axis=0)\n",
    "    return s_mean"
   ]
  },
  {
   "cell_type": "code",
   "execution_count": null,
   "metadata": {},
   "outputs": [],
   "source": [
    "df_train['sentence_embedding'] = df_train['text_norm_tokens'].apply(lambda x: sentences_embeddings(embeddings, x))"
   ]
  },
  {
   "cell_type": "code",
   "execution_count": null,
   "metadata": {},
   "outputs": [],
   "source": [
    "df_train['sentence_embedding_len'] = df_train['sentence_embedding'].apply(lambda x: len(x))"
   ]
  },
  {
   "cell_type": "code",
   "execution_count": null,
   "metadata": {},
   "outputs": [],
   "source": [
    "df_train['sentence_embedding_len'].describe()"
   ]
  },
  {
   "cell_type": "code",
   "execution_count": null,
   "metadata": {},
   "outputs": [],
   "source": [
    "from sklearn import preprocessing\n",
    "le = preprocessing.LabelEncoder()\n",
    "le.fit(df_train['relationship_norm'])\n",
    "print(le.classes_)\n",
    "print(le.transform(['AFTER', 'BEFORE', 'OVERLAP']))"
   ]
  },
  {
   "cell_type": "code",
   "execution_count": null,
   "metadata": {},
   "outputs": [],
   "source": [
    "df_train['relationship_norm_encoded'] = df_train['relationship_norm'].apply(lambda x: le.transform([x]))"
   ]
  },
  {
   "cell_type": "code",
   "execution_count": null,
   "metadata": {},
   "outputs": [],
   "source": [
    "df_train['relationship_norm_encoded'][:3]"
   ]
  },
  {
   "cell_type": "code",
   "execution_count": null,
   "metadata": {},
   "outputs": [],
   "source": [
    "from sklearn.model_selection import train_test_split\n",
    "X, y = df_train['sentence_embedding'].to_numpy(), df_train['relationship_norm_encoded'].to_numpy()\n",
    "X = np.stack(X)\n",
    "y = np.stack(y)\n",
    "X_train, X_test, y_train, y_test = train_test_split(X, y.ravel(), test_size=0.2, random_state=47)\n",
    "print(X_train.shape)\n",
    "print(y_train.shape)\n",
    "print(X_test.shape)\n",
    "print(y_test.shape)"
   ]
  },
  {
   "cell_type": "code",
   "execution_count": null,
   "metadata": {},
   "outputs": [],
   "source": [
    "# Guardamos datos de test/train transformados a features/encoded.\n",
    "import pickle\n",
    "with open('../dataset/features_X_train.pkl','wb') as f:\n",
    "    pickle.dump(X_train, f)\n",
    "with open('../dataset/X_test.pkl','wb') as f:\n",
    "    pickle.dump(X_test, f)\n",
    "with open('../dataset/features_y_train.pkl','wb') as f:\n",
    "    pickle.dump(y_train, f)\n",
    "with open('../dataset/features_y_test.pkl','wb') as f:\n",
    "    pickle.dump(y_test, f)"
   ]
  },
  {
   "cell_type": "markdown",
   "metadata": {},
   "source": [
    "### Clasificación \n",
    "En esta parte vamos a entrenar un clasificador de regresión logística, y vamos a calcular métricas sobre el conjunto de test."
   ]
  },
  {
   "cell_type": "code",
   "execution_count": 65,
   "metadata": {},
   "outputs": [
    {
     "data": {
      "text/plain": [
       "GridSearchCV(cv=5, error_score='raise-deprecating',\n",
       "             estimator=LogisticRegression(C=1.0, class_weight=None, dual=False,\n",
       "                                          fit_intercept=True,\n",
       "                                          intercept_scaling=1, l1_ratio=None,\n",
       "                                          max_iter=100, multi_class='auto',\n",
       "                                          n_jobs=None, penalty='l2',\n",
       "                                          random_state=47, solver='warn',\n",
       "                                          tol=0.0001, verbose=0,\n",
       "                                          warm_start=False),\n",
       "             iid='warn', n_jobs=None,\n",
       "             param_grid={'C': [0.1, 0.01, 0.001, 0.0001],\n",
       "                         'class_weight': [None, 'balanced'], 'penalty': ['l2'],\n",
       "                         'solver': ['liblinear', 'newton-cg', 'sag', 'saga',\n",
       "                                    'lbfgs']},\n",
       "             pre_dispatch='2*n_jobs', refit=True, return_train_score=False,\n",
       "             scoring='accuracy', verbose=0)"
      ]
     },
     "execution_count": 65,
     "metadata": {},
     "output_type": "execute_result"
    },
    {
     "data": {
      "text/plain": [
       "<Figure size 1120x320 with 0 Axes>"
      ]
     },
     "metadata": {},
     "output_type": "display_data"
    }
   ],
   "source": [
    "# entrenamiento\n",
    "from sklearn.model_selection import GridSearchCV\n",
    "from sklearn.metrics import accuracy_score, classification_report, confusion_matrix\n",
    "from sklearn.linear_model import LogisticRegression\n",
    "\n",
    "plt.figure(figsize=(14, 4), dpi= 80, facecolor='w', edgecolor='k')\n",
    "\n",
    "exploring_params = {\n",
    "    'penalty': ['l2'],\n",
    "    'C': [0.1, 0.01, 0.001, 0.0001],\n",
    "    'solver': ['liblinear', 'newton-cg', 'sag', 'saga', 'lbfgs'],\n",
    "    'class_weight': [None, 'balanced']\n",
    "}\n",
    "m = LogisticRegression(random_state=47, multi_class='auto')\n",
    "model = GridSearchCV(m, exploring_params, cv=5, scoring='accuracy')\n",
    "model.fit(X_train, y_train)\n"
   ]
  },
  {
   "cell_type": "code",
   "execution_count": 66,
   "metadata": {},
   "outputs": [
    {
     "name": "stdout",
     "output_type": "stream",
     "text": [
      "Mejor conjunto de parámetros:\n",
      "{'C': 0.1, 'class_weight': None, 'penalty': 'l2', 'solver': 'lbfgs'}\n",
      "\n",
      "Reporte de clasificación para el mejor clasificador (sobre conjunto de evaluación):\n",
      "\n",
      "              precision    recall  f1-score   support\n",
      "\n",
      "           0       0.39      0.03      0.05       435\n",
      "           1       0.73      0.89      0.80      2734\n",
      "           2       0.60      0.51      0.55      1379\n",
      "\n",
      "    accuracy                           0.69      4548\n",
      "   macro avg       0.57      0.48      0.47      4548\n",
      "weighted avg       0.66      0.69      0.65      4548\n",
      "\n",
      "\n"
     ]
    }
   ],
   "source": [
    "print(\"Mejor conjunto de parámetros:\")\n",
    "print(model.best_params_, end=\"\\n\\n\")\n",
    "\n",
    "print(\"Reporte de clasificación para el mejor clasificador (sobre conjunto de evaluación):\", end=\"\\n\\n\")\n",
    "y_true, y_pred = y_test, model.predict(X_test)\n",
    "print(classification_report(y_true, y_pred), end=\"\\n\\n\")"
   ]
  },
  {
   "cell_type": "code",
   "execution_count": 67,
   "metadata": {},
   "outputs": [
    {
     "data": {
      "image/png": "[encoded data removed]",
      "text/plain": [
       "<Figure size 432x288 with 2 Axes>"
      ]
     },
     "metadata": {
      "needs_background": "light"
     },
     "output_type": "display_data"
    }
   ],
   "source": [
    "from ml.visualization import plot_confusion_matrix\n",
    "plot_confusion_matrix(confusion_matrix(y_true, y_pred),\n",
    "                      classes=le.classes_, title=\"Matriz de confusión\")  "
   ]
  },
  {
   "cell_type": "markdown",
   "metadata": {},
   "source": [
    "En el reporte de clasificacion no vemos buenos numeros en el f1-core para las clases \"AFTER\" y \"OVERLAP\". El problema podria no ser linealmente separable y tenemos soportes muy distintos para las distintas clases.\n",
    "\n",
    "En la matriz de confusion de arriba vemos altos valores por fuera de la diagonal."
   ]
  },
  {
   "cell_type": "code",
   "execution_count": null,
   "metadata": {},
   "outputs": [],
   "source": []
  }
 ],
 "metadata": {
  "kernelspec": {
   "display_name": "Python 3",
   "language": "python",
   "name": "python3"
  },
  "language_info": {
   "codemirror_mode": {
    "name": "ipython",
    "version": 3
   },
   "file_extension": ".py",
   "mimetype": "text/x-python",
   "name": "python",
   "nbconvert_exporter": "python",
   "pygments_lexer": "ipython3",
   "version": "3.6.8"
  }
 },
 "nbformat": 4,
 "nbformat_minor": 2
}
